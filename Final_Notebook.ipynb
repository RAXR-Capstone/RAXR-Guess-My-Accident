{
 "cells": [
  {
   "cell_type": "markdown",
   "id": "5d6aca40-8245-4c85-be7d-5aa4ed026f36",
   "metadata": {},
   "source": [
    "# Imports"
   ]
  },
  {
   "cell_type": "code",
   "execution_count": 1,
   "id": "676019ce-30cb-4b04-9b77-4ac0e92c2aa8",
   "metadata": {},
   "outputs": [
    {
     "ename": "FileNotFoundError",
     "evalue": "[Errno 2] No such file or directory: 'work_space/Pictures/sa.png'",
     "output_type": "error",
     "traceback": [
      "\u001b[0;31m---------------------------------------------------------------------------\u001b[0m",
      "\u001b[0;31mFileNotFoundError\u001b[0m                         Traceback (most recent call last)",
      "\u001b[0;32m<ipython-input-1-a3d5ea24ac18>\u001b[0m in \u001b[0;36m<module>\u001b[0;34m\u001b[0m\n\u001b[1;32m      1\u001b[0m \u001b[0;32mimport\u001b[0m \u001b[0mpandas\u001b[0m \u001b[0;32mas\u001b[0m \u001b[0mpd\u001b[0m\u001b[0;34m\u001b[0m\u001b[0;34m\u001b[0m\u001b[0m\n\u001b[1;32m      2\u001b[0m \u001b[0;32mimport\u001b[0m \u001b[0mnumpy\u001b[0m \u001b[0;32mas\u001b[0m \u001b[0mnp\u001b[0m\u001b[0;34m\u001b[0m\u001b[0;34m\u001b[0m\u001b[0m\n\u001b[0;32m----> 3\u001b[0;31m \u001b[0;32mimport\u001b[0m \u001b[0mprepare\u001b[0m\u001b[0;34m,\u001b[0m \u001b[0mexplore\u001b[0m\u001b[0;34m,\u001b[0m \u001b[0mevaluate\u001b[0m\u001b[0;34m\u001b[0m\u001b[0;34m\u001b[0m\u001b[0m\n\u001b[0m",
      "\u001b[0;32m~/codeup-data-science/project_danger_zone/explore.py\u001b[0m in \u001b[0;36m<module>\u001b[0;34m\u001b[0m\n\u001b[1;32m     13\u001b[0m \u001b[0;34m\u001b[0m\u001b[0m\n\u001b[1;32m     14\u001b[0m \u001b[0;34m\u001b[0m\u001b[0m\n\u001b[0;32m---> 15\u001b[0;31m \u001b[0mimg\u001b[0m \u001b[0;34m=\u001b[0m \u001b[0mmpimg\u001b[0m\u001b[0;34m.\u001b[0m\u001b[0mimread\u001b[0m\u001b[0;34m(\u001b[0m\u001b[0;34m'work_space/Pictures/sa.png'\u001b[0m\u001b[0;34m)\u001b[0m\u001b[0;34m\u001b[0m\u001b[0;34m\u001b[0m\u001b[0m\n\u001b[0m\u001b[1;32m     16\u001b[0m \u001b[0;34m\u001b[0m\u001b[0m\n\u001b[1;32m     17\u001b[0m \u001b[0;34m\u001b[0m\u001b[0m\n",
      "\u001b[0;32m/usr/local/anaconda3/lib/python3.8/site-packages/matplotlib/image.py\u001b[0m in \u001b[0;36mimread\u001b[0;34m(fname, format)\u001b[0m\n\u001b[1;32m   1494\u001b[0m                     \u001b[0mresponse\u001b[0m \u001b[0;34m=\u001b[0m \u001b[0mio\u001b[0m\u001b[0;34m.\u001b[0m\u001b[0mBytesIO\u001b[0m\u001b[0;34m(\u001b[0m\u001b[0mresponse\u001b[0m\u001b[0;34m.\u001b[0m\u001b[0mread\u001b[0m\u001b[0;34m(\u001b[0m\u001b[0;34m)\u001b[0m\u001b[0;34m)\u001b[0m\u001b[0;34m\u001b[0m\u001b[0;34m\u001b[0m\u001b[0m\n\u001b[1;32m   1495\u001b[0m                 \u001b[0;32mreturn\u001b[0m \u001b[0mimread\u001b[0m\u001b[0;34m(\u001b[0m\u001b[0mresponse\u001b[0m\u001b[0;34m,\u001b[0m \u001b[0mformat\u001b[0m\u001b[0;34m=\u001b[0m\u001b[0mext\u001b[0m\u001b[0;34m)\u001b[0m\u001b[0;34m\u001b[0m\u001b[0;34m\u001b[0m\u001b[0m\n\u001b[0;32m-> 1496\u001b[0;31m     \u001b[0;32mwith\u001b[0m \u001b[0mimg_open\u001b[0m\u001b[0;34m(\u001b[0m\u001b[0mfname\u001b[0m\u001b[0;34m)\u001b[0m \u001b[0;32mas\u001b[0m \u001b[0mimage\u001b[0m\u001b[0;34m:\u001b[0m\u001b[0;34m\u001b[0m\u001b[0;34m\u001b[0m\u001b[0m\n\u001b[0m\u001b[1;32m   1497\u001b[0m         return (_pil_png_to_float_array(image)\n\u001b[1;32m   1498\u001b[0m                 \u001b[0;32mif\u001b[0m \u001b[0misinstance\u001b[0m\u001b[0;34m(\u001b[0m\u001b[0mimage\u001b[0m\u001b[0;34m,\u001b[0m \u001b[0mPIL\u001b[0m\u001b[0;34m.\u001b[0m\u001b[0mPngImagePlugin\u001b[0m\u001b[0;34m.\u001b[0m\u001b[0mPngImageFile\u001b[0m\u001b[0;34m)\u001b[0m \u001b[0;32melse\u001b[0m\u001b[0;34m\u001b[0m\u001b[0;34m\u001b[0m\u001b[0m\n",
      "\u001b[0;32m/usr/local/anaconda3/lib/python3.8/site-packages/PIL/ImageFile.py\u001b[0m in \u001b[0;36m__init__\u001b[0;34m(self, fp, filename)\u001b[0m\n\u001b[1;32m    107\u001b[0m         \u001b[0;32mif\u001b[0m \u001b[0misPath\u001b[0m\u001b[0;34m(\u001b[0m\u001b[0mfp\u001b[0m\u001b[0;34m)\u001b[0m\u001b[0;34m:\u001b[0m\u001b[0;34m\u001b[0m\u001b[0;34m\u001b[0m\u001b[0m\n\u001b[1;32m    108\u001b[0m             \u001b[0;31m# filename\u001b[0m\u001b[0;34m\u001b[0m\u001b[0;34m\u001b[0m\u001b[0;34m\u001b[0m\u001b[0m\n\u001b[0;32m--> 109\u001b[0;31m             \u001b[0mself\u001b[0m\u001b[0;34m.\u001b[0m\u001b[0mfp\u001b[0m \u001b[0;34m=\u001b[0m \u001b[0mopen\u001b[0m\u001b[0;34m(\u001b[0m\u001b[0mfp\u001b[0m\u001b[0;34m,\u001b[0m \u001b[0;34m\"rb\"\u001b[0m\u001b[0;34m)\u001b[0m\u001b[0;34m\u001b[0m\u001b[0;34m\u001b[0m\u001b[0m\n\u001b[0m\u001b[1;32m    110\u001b[0m             \u001b[0mself\u001b[0m\u001b[0;34m.\u001b[0m\u001b[0mfilename\u001b[0m \u001b[0;34m=\u001b[0m \u001b[0mfp\u001b[0m\u001b[0;34m\u001b[0m\u001b[0;34m\u001b[0m\u001b[0m\n\u001b[1;32m    111\u001b[0m             \u001b[0mself\u001b[0m\u001b[0;34m.\u001b[0m\u001b[0m_exclusive_fp\u001b[0m \u001b[0;34m=\u001b[0m \u001b[0;32mTrue\u001b[0m\u001b[0;34m\u001b[0m\u001b[0;34m\u001b[0m\u001b[0m\n",
      "\u001b[0;31mFileNotFoundError\u001b[0m: [Errno 2] No such file or directory: 'work_space/Pictures/sa.png'"
     ]
    }
   ],
   "source": [
    "#import libraries\n",
    "import pandas as pd\n",
    "import numpy as np\n",
    "\n",
    "#import our helper functions\n",
    "import prepare, explore, evaluate"
   ]
  },
  {
   "cell_type": "markdown",
   "id": "e7cca55d-49bd-4718-be3c-ab6984888f71",
   "metadata": {},
   "source": [
    "<p style=\"text-align:center;\"><img src=\"https://raw.githubusercontent.com/RAXR-Capstone/project_danger_zone/master/work_space/Pictures/danger_banner.png\" alt=\"Logo\"></p>\n",
    "\n",
    "# Project Danger Zone \n",
    "Brought to you by data scientists:\n",
    " - Xavier Carter\n",
    " - Robert Murphy\n",
    " - Anna Vu\n",
    " - Ray Zapata\n",
    "<br>\n",
    "<br>\n",
    "\n",
    "## Our Mission\n",
    "San Antonio is the 7th most populated, and one of the fastest growing cities in the U.S.A. In Bexar County alone, there were nearly 50,000 car crashes in 2020. Of these, 16,780 were injured, and 200 died. With an increasing number of drivers on the roads, there is a recurring need to keep people safe. Using 2021 San Antonio car accident data, Project Danger Zone will look into features that are likely to cause casualties, so that insight can be delivered to entities such as TXDot, Bexar County Public Works, insurance companies, and the general public.\n"
   ]
  },
  {
   "cell_type": "markdown",
   "id": "062de3d9-07ec-4083-9a84-e0cea98f23fb",
   "metadata": {},
   "source": [
    "## Executive Summary\n",
    "- Location may matter for where an accident might occur, but location alone does not play a role in injury from an accident\n",
    "- The impact on where the car is damaged, as well as the type of car driven, are key factors in predicting accident injury. \n",
    "- SA Local Events: Home Spurs games does not increase risk of injury.\n",
    "- SA Local Events: During Fiesta dates, there seems to be statistical evidence to show an increase in accident injury\n",
    "- SA Local Events: During 4th of July (late July 4th, early July 5th) there were more accidents caused due to intoxication than normal days, and there was evidence to suggest a greater likelihood of being injured in a car accident.\n",
    "- While optimizing for recall, we utilized ______ and were able get acuracy of _______  and a recall of _______ , beating the baseline by _______"
   ]
  },
  {
   "cell_type": "markdown",
   "id": "e98d095c-51d8-46cc-afa7-1edf08ea872b",
   "metadata": {},
   "source": [
    "## Acquire \n",
    "- Utilizing open source information from https://app.myaccident.org/, we were able to extract in the relevant information for car accidents.\n",
    "- Also utilized API from the NHTSA to use the broken vehicle identification number to extract the vehicle type."
   ]
  },
  {
   "cell_type": "code",
   "execution_count": null,
   "id": "483db5b9-becd-4aee-8553-1e5b9f04aee1",
   "metadata": {},
   "outputs": [],
   "source": [
    "#bring in our accident data into a pandas dataframe\n",
    "df = pd.read_csv('accident_data.csv')"
   ]
  },
  {
   "cell_type": "code",
   "execution_count": null,
   "id": "f32dced9-2f5c-4d1b-b18b-e26320be89c1",
   "metadata": {},
   "outputs": [],
   "source": [
    "#look at a sample of 3 entries\n",
    "df.sample(3)"
   ]
  },
  {
   "cell_type": "code",
   "execution_count": null,
   "id": "f6679a20-2673-4537-bd86-9a1823079cb1",
   "metadata": {},
   "outputs": [],
   "source": [
    "#info about our data\n",
    "df.info()"
   ]
  },
  {
   "cell_type": "code",
   "execution_count": null,
   "id": "2727defc-eebf-498e-b212-6da957d2735c",
   "metadata": {},
   "outputs": [],
   "source": [
    "#check the number of rows and columns\n",
    "df.shape"
   ]
  },
  {
   "cell_type": "code",
   "execution_count": null,
   "id": "d1dca171-f977-4eff-ab57-db58e8e6bb69",
   "metadata": {},
   "outputs": [],
   "source": [
    "#check for columns with nulls/missing values\n",
    "df.isna().sum()"
   ]
  },
  {
   "cell_type": "markdown",
   "id": "296ae3b4-d5cf-4e74-8534-d69d723213d1",
   "metadata": {},
   "source": [
    "### Takeaways\n",
    "- Dropping any columns not relevant to the model\n",
    "- Handling accident factor column, extracting valuable information from the accident description\n",
    "- Extracting time of day and day name of the week from the crash_date\n",
    "- Hot encoding variables may be useful"
   ]
  },
  {
   "cell_type": "markdown",
   "id": "9c369023-8e17-44f4-ae6a-6423fd6016f5",
   "metadata": {},
   "source": [
    "## Prepare / Feature Engineering \n",
    "- Taking into account what was seen above, we also took into account:\n",
    "    * remove duplicate observations\n",
    "    * crash_data to approprate datetime format\n",
    "    * using 24-hour time\n",
    "    * drop unnecessary columns\n",
    "    * encode variables, such as where the car was impacted upon crash, and accident factors\n",
    "    * extract features from crash_date\n",
    "    * split into train and test for modeling "
   ]
  },
  {
   "cell_type": "code",
   "execution_count": null,
   "id": "b1263570-4659-49af-a115-2d9bf146a0ca",
   "metadata": {},
   "outputs": [],
   "source": [
    "#prepare our data for use, and split into train and test sets\n",
    "train, test = prepare.collision_data()"
   ]
  },
  {
   "cell_type": "code",
   "execution_count": null,
   "id": "423ec07c-2e25-4428-87c1-13abf6a1eecd",
   "metadata": {},
   "outputs": [],
   "source": [
    "#assure the shapes are reasonable\n",
    "train.shape, test.shape"
   ]
  },
  {
   "cell_type": "code",
   "execution_count": null,
   "id": "f81260ba-2f18-4d18-afd3-f1e84b6a9b14",
   "metadata": {},
   "outputs": [],
   "source": [
    "#look at a sample of our train data\n",
    "train.sample(2)"
   ]
  },
  {
   "cell_type": "code",
   "execution_count": null,
   "id": "fb794ae8-7609-4250-abcc-23728f31e168",
   "metadata": {},
   "outputs": [],
   "source": [
    "#look at all of our columns, including new ones\n",
    "train.columns"
   ]
  },
  {
   "cell_type": "markdown",
   "id": "49f74c76-1245-45cd-9dec-42c804ca7a60",
   "metadata": {},
   "source": [
    "# Explore\n",
    "- Looking at univariate distributions"
   ]
  },
  {
   "cell_type": "markdown",
   "id": "6457bcac-4752-45db-86ba-c7af65a995c2",
   "metadata": {},
   "source": [
    "### Univariate"
   ]
  },
  {
   "cell_type": "code",
   "execution_count": null,
   "id": "2e8d1421-7203-44b9-932f-ad5d25b1f6cf",
   "metadata": {},
   "outputs": [],
   "source": [
    "#look at distributions of single variables\n",
    "explore.get_distribution(train.drop(columns=['crash_date','crash_id','crash_latitude', 'crash_longitude','vehicle_id','fault_narrative']))"
   ]
  },
  {
   "cell_type": "markdown",
   "id": "dcee7f8c-c0f9-4842-85f2-cf17a3bd507d",
   "metadata": {},
   "source": [
    "#### Take Aways \n",
    "- Most prominant accident type only involves 2 cars.\n",
    "- Each car contains 1 person majority of the time.\n",
    "- The most frequent accident cause is driver inattention, followed by distaction, then faulty manuevers.\n",
    "- There's variety of car makes and colors within the data set. White, followed by black cars, are present in accidents the most in the last 6 months.\n",
    "- In the last 6 months, roads where the speed limit were 45 MPH ,followed by 35, and 65, have the most accidents involved.\n",
    "- Cars followed by mpv(multi person vehicles ie. mini vans and crossovers) occur the most in accidents, followed by trucks"
   ]
  },
  {
   "cell_type": "markdown",
   "id": "f35ee95e-b145-4e56-99eb-7b89354513aa",
   "metadata": {},
   "source": [
    "### Bivariate"
   ]
  },
  {
   "cell_type": "code",
   "execution_count": null,
   "id": "76f7aed0-ffcc-40f9-b2d5-4502d11c492d",
   "metadata": {},
   "outputs": [],
   "source": [
    "#look at how our variables compare to our target, injury_class\n",
    "explore.compare_to_target(train.drop(columns=['crash_date','crash_id','crash_latitude', 'crash_longitude','vehicle_id','driver_age_bin','vehicle_year_bin','fault_narrative']),'injury_class')"
   ]
  },
  {
   "cell_type": "markdown",
   "id": "19a91278-c417-4f00-8dfc-c4f178de8dac",
   "metadata": {},
   "source": [
    "#### Takeaways\n",
    "- Unbalanced data set in relation to the target variable of injury class\n",
    "- Distributed car impacts and airbags still have possible signiifance, other columns tend to be unison to their respected columns\n",
    "- almost all motorcycle accidents end in injury."
   ]
  },
  {
   "cell_type": "markdown",
   "id": "ca505a17-7586-461a-a4f3-1e63639297cf",
   "metadata": {},
   "source": [
    "### Multivariate \n",
    "- By utilizing a folium map (seen within the notebook), we were able to visually see if location, alone, played a role in injury"
   ]
  },
  {
   "cell_type": "code",
   "execution_count": null,
   "id": "c34866c8-a01d-42f6-8d17-478ba90c3e6e",
   "metadata": {},
   "outputs": [],
   "source": [
    "#use folium map to visualize where accidents occur in San Antonio\n",
    "m = explore.plot_map(train)\n",
    "m"
   ]
  },
  {
   "cell_type": "code",
   "execution_count": null,
   "id": "1b2bb920-0c0c-42d2-b160-edcf40a8722f",
   "metadata": {},
   "outputs": [],
   "source": [
    "#heatmap to see the correlation between numeric variables and our target, injury_class\n",
    "explore.get_heatmap(train, 'injury_class')"
   ]
  },
  {
   "cell_type": "markdown",
   "id": "0af22fca-7883-40c5-9ce2-b97f1bbba147",
   "metadata": {},
   "source": [
    "## Takeaways\n",
    "- Variables that correlate to accident were whether the air bag deployed, and vehicle occupant count\n",
    "- Many of the variables did not correlate alone, after clustering some of the variables together, we were able to find more correlation to the target variable\n",
    "- the clusters created that were taking speed and damage into account tend to correlate better for model usage "
   ]
  },
  {
   "cell_type": "markdown",
   "id": "7664cfca-95e0-44da-b9b2-d8737f9cf02b",
   "metadata": {},
   "source": [
    "## Does time of day play a role in accident injury?"
   ]
  },
  {
   "cell_type": "code",
   "execution_count": null,
   "id": "bc90e1b0-3919-4167-8e43-d02e9af810d1",
   "metadata": {},
   "outputs": [],
   "source": [
    "#plot injury according to time of day, over the 7 days of the week\n",
    "explore.plot_hour(train)"
   ]
  },
  {
   "cell_type": "markdown",
   "id": "6c77fd0c-c116-49d4-8d13-ea099a8ef4a0",
   "metadata": {},
   "source": [
    "**Visual Takeaways**\n",
    "\n",
    "- Early evenings for: Monday, Tuesday, and Saturday shows a decrease to injury rate before a sudden upward trend into the early hours of the following day\n",
    "- Wednesday, and Thursday seem to be more consistently near the mean rate of injury versus other days\n",
    "- Sunday early morning has the highest rate of traffic injuries throughout the data"
   ]
  },
  {
   "cell_type": "markdown",
   "id": "1996cc47-494e-45d7-ad30-22c5f1653113",
   "metadata": {},
   "source": [
    "### Hour"
   ]
  },
  {
   "cell_type": "code",
   "execution_count": null,
   "id": "f317bf77-0685-451d-9404-c4346250b05c",
   "metadata": {},
   "outputs": [],
   "source": [
    "#look at hours\n",
    "explore.time_breakdown(train)"
   ]
  },
  {
   "cell_type": "markdown",
   "id": "c5f2e520-114d-449a-99b9-483a15be1e72",
   "metadata": {},
   "source": [
    "**Hypothesis Testing**\n",
    "\n",
    "H$_{0}$: The hour of the MVC is independent of whether an injury occurs or not."
   ]
  },
  {
   "cell_type": "code",
   "execution_count": null,
   "id": "bf7651bb-fccb-4bcf-950b-0b6378be8914",
   "metadata": {},
   "outputs": [],
   "source": [
    "# run chi_test to test for significance between crash_hour and injury_class\n",
    "evaluate.chi_test(train.crash_hour, train.injury_class)"
   ]
  },
  {
   "cell_type": "markdown",
   "id": "af1bc68b-57ce-4f56-9673-6dab942feb5b",
   "metadata": {},
   "source": [
    "**Takeaways**\n",
    "\n",
    "In the visual percentages of hour of accident with injury percentages, there is a marked increased in 0300 hours to 21%. Using $x^2$ testing, there is shown to be a statistical difference in the to categories of hour and if injury occurs."
   ]
  },
  {
   "cell_type": "markdown",
   "id": "0b80d5b4-007d-4eb9-bea2-9f4d6c4aa9f1",
   "metadata": {},
   "source": [
    "### Day of Week"
   ]
  },
  {
   "cell_type": "code",
   "execution_count": null,
   "id": "ce5df8e1-bd3e-4990-8abe-336307306ed4",
   "metadata": {},
   "outputs": [],
   "source": [
    "#plot the days of the week and injuries\n",
    "explore.plot_dow(train)"
   ]
  },
  {
   "cell_type": "markdown",
   "id": "2c3edd69-b165-4b4d-aa96-759f72fa1adc",
   "metadata": {},
   "source": [
    "**Hypothesis Testing**\n",
    "\n",
    "H$_{0}$: The day of the week is independent of whether or not injury occurs as result of an MVC."
   ]
  },
  {
   "cell_type": "code",
   "execution_count": null,
   "id": "73fb9fa1-97f0-4021-a50d-366798f938ad",
   "metadata": {},
   "outputs": [],
   "source": [
    "#run chi_test to test for significance between crash_day and injury_class\n",
    "evaluate.chi_test(train.crash_day, train.injury_class)"
   ]
  },
  {
   "cell_type": "markdown",
   "id": "a080aaa3-2ae5-427d-bbae-45b76f682bec",
   "metadata": {},
   "source": [
    "**Takeaways**\n",
    "\n",
    "Despite the visual percentage of injuries across days of the week showing increased rates on certain days over others, the statistical testing failed to reject the null hypothesis of independence between the two variables."
   ]
  },
  {
   "cell_type": "markdown",
   "id": "db0be9fa-49e8-43f1-af05-9f97169c6327",
   "metadata": {},
   "source": [
    "## Do special events play a role in car accident injury?"
   ]
  },
  {
   "cell_type": "markdown",
   "id": "d61ab79b-6801-4831-bc56-0c1844788861",
   "metadata": {},
   "source": [
    "### Spurs Home Games (20-21 season) "
   ]
  },
  {
   "cell_type": "code",
   "execution_count": null,
   "id": "1379712d-cc1d-46d9-b512-b3231ed2be6f",
   "metadata": {},
   "outputs": [],
   "source": [
    "#plot where accidents occur during times after noon on Spurs home game days\n",
    "explore.plot_spurs(train)"
   ]
  },
  {
   "cell_type": "markdown",
   "id": "07ae5f76-4593-4d5c-a1a2-03b8bfb856ee",
   "metadata": {},
   "source": [
    "**Hypothesis Testing**\n",
    "\n",
    "H$_{0}$: Injury occuring as a result of MVCs is independent of of being near the AT&T Center on days of Spurs Home Games."
   ]
  },
  {
   "cell_type": "code",
   "execution_count": null,
   "id": "6a6e15b8-b5a3-4b4f-833a-c3e09fd4cfd0",
   "metadata": {},
   "outputs": [],
   "source": [
    "#run chi_test to see if a different number of accidents occur closer to the AT&T center, vs. the city as a whole\n",
    "evaluate.chi_test(train[train.spurs].att_1, train[train.spurs].injury_class)"
   ]
  },
  {
   "cell_type": "code",
   "execution_count": null,
   "id": "faa9f3cc-d1c7-47ce-818e-3f25c85f431c",
   "metadata": {},
   "outputs": [],
   "source": [
    "#run chi_test to see if a different number of accidents occur around the AT&T center, vs. the city as a whole\n",
    "evaluate.chi_test(train[train.spurs].att_2, train[train.spurs].injury_class)"
   ]
  },
  {
   "cell_type": "code",
   "execution_count": null,
   "id": "76b13681-a004-413a-9f6b-cbe813243235",
   "metadata": {},
   "outputs": [],
   "source": [
    "#run chi_test to see if there is a significant difference in injuries reported on spurs home game days\n",
    "evaluate.chi_test(train.spurs, train.injury_class)"
   ]
  },
  {
   "cell_type": "code",
   "execution_count": null,
   "id": "b0a5f375-f7e0-4f4a-83ab-ddcda5ca4fb4",
   "metadata": {},
   "outputs": [],
   "source": [
    "#what about intoxication on these days?\n",
    "evaluate.chi_test(train[train.spurs].fault_intoxication, train[train.spurs].injury_class)"
   ]
  },
  {
   "cell_type": "markdown",
   "id": "68f6e83a-0f4f-4d0c-813b-c713d45534dd",
   "metadata": {},
   "source": [
    "**Takeaways**\n",
    "- The statistical testing failed to reject the null hypothesis of independence between the two variables."
   ]
  },
  {
   "cell_type": "markdown",
   "id": "948bfbc4-3a03-48f6-83e8-a8e53f8dd5d6",
   "metadata": {},
   "source": [
    "### Fiesta 2021"
   ]
  },
  {
   "cell_type": "code",
   "execution_count": null,
   "id": "f2bb7356-355b-4e53-ae01-2fdbe4d946f9",
   "metadata": {},
   "outputs": [],
   "source": [
    "#let's look at accidents on Fiesta days\n",
    "explore.plot_fiesta(train)"
   ]
  },
  {
   "cell_type": "code",
   "execution_count": null,
   "id": "e2d1dc2f-5a44-475f-9ea7-003e7d6ad1b5",
   "metadata": {},
   "outputs": [],
   "source": [
    "#run chi_test to see if fiesta accidents are independent of reported injuries\n",
    "evaluate.chi_test(train.fiesta, train.injury_class)"
   ]
  },
  {
   "cell_type": "code",
   "execution_count": null,
   "id": "1b0d2f92-5121-4ae1-85cb-891fd3050e10",
   "metadata": {},
   "outputs": [],
   "source": [
    "#is there independence between intoxicated drivers and reported injuries during Fiesta?\n",
    "evaluate.chi_test(train[train.fault_intoxication ==1].fiesta, train.injury_class)"
   ]
  },
  {
   "cell_type": "code",
   "execution_count": null,
   "id": "2c2db06b-cb99-4031-9013-7d49802d58ba",
   "metadata": {},
   "outputs": [],
   "source": [
    "#Are intoxicated drivers independent of Fiesta?\n",
    "evaluate.chi_test(train.fiesta, train.fault_intoxication)"
   ]
  },
  {
   "cell_type": "markdown",
   "id": "9756d419-34e2-41c2-ade0-7db14ba6384f",
   "metadata": {},
   "source": [
    "### 4th of July Weekend"
   ]
  },
  {
   "cell_type": "code",
   "execution_count": null,
   "id": "daead346-c7dd-4095-9147-a26bad13bf0b",
   "metadata": {},
   "outputs": [],
   "source": [
    "#accidents that happen July 4th - July 5th\n",
    "explore.plot_the_4th(train)"
   ]
  },
  {
   "cell_type": "code",
   "execution_count": null,
   "id": "4c744108-6dd7-4ce1-94b4-2791d6961e96",
   "metadata": {},
   "outputs": [],
   "source": [
    "#testing for independence between July 4th and reported injuries?\n",
    "evaluate.chi_test(train.jul_fourth, train.injury_class)"
   ]
  },
  {
   "cell_type": "code",
   "execution_count": null,
   "id": "0cfc7420-9b34-4073-b981-720fe4015e52",
   "metadata": {},
   "outputs": [],
   "source": [
    "# Is July 4th and intoxicated drivers independent?\n",
    "evaluate.chi_test(train.jul_fourth, train.fault_intoxication)"
   ]
  },
  {
   "cell_type": "code",
   "execution_count": null,
   "id": "ae6d6c61-f191-4c6c-8c61-886740d53787",
   "metadata": {},
   "outputs": [],
   "source": [
    "# Is July 4th and speeding drivers independent?\n",
    "evaluate.chi_test(train.jul_fourth, train.fault_speed)"
   ]
  },
  {
   "cell_type": "markdown",
   "id": "22e605bc-80a6-4841-938b-c56438897ae2",
   "metadata": {},
   "source": [
    "## Does accident injury depend on what side of town you are on? \n",
    "- This question is best solved with clustering, taking the latitude and longitude to plot location of accidents"
   ]
  },
  {
   "cell_type": "code",
   "execution_count": null,
   "id": "7a0b4a57-accf-4cd9-af3e-c05babf3ea19",
   "metadata": {},
   "outputs": [],
   "source": [
    "#plot crash longitude on x axis, latitude on y axis and cluster them\n",
    "X = train[['crash_longitude', 'crash_latitude']]\n",
    "train = explore.create_scatter_plot('crash_longitude', 'crash_latitude', train, X)"
   ]
  },
  {
   "cell_type": "code",
   "execution_count": null,
   "id": "537cd55f-d11e-419f-8b77-dbda611a58ec",
   "metadata": {},
   "outputs": [],
   "source": [
    "# is there a difference in reported injuries between any of the clusters of the town?\n",
    "evaluate.chi_test(train.location_cluster, train.injury_class)"
   ]
  },
  {
   "cell_type": "code",
   "execution_count": null,
   "id": "cadb4c06-961a-445a-af57-1817e5c78a06",
   "metadata": {},
   "outputs": [],
   "source": [
    "#we won't use it anymore\n",
    "train = train.drop(columns='location_cluster')"
   ]
  },
  {
   "cell_type": "markdown",
   "id": "428c1864-45af-41ff-9aea-26d5836ba784",
   "metadata": {},
   "source": [
    "### Other significant clusters that were created"
   ]
  },
  {
   "cell_type": "markdown",
   "id": "742c20eb-fac0-4fa9-a977-e7f2b674f8d6",
   "metadata": {},
   "source": [
    "#### Does speeding, depending on the speed limit, play a role in accident Injury?"
   ]
  },
  {
   "cell_type": "code",
   "execution_count": null,
   "id": "d53a779b-c5b3-4f9e-9244-fe0570a9e9dc",
   "metadata": {},
   "outputs": [],
   "source": [
    "#test for independence with our speed_speed_lm cluster and injury class\n",
    "evaluate.chi_test(train.speed_speed_lm, train.injury_class)"
   ]
  },
  {
   "cell_type": "markdown",
   "id": "49dc4867-d811-4a62-96ba-0dd360f6b79b",
   "metadata": {},
   "source": [
    "#### Does speeding, when failing to yield, play a role in accident injury?"
   ]
  },
  {
   "cell_type": "code",
   "execution_count": null,
   "id": "18a748c9-6ab5-4349-992f-730f6d6a2019",
   "metadata": {},
   "outputs": [],
   "source": [
    "#test for independence with our speed_yield cluster and injury class\n",
    "evaluate.chi_test(train.speed_yield_occu, train.injury_class)"
   ]
  },
  {
   "cell_type": "markdown",
   "id": "b4cab19f-bac7-4dec-ad74-e4f8729da5ce",
   "metadata": {},
   "source": [
    "#### Is where the car was struck, and whether or not the airbags deployed, play a role in accident injury?"
   ]
  },
  {
   "cell_type": "code",
   "execution_count": null,
   "id": "2770f914-971c-43c1-a8da-248b70f67b9c",
   "metadata": {},
   "outputs": [],
   "source": [
    "#test for independence with our damage_air cluster and injury class\n",
    "evaluate.chi_test(train.damage_air, train.injury_class)"
   ]
  },
  {
   "cell_type": "markdown",
   "id": "ac3c135c-4f1a-4fac-8f42-d598e07ec59f",
   "metadata": {},
   "source": [
    "# Modeling "
   ]
  },
  {
   "cell_type": "code",
   "execution_count": null,
   "id": "48ea6c3b-cfb0-4962-aec6-ac9a83334543",
   "metadata": {},
   "outputs": [],
   "source": [
    "#bring in our modeling\n",
    "from sklearn.linear_model import LogisticRegression\n",
    "from sklearn.neighbors import KNeighborsClassifier\n",
    "from sklearn.ensemble import RandomForestClassifier\n",
    "from sklearn.preprocessing import StandardScaler\n",
    "from sklearn.dummy import DummyClassifier\n",
    "from imblearn.over_sampling import SMOTE"
   ]
  },
  {
   "cell_type": "code",
   "execution_count": null,
   "id": "483d598b-61f0-4862-bc79-32f66d39f663",
   "metadata": {},
   "outputs": [],
   "source": [
    "# split train data to X, y\n",
    "X_train = train.select_dtypes(np.number).drop(columns=['injury_class', 'injury_crash_total','day_num'])\n",
    "y_train = train.injury_class"
   ]
  },
  {
   "cell_type": "code",
   "execution_count": null,
   "id": "f720e60d-fea2-4c55-8864-9b7970140a95",
   "metadata": {},
   "outputs": [],
   "source": [
    "# split test data to X, y\n",
    "X_test = test.select_dtypes(np.number).drop(columns=['injury_class', 'injury_crash_total'])\n",
    "y_test = test.injury_class"
   ]
  },
  {
   "cell_type": "code",
   "execution_count": null,
   "id": "ed5c0671-2c49-4733-b064-0bd028f87e7b",
   "metadata": {},
   "outputs": [],
   "source": [
    "# create dummy class object\n",
    "dummy = DummyClassifier(strategy='most_frequent')\n",
    "# fit dummy for most frequent target class\n",
    "dummy.fit(X_train, y_train)\n",
    "# create baseline array\n",
    "baseline = pd.Series(dummy.predict(X_train), index=X_train.index)\n",
    "print('Baseline Score')\n",
    "dummy.score(X_train, y_train)"
   ]
  },
  {
   "cell_type": "code",
   "execution_count": null,
   "id": "f29968c4-3865-4d4d-b09f-dafb7992eda7",
   "metadata": {},
   "outputs": [],
   "source": [
    "#print scores for baseline\n",
    "evaluate.classifier_scores(baseline, y_train)"
   ]
  },
  {
   "cell_type": "markdown",
   "id": "cf96e412-7d47-4688-9f0a-7ba2dca53639",
   "metadata": {},
   "source": [
    "#### SMOTE\n",
    "- Utilizing Synthetic Minority Oversampling Technique inorder to rebalence the dataset."
   ]
  },
  {
   "cell_type": "code",
   "execution_count": null,
   "id": "23a32974-e218-483e-8e5a-26b894c9b03d",
   "metadata": {},
   "outputs": [],
   "source": [
    "# create smote object\n",
    "sm = SMOTE(random_state=19)\n",
    "# fit and resample train data\n",
    "X_sm, y_sm = sm.fit_resample(X_train, y_train)"
   ]
  },
  {
   "cell_type": "markdown",
   "id": "ebce8daf-ab61-497e-8f32-a9dcc8948fed",
   "metadata": {},
   "source": [
    "### Logistic Regression"
   ]
  },
  {
   "cell_type": "code",
   "execution_count": null,
   "id": "8f8d5afd-230c-4c12-8efb-a7fda9131c97",
   "metadata": {},
   "outputs": [],
   "source": [
    "# fit model to gridsearch params\n",
    "logit = LogisticRegression(class_weight=None,\n",
    "                           dual=True,\n",
    "                           multi_class='auto',\n",
    "                           penalty='l2',\n",
    "                           random_state=19,\n",
    "                           solver='liblinear')"
   ]
  },
  {
   "cell_type": "code",
   "execution_count": null,
   "id": "3d1b5162-55aa-4eb5-9256-244d2c301539",
   "metadata": {},
   "outputs": [],
   "source": [
    "# get top 20 RFE recommended features\n",
    "rfe_selected = evaluate.get_rfe_selected(X_sm, y_sm, logit).Feature.tolist()\n",
    "# fit classifier with recommended features\n",
    "logit.fit(X_sm[rfe_selected], y_sm)\n",
    "# create array of predicitons\n",
    "y_preds = logit.predict(X_sm[rfe_selected])"
   ]
  },
  {
   "cell_type": "code",
   "execution_count": null,
   "id": "466d7e5c-1590-4cf2-bae4-8de4847b2cc9",
   "metadata": {},
   "outputs": [],
   "source": [
    "# evaluate logistic \n",
    "evaluate.classifier_scores(y_sm, y_preds)"
   ]
  },
  {
   "cell_type": "markdown",
   "id": "0c7acec4-58b1-439c-9c2d-a357ac5a21d9",
   "metadata": {},
   "source": [
    "### K-nearest Neighbors"
   ]
  },
  {
   "cell_type": "code",
   "execution_count": null,
   "id": "80d22dc4-bff7-482e-b54c-4e1691ef1f5a",
   "metadata": {},
   "outputs": [],
   "source": [
    "from sklearn.feature_selection import SelectKBest\n",
    "# use SelectKBest for recommended features\n",
    "knn = KNeighborsClassifier(n_neighbors=5, weights='distance')\n",
    "knn.fit(X_sm, y_sm)\n",
    "kbest =  SelectKBest()\n",
    "kbest.fit(X_sm, y_sm)\n",
    "kbest_selected = X_sm.columns[kbest.get_support()]\n",
    "# fit model to gridsearch params\n",
    "knn = KNeighborsClassifier(n_neighbors=5, weights='distance')\n",
    "# fit classifier with recommended features\n",
    "knn.fit(X_sm[kbest_selected], y_sm)\n",
    "# create array of predicitons\n",
    "y_preds = knn.predict(X_sm[kbest_selected])"
   ]
  },
  {
   "cell_type": "code",
   "execution_count": null,
   "id": "4f2ce741-0341-4180-b7b0-85f2b14ed056",
   "metadata": {},
   "outputs": [],
   "source": [
    "#evaluate knn\n",
    "evaluate.classifier_scores(y_sm, y_preds)"
   ]
  },
  {
   "cell_type": "markdown",
   "id": "35dcf415-4509-43b2-a6f5-fea253948815",
   "metadata": {},
   "source": [
    "### Random Forest"
   ]
  },
  {
   "cell_type": "code",
   "execution_count": null,
   "id": "4d446060-ff4b-4dac-87be-d6cd772931b8",
   "metadata": {},
   "outputs": [],
   "source": [
    "forest = RandomForestClassifier(class_weight='balanced_subsample',\n",
    "                                criterion='gini',\n",
    "                                max_depth=10,\n",
    "                                min_samples_leaf=1,\n",
    "                                n_estimators=100,\n",
    "                                random_state=19)"
   ]
  },
  {
   "cell_type": "code",
   "execution_count": null,
   "id": "a19fa8ab-d34b-42c9-b4dd-b7c5be52650a",
   "metadata": {},
   "outputs": [],
   "source": [
    "# get top 20 RFE recommended features\n",
    "rfe_selected = evaluate.get_rfe_selected(X_sm, y_sm, forest).Feature.tolist()\n",
    "# fit classifier with recommended features\n",
    "forest.fit(X_sm[rfe_selected], y_sm)\n",
    "# create array of predicitons\n",
    "y_preds = forest.predict(X_sm[rfe_selected])"
   ]
  },
  {
   "cell_type": "code",
   "execution_count": null,
   "id": "b71eb507-01f5-415c-9f7c-f0e99a29352e",
   "metadata": {},
   "outputs": [],
   "source": [
    "evaluate.classifier_scores(y_sm, y_preds)"
   ]
  },
  {
   "cell_type": "markdown",
   "id": "8c3b26d1-4de7-4303-8245-57afe0bdd045",
   "metadata": {},
   "source": [
    "### Best Model on Test"
   ]
  },
  {
   "cell_type": "code",
   "execution_count": null,
   "id": "f6e24a99-ef9e-42f0-9186-7f11ba34b039",
   "metadata": {},
   "outputs": [],
   "source": [
    "#predict on test, and evaluate\n",
    "y_preds = forest.predict(X_test[rfe_selected])\n",
    "evaluate.classifier_scores(y_test, y_preds)"
   ]
  }
 ],
 "metadata": {
  "kernelspec": {
   "display_name": "Python 3",
   "language": "python",
   "name": "python3"
  },
  "language_info": {
   "codemirror_mode": {
    "name": "ipython",
    "version": 3
   },
   "file_extension": ".py",
   "mimetype": "text/x-python",
   "name": "python",
   "nbconvert_exporter": "python",
   "pygments_lexer": "ipython3",
   "version": "3.8.5"
  }
 },
 "nbformat": 4,
 "nbformat_minor": 5
}
