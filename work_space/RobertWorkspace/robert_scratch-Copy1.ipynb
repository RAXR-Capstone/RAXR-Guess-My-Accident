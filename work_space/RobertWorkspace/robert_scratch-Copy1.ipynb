{
 "cells": [
  {
   "cell_type": "code",
   "execution_count": 1,
   "metadata": {},
   "outputs": [],
   "source": [
    "import pandas as pd\n",
    "import numpy as np\n",
    "import matplotlib.pyplot as plt\n",
    "from scipy import stats\n",
    "import seaborn as sns\n",
    "import re\n",
    "from datetime import timedelta, datetime\n",
    "import datetime\n",
    "from sklearn.model_selection import learning_curve\n",
    "from sklearn.cluster import KMeans\n",
    "import sklearn.preprocessing\n",
    "import explore\n",
    "import prepare\n",
    "from sklearn.preprocessing import RobustScaler, MinMaxScaler, StandardScaler\n",
    "from sklearn.model_selection import train_test_split\n",
    "\n",
    "from sklearn.tree import DecisionTreeClassifier\n",
    "from sklearn.ensemble import RandomForestClassifier\n",
    "from sklearn.neighbors import KNeighborsClassifier\n",
    "from sklearn.linear_model import LogisticRegression"
   ]
  },
  {
   "cell_type": "markdown",
   "metadata": {},
   "source": [
    "# Acquire:"
   ]
  },
  {
   "cell_type": "code",
   "execution_count": 2,
   "metadata": {},
   "outputs": [],
   "source": [
    "df = pd.read_csv('accident_data.csv')"
   ]
  },
  {
   "cell_type": "code",
   "execution_count": 3,
   "metadata": {},
   "outputs": [
    {
     "name": "stdout",
     "output_type": "stream",
     "text": [
      "<class 'pandas.core.frame.DataFrame'>\n",
      "RangeIndex: 39666 entries, 0 to 39665\n",
      "Data columns (total 33 columns):\n",
      " #   Column                Non-Null Count  Dtype  \n",
      "---  ------                --------------  -----  \n",
      " 0   crash_url             39666 non-null  object \n",
      " 1   case_id               39584 non-null  object \n",
      " 2   crash_id              39666 non-null  int64  \n",
      " 3   crash_city            39666 non-null  object \n",
      " 4   crash_date            39666 non-null  object \n",
      " 5   crash_latitude        39666 non-null  float64\n",
      " 6   crash_longitude       39666 non-null  float64\n",
      " 7   police_dept           39666 non-null  object \n",
      " 8   accident_factor       34669 non-null  object \n",
      " 9   speed_limit           39666 non-null  object \n",
      " 10  crash_location        39666 non-null  object \n",
      " 11  num_of_injuries       39666 non-null  int64  \n",
      " 12  num_of_vehicles       39666 non-null  int64  \n",
      " 13  num_of_occupants      39666 non-null  int64  \n",
      " 14  at_fault              39666 non-null  int64  \n",
      " 15  car_contained_injury  39666 non-null  int64  \n",
      " 16  occupants_in_car      39666 non-null  int64  \n",
      " 17  car_airbags_deployed  39666 non-null  int64  \n",
      " 18  car_make              37864 non-null  object \n",
      " 19  car_year              34624 non-null  float64\n",
      " 20  car_type              34826 non-null  object \n",
      " 21  car_color             37481 non-null  object \n",
      " 22  car_vin               39666 non-null  object \n",
      " 23  driver_age            29733 non-null  float64\n",
      " 24  driver_gender         34947 non-null  object \n",
      " 25  driver_ethnicity      34947 non-null  object \n",
      " 26  driver_residence      0 non-null      float64\n",
      " 27  driver_car_damage     39666 non-null  object \n",
      " 28  driver_license_type   34947 non-null  object \n",
      " 29  driver_license_state  35245 non-null  object \n",
      " 30  driver_insured        39666 non-null  object \n",
      " 31  traffic_conditions    39073 non-null  object \n",
      " 32  weather_conditions    38824 non-null  object \n",
      "dtypes: float64(5), int64(8), object(20)\n",
      "memory usage: 10.0+ MB\n"
     ]
    }
   ],
   "source": [
    "df.info()"
   ]
  },
  {
   "cell_type": "code",
   "execution_count": 4,
   "metadata": {},
   "outputs": [
    {
     "data": {
      "text/html": [
       "<div>\n",
       "<style scoped>\n",
       "    .dataframe tbody tr th:only-of-type {\n",
       "        vertical-align: middle;\n",
       "    }\n",
       "\n",
       "    .dataframe tbody tr th {\n",
       "        vertical-align: top;\n",
       "    }\n",
       "\n",
       "    .dataframe thead th {\n",
       "        text-align: right;\n",
       "    }\n",
       "</style>\n",
       "<table border=\"1\" class=\"dataframe\">\n",
       "  <thead>\n",
       "    <tr style=\"text-align: right;\">\n",
       "      <th></th>\n",
       "      <th>crash_url</th>\n",
       "      <th>case_id</th>\n",
       "      <th>crash_id</th>\n",
       "      <th>crash_city</th>\n",
       "      <th>crash_date</th>\n",
       "      <th>crash_latitude</th>\n",
       "      <th>crash_longitude</th>\n",
       "      <th>police_dept</th>\n",
       "      <th>accident_factor</th>\n",
       "      <th>speed_limit</th>\n",
       "      <th>...</th>\n",
       "      <th>driver_age</th>\n",
       "      <th>driver_gender</th>\n",
       "      <th>driver_ethnicity</th>\n",
       "      <th>driver_residence</th>\n",
       "      <th>driver_car_damage</th>\n",
       "      <th>driver_license_type</th>\n",
       "      <th>driver_license_state</th>\n",
       "      <th>driver_insured</th>\n",
       "      <th>traffic_conditions</th>\n",
       "      <th>weather_conditions</th>\n",
       "    </tr>\n",
       "  </thead>\n",
       "  <tbody>\n",
       "    <tr>\n",
       "      <th>0</th>\n",
       "      <td>https://vpic.nhtsa.dot.gov/api/vehicles/Decode...</td>\n",
       "      <td>SAPD21029602</td>\n",
       "      <td>18108949</td>\n",
       "      <td>SAN ANTONIO, TX</td>\n",
       "      <td>02/15/21 06:08 PM</td>\n",
       "      <td>29.439191</td>\n",
       "      <td>-98.447037</td>\n",
       "      <td>SAN ANTONIO POLICE DEPARTMENT</td>\n",
       "      <td>The driver of 2003 DODGE UNSAFE SPEED</td>\n",
       "      <td>60 MPH</td>\n",
       "      <td>...</td>\n",
       "      <td>28.0</td>\n",
       "      <td>Female</td>\n",
       "      <td>White</td>\n",
       "      <td>NaN</td>\n",
       "      <td>LD - DISTRIBUTED LEFT SIDE DAMAGE PARALLEL IMPACT</td>\n",
       "      <td>Id card, unlicensed</td>\n",
       "      <td>Texas</td>\n",
       "      <td>Yes</td>\n",
       "      <td>MARKED LANES</td>\n",
       "      <td>CLEAR</td>\n",
       "    </tr>\n",
       "    <tr>\n",
       "      <th>1</th>\n",
       "      <td>https://vpic.nhtsa.dot.gov/api/vehicles/Decode...</td>\n",
       "      <td>SAPD21029611</td>\n",
       "      <td>18114287</td>\n",
       "      <td>SAN ANTONIO, TX</td>\n",
       "      <td>02/15/21 06:12 PM</td>\n",
       "      <td>29.438799</td>\n",
       "      <td>-98.382309</td>\n",
       "      <td>SAN ANTONIO POLICE DEPARTMENT</td>\n",
       "      <td>The driver of 2020 VOLVO UNSAFE SPEED The driv...</td>\n",
       "      <td>65 MPH</td>\n",
       "      <td>...</td>\n",
       "      <td>NaN</td>\n",
       "      <td>NaN</td>\n",
       "      <td>NaN</td>\n",
       "      <td>NaN</td>\n",
       "      <td>UNKNOWN</td>\n",
       "      <td>NaN</td>\n",
       "      <td>NaN</td>\n",
       "      <td>Unknown</td>\n",
       "      <td>MARKED LANES</td>\n",
       "      <td>SNOW</td>\n",
       "    </tr>\n",
       "    <tr>\n",
       "      <th>2</th>\n",
       "      <td>https://vpic.nhtsa.dot.gov/api/vehicles/Decode...</td>\n",
       "      <td>SAPD21029611</td>\n",
       "      <td>18114287</td>\n",
       "      <td>SAN ANTONIO, TX</td>\n",
       "      <td>02/15/21 06:12 PM</td>\n",
       "      <td>29.438799</td>\n",
       "      <td>-98.382309</td>\n",
       "      <td>SAN ANTONIO POLICE DEPARTMENT</td>\n",
       "      <td>The driver of 2020 VOLVO UNSAFE SPEED The driv...</td>\n",
       "      <td>65 MPH</td>\n",
       "      <td>...</td>\n",
       "      <td>32.0</td>\n",
       "      <td>Male</td>\n",
       "      <td>Asian</td>\n",
       "      <td>NaN</td>\n",
       "      <td>L&amp;T - LEFT SIDE AND TOP DAMAGE ROLLOVER EFFECTS</td>\n",
       "      <td>Commercial driver lic., other/out of state</td>\n",
       "      <td>North Carolina</td>\n",
       "      <td>Yes</td>\n",
       "      <td>MARKED LANES</td>\n",
       "      <td>SNOW</td>\n",
       "    </tr>\n",
       "    <tr>\n",
       "      <th>3</th>\n",
       "      <td>https://vpic.nhtsa.dot.gov/api/vehicles/Decode...</td>\n",
       "      <td>SAPD21029621</td>\n",
       "      <td>18116130</td>\n",
       "      <td>SAN ANTONIO, TX</td>\n",
       "      <td>02/15/21 06:15 PM</td>\n",
       "      <td>29.432061</td>\n",
       "      <td>-98.567334</td>\n",
       "      <td>SAN ANTONIO POLICE DEPARTMENT</td>\n",
       "      <td>The driver of 2002 CHRYSLER FOLLOWED TOO CLOSELY</td>\n",
       "      <td>30 MPH</td>\n",
       "      <td>...</td>\n",
       "      <td>45.0</td>\n",
       "      <td>Male</td>\n",
       "      <td>Hispanic</td>\n",
       "      <td>NaN</td>\n",
       "      <td>BC - BACK END DAMAGE CONCENTRATED IMPACT</td>\n",
       "      <td>Driver license, class c</td>\n",
       "      <td>Minnesota</td>\n",
       "      <td>Yes</td>\n",
       "      <td>STOP SIGN</td>\n",
       "      <td>SNOW</td>\n",
       "    </tr>\n",
       "    <tr>\n",
       "      <th>4</th>\n",
       "      <td>https://vpic.nhtsa.dot.gov/api/vehicles/Decode...</td>\n",
       "      <td>SAPD21029621</td>\n",
       "      <td>18116130</td>\n",
       "      <td>SAN ANTONIO, TX</td>\n",
       "      <td>02/15/21 06:15 PM</td>\n",
       "      <td>29.432061</td>\n",
       "      <td>-98.567334</td>\n",
       "      <td>SAN ANTONIO POLICE DEPARTMENT</td>\n",
       "      <td>The driver of 2002 CHRYSLER FOLLOWED TOO CLOSELY</td>\n",
       "      <td>30 MPH</td>\n",
       "      <td>...</td>\n",
       "      <td>NaN</td>\n",
       "      <td>Unknown</td>\n",
       "      <td>Unknown</td>\n",
       "      <td>NaN</td>\n",
       "      <td>FC - FRONT END DAMAGE CONCENTRATED IMPACT</td>\n",
       "      <td>Unknown, unknown</td>\n",
       "      <td>Texas</td>\n",
       "      <td>Yes</td>\n",
       "      <td>STOP SIGN</td>\n",
       "      <td>SNOW</td>\n",
       "    </tr>\n",
       "    <tr>\n",
       "      <th>5</th>\n",
       "      <td>https://vpic.nhtsa.dot.gov/api/vehicles/Decode...</td>\n",
       "      <td>SAPD21029621</td>\n",
       "      <td>18116130</td>\n",
       "      <td>SAN ANTONIO, TX</td>\n",
       "      <td>02/15/21 06:15 PM</td>\n",
       "      <td>29.432061</td>\n",
       "      <td>-98.567334</td>\n",
       "      <td>SAN ANTONIO POLICE DEPARTMENT</td>\n",
       "      <td>The driver of 2002 CHRYSLER FOLLOWED TOO CLOSELY</td>\n",
       "      <td>30 MPH</td>\n",
       "      <td>...</td>\n",
       "      <td>57.0</td>\n",
       "      <td>Male</td>\n",
       "      <td>Hispanic</td>\n",
       "      <td>NaN</td>\n",
       "      <td>BC - BACK END DAMAGE CONCENTRATED IMPACT</td>\n",
       "      <td>Driver license, class c</td>\n",
       "      <td>Texas</td>\n",
       "      <td>Yes</td>\n",
       "      <td>STOP SIGN</td>\n",
       "      <td>SNOW</td>\n",
       "    </tr>\n",
       "    <tr>\n",
       "      <th>6</th>\n",
       "      <td>https://vpic.nhtsa.dot.gov/api/vehicles/Decode...</td>\n",
       "      <td>BCSO-2021-0046044</td>\n",
       "      <td>18108922</td>\n",
       "      <td>unknown, TX</td>\n",
       "      <td>02/15/21 06:18 PM</td>\n",
       "      <td>29.512011</td>\n",
       "      <td>-98.346319</td>\n",
       "      <td>BEXAR COUNTY LAW ENFORCEMENT</td>\n",
       "      <td>The driver of 2001 CHEVROLET OTHER (EXPLAIN IN...</td>\n",
       "      <td>30 MPH</td>\n",
       "      <td>...</td>\n",
       "      <td>31.0</td>\n",
       "      <td>Male</td>\n",
       "      <td>Hispanic</td>\n",
       "      <td>NaN</td>\n",
       "      <td>LFQ - LEFT FRONT QUARTER DAMAGE ANGULAR IMPACT</td>\n",
       "      <td>Driver license, class c</td>\n",
       "      <td>Texas</td>\n",
       "      <td>Yes</td>\n",
       "      <td>NONE</td>\n",
       "      <td>CLEAR</td>\n",
       "    </tr>\n",
       "    <tr>\n",
       "      <th>7</th>\n",
       "      <td>https://vpic.nhtsa.dot.gov/api/vehicles/Decode...</td>\n",
       "      <td>202100495</td>\n",
       "      <td>18141558</td>\n",
       "      <td>LEON VALLEY, TX</td>\n",
       "      <td>02/15/21 06:19 PM</td>\n",
       "      <td>29.484342</td>\n",
       "      <td>-98.604448</td>\n",
       "      <td>LEON VALLEY POLICE DEPARTMENT</td>\n",
       "      <td>The driver of 2019 TOYOTA FAILED TO CONTROL SP...</td>\n",
       "      <td>45 MPH</td>\n",
       "      <td>...</td>\n",
       "      <td>36.0</td>\n",
       "      <td>Male</td>\n",
       "      <td>Black</td>\n",
       "      <td>NaN</td>\n",
       "      <td>BR - BACK END (RIGHT) DAMAGE PARTIAL CONTACT</td>\n",
       "      <td>Driver license, class c</td>\n",
       "      <td>Texas</td>\n",
       "      <td>Yes</td>\n",
       "      <td>SIGNAL LIGHT WITH RED LIGHT RUNNING CAMERA</td>\n",
       "      <td>SNOW</td>\n",
       "    </tr>\n",
       "    <tr>\n",
       "      <th>8</th>\n",
       "      <td>https://vpic.nhtsa.dot.gov/api/vehicles/Decode...</td>\n",
       "      <td>202100495</td>\n",
       "      <td>18141558</td>\n",
       "      <td>LEON VALLEY, TX</td>\n",
       "      <td>02/15/21 06:19 PM</td>\n",
       "      <td>29.484342</td>\n",
       "      <td>-98.604448</td>\n",
       "      <td>LEON VALLEY POLICE DEPARTMENT</td>\n",
       "      <td>The driver of 2019 TOYOTA FAILED TO CONTROL SP...</td>\n",
       "      <td>45 MPH</td>\n",
       "      <td>...</td>\n",
       "      <td>44.0</td>\n",
       "      <td>Male</td>\n",
       "      <td>Black</td>\n",
       "      <td>NaN</td>\n",
       "      <td>FL - FRONT END (LEFT) DAMAGE PARTIAL CONTACT</td>\n",
       "      <td>Driver license, class a</td>\n",
       "      <td>Texas</td>\n",
       "      <td>Yes</td>\n",
       "      <td>SIGNAL LIGHT WITH RED LIGHT RUNNING CAMERA</td>\n",
       "      <td>SNOW</td>\n",
       "    </tr>\n",
       "    <tr>\n",
       "      <th>9</th>\n",
       "      <td>https://vpic.nhtsa.dot.gov/api/vehicles/Decode...</td>\n",
       "      <td>SAPD21029616</td>\n",
       "      <td>18108911</td>\n",
       "      <td>SAN ANTONIO, TX</td>\n",
       "      <td>02/15/21 06:20 PM</td>\n",
       "      <td>29.510833</td>\n",
       "      <td>-98.397646</td>\n",
       "      <td>SAN ANTONIO POLICE DEPARTMENT</td>\n",
       "      <td>The driver of 2009 TOYOTA OTHER (EXPLAIN IN NA...</td>\n",
       "      <td>-1 MPH</td>\n",
       "      <td>...</td>\n",
       "      <td>40.0</td>\n",
       "      <td>Female</td>\n",
       "      <td>Black</td>\n",
       "      <td>NaN</td>\n",
       "      <td>FD - FRONT END DAMAGE DISTRIBUTED IMPACT</td>\n",
       "      <td>Driver license, class c</td>\n",
       "      <td>Texas</td>\n",
       "      <td>Yes</td>\n",
       "      <td>NONE</td>\n",
       "      <td>SNOW</td>\n",
       "    </tr>\n",
       "  </tbody>\n",
       "</table>\n",
       "<p>10 rows × 33 columns</p>\n",
       "</div>"
      ],
      "text/plain": [
       "                                           crash_url             case_id  \\\n",
       "0  https://vpic.nhtsa.dot.gov/api/vehicles/Decode...        SAPD21029602   \n",
       "1  https://vpic.nhtsa.dot.gov/api/vehicles/Decode...        SAPD21029611   \n",
       "2  https://vpic.nhtsa.dot.gov/api/vehicles/Decode...        SAPD21029611   \n",
       "3  https://vpic.nhtsa.dot.gov/api/vehicles/Decode...        SAPD21029621   \n",
       "4  https://vpic.nhtsa.dot.gov/api/vehicles/Decode...        SAPD21029621   \n",
       "5  https://vpic.nhtsa.dot.gov/api/vehicles/Decode...        SAPD21029621   \n",
       "6  https://vpic.nhtsa.dot.gov/api/vehicles/Decode...   BCSO-2021-0046044   \n",
       "7  https://vpic.nhtsa.dot.gov/api/vehicles/Decode...           202100495   \n",
       "8  https://vpic.nhtsa.dot.gov/api/vehicles/Decode...           202100495   \n",
       "9  https://vpic.nhtsa.dot.gov/api/vehicles/Decode...        SAPD21029616   \n",
       "\n",
       "   crash_id       crash_city         crash_date  crash_latitude  \\\n",
       "0  18108949  SAN ANTONIO, TX  02/15/21 06:08 PM       29.439191   \n",
       "1  18114287  SAN ANTONIO, TX  02/15/21 06:12 PM       29.438799   \n",
       "2  18114287  SAN ANTONIO, TX  02/15/21 06:12 PM       29.438799   \n",
       "3  18116130  SAN ANTONIO, TX  02/15/21 06:15 PM       29.432061   \n",
       "4  18116130  SAN ANTONIO, TX  02/15/21 06:15 PM       29.432061   \n",
       "5  18116130  SAN ANTONIO, TX  02/15/21 06:15 PM       29.432061   \n",
       "6  18108922      unknown, TX  02/15/21 06:18 PM       29.512011   \n",
       "7  18141558  LEON VALLEY, TX  02/15/21 06:19 PM       29.484342   \n",
       "8  18141558  LEON VALLEY, TX  02/15/21 06:19 PM       29.484342   \n",
       "9  18108911  SAN ANTONIO, TX  02/15/21 06:20 PM       29.510833   \n",
       "\n",
       "   crash_longitude                    police_dept  \\\n",
       "0       -98.447037  SAN ANTONIO POLICE DEPARTMENT   \n",
       "1       -98.382309  SAN ANTONIO POLICE DEPARTMENT   \n",
       "2       -98.382309  SAN ANTONIO POLICE DEPARTMENT   \n",
       "3       -98.567334  SAN ANTONIO POLICE DEPARTMENT   \n",
       "4       -98.567334  SAN ANTONIO POLICE DEPARTMENT   \n",
       "5       -98.567334  SAN ANTONIO POLICE DEPARTMENT   \n",
       "6       -98.346319   BEXAR COUNTY LAW ENFORCEMENT   \n",
       "7       -98.604448  LEON VALLEY POLICE DEPARTMENT   \n",
       "8       -98.604448  LEON VALLEY POLICE DEPARTMENT   \n",
       "9       -98.397646  SAN ANTONIO POLICE DEPARTMENT   \n",
       "\n",
       "                                     accident_factor speed_limit  ...  \\\n",
       "0             The driver of 2003 DODGE UNSAFE SPEED       60 MPH  ...   \n",
       "1  The driver of 2020 VOLVO UNSAFE SPEED The driv...      65 MPH  ...   \n",
       "2  The driver of 2020 VOLVO UNSAFE SPEED The driv...      65 MPH  ...   \n",
       "3  The driver of 2002 CHRYSLER FOLLOWED TOO CLOSELY       30 MPH  ...   \n",
       "4  The driver of 2002 CHRYSLER FOLLOWED TOO CLOSELY       30 MPH  ...   \n",
       "5  The driver of 2002 CHRYSLER FOLLOWED TOO CLOSELY       30 MPH  ...   \n",
       "6  The driver of 2001 CHEVROLET OTHER (EXPLAIN IN...      30 MPH  ...   \n",
       "7  The driver of 2019 TOYOTA FAILED TO CONTROL SP...      45 MPH  ...   \n",
       "8  The driver of 2019 TOYOTA FAILED TO CONTROL SP...      45 MPH  ...   \n",
       "9  The driver of 2009 TOYOTA OTHER (EXPLAIN IN NA...      -1 MPH  ...   \n",
       "\n",
       "  driver_age  driver_gender  driver_ethnicity  driver_residence  \\\n",
       "0       28.0         Female             White               NaN   \n",
       "1        NaN            NaN               NaN               NaN   \n",
       "2       32.0           Male             Asian               NaN   \n",
       "3       45.0           Male          Hispanic               NaN   \n",
       "4        NaN        Unknown           Unknown               NaN   \n",
       "5       57.0           Male          Hispanic               NaN   \n",
       "6       31.0           Male          Hispanic               NaN   \n",
       "7       36.0           Male             Black               NaN   \n",
       "8       44.0           Male             Black               NaN   \n",
       "9       40.0         Female             Black               NaN   \n",
       "\n",
       "                                   driver_car_damage  \\\n",
       "0  LD - DISTRIBUTED LEFT SIDE DAMAGE PARALLEL IMPACT   \n",
       "1                                            UNKNOWN   \n",
       "2    L&T - LEFT SIDE AND TOP DAMAGE ROLLOVER EFFECTS   \n",
       "3           BC - BACK END DAMAGE CONCENTRATED IMPACT   \n",
       "4          FC - FRONT END DAMAGE CONCENTRATED IMPACT   \n",
       "5           BC - BACK END DAMAGE CONCENTRATED IMPACT   \n",
       "6     LFQ - LEFT FRONT QUARTER DAMAGE ANGULAR IMPACT   \n",
       "7       BR - BACK END (RIGHT) DAMAGE PARTIAL CONTACT   \n",
       "8       FL - FRONT END (LEFT) DAMAGE PARTIAL CONTACT   \n",
       "9           FD - FRONT END DAMAGE DISTRIBUTED IMPACT   \n",
       "\n",
       "                          driver_license_type  driver_license_state  \\\n",
       "0                         Id card, unlicensed                 Texas   \n",
       "1                                         NaN                   NaN   \n",
       "2  Commercial driver lic., other/out of state        North Carolina   \n",
       "3                     Driver license, class c             Minnesota   \n",
       "4                            Unknown, unknown                 Texas   \n",
       "5                     Driver license, class c                 Texas   \n",
       "6                     Driver license, class c                 Texas   \n",
       "7                     Driver license, class c                 Texas   \n",
       "8                     Driver license, class a                 Texas   \n",
       "9                     Driver license, class c                 Texas   \n",
       "\n",
       "   driver_insured                          traffic_conditions  \\\n",
       "0             Yes                                MARKED LANES   \n",
       "1         Unknown                                MARKED LANES   \n",
       "2             Yes                                MARKED LANES   \n",
       "3             Yes                                   STOP SIGN   \n",
       "4             Yes                                   STOP SIGN   \n",
       "5             Yes                                   STOP SIGN   \n",
       "6             Yes                                        NONE   \n",
       "7             Yes  SIGNAL LIGHT WITH RED LIGHT RUNNING CAMERA   \n",
       "8             Yes  SIGNAL LIGHT WITH RED LIGHT RUNNING CAMERA   \n",
       "9             Yes                                        NONE   \n",
       "\n",
       "   weather_conditions  \n",
       "0               CLEAR  \n",
       "1                SNOW  \n",
       "2                SNOW  \n",
       "3                SNOW  \n",
       "4                SNOW  \n",
       "5                SNOW  \n",
       "6               CLEAR  \n",
       "7                SNOW  \n",
       "8                SNOW  \n",
       "9                SNOW  \n",
       "\n",
       "[10 rows x 33 columns]"
      ]
     },
     "execution_count": 4,
     "metadata": {},
     "output_type": "execute_result"
    }
   ],
   "source": [
    "df.head(10)"
   ]
  },
  {
   "cell_type": "markdown",
   "metadata": {},
   "source": [
    "# Prepare:"
   ]
  },
  {
   "cell_type": "code",
   "execution_count": 5,
   "metadata": {},
   "outputs": [],
   "source": [
    "from prepare import clean_collision_data\n",
    "df = clean_collision_data()\n",
    "#cross validation on train"
   ]
  },
  {
   "cell_type": "code",
   "execution_count": 6,
   "metadata": {},
   "outputs": [
    {
     "name": "stdout",
     "output_type": "stream",
     "text": [
      "<class 'pandas.core.frame.DataFrame'>\n",
      "Int64Index: 26670 entries, 0 to 39665\n",
      "Data columns (total 40 columns):\n",
      " #   Column                  Non-Null Count  Dtype         \n",
      "---  ------                  --------------  -----         \n",
      " 0   crash_date              26670 non-null  datetime64[ns]\n",
      " 1   crash_id                26670 non-null  int64         \n",
      " 2   crash_latitude          26670 non-null  float64       \n",
      " 3   crash_longitude         26670 non-null  float64       \n",
      " 4   crash_occupant_count    26670 non-null  int64         \n",
      " 5   crash_vehicle_count     26670 non-null  int64         \n",
      " 6   damage_airbag           26670 non-null  int64         \n",
      " 7   damage_burned           26670 non-null  int64         \n",
      " 8   damage_concentrated     26670 non-null  int64         \n",
      " 9   damage_distributed      26670 non-null  int64         \n",
      " 10  damage_rollover         26670 non-null  int64         \n",
      " 11  damage_zone             26670 non-null  int64         \n",
      " 12  dl_cdl                  26670 non-null  int64         \n",
      " 13  dl_class_a              26670 non-null  int64         \n",
      " 14  dl_class_b              26670 non-null  int64         \n",
      " 15  dl_class_m              26670 non-null  int64         \n",
      " 16  dl_state                26670 non-null  object        \n",
      " 17  dl_unlicensed           26670 non-null  int64         \n",
      " 18  driver_age              26670 non-null  int64         \n",
      " 19  driver_male             26670 non-null  int64         \n",
      " 20  driver_race             26670 non-null  object        \n",
      " 21  factors_road            26670 non-null  object        \n",
      " 22  factors_spd_lmt_mph     26670 non-null  int64         \n",
      " 23  factors_weather         26670 non-null  object        \n",
      " 24  fault_class             26670 non-null  int64         \n",
      " 25  fault_distraction       26670 non-null  int64         \n",
      " 26  fault_fatigue           26670 non-null  int64         \n",
      " 27  fault_intoxication      26670 non-null  int64         \n",
      " 28  fault_maneuver          26670 non-null  int64         \n",
      " 29  fault_narrative         26670 non-null  object        \n",
      " 30  fault_speed             26670 non-null  int64         \n",
      " 31  fault_yield             26670 non-null  int64         \n",
      " 32  injury_class            26670 non-null  int64         \n",
      " 33  injury_crash_total      26670 non-null  int64         \n",
      " 34  vehicle_color           26670 non-null  object        \n",
      " 35  vehicle_id              26670 non-null  object        \n",
      " 36  vehicle_make            26670 non-null  object        \n",
      " 37  vehicle_occupant_count  26670 non-null  int64         \n",
      " 38  vehicle_type            26670 non-null  object        \n",
      " 39  vehicle_year            26670 non-null  int64         \n",
      "dtypes: datetime64[ns](1), float64(2), int64(28), object(9)\n",
      "memory usage: 8.3+ MB\n"
     ]
    }
   ],
   "source": [
    "df.info()"
   ]
  },
  {
   "cell_type": "code",
   "execution_count": 7,
   "metadata": {},
   "outputs": [],
   "source": [
    "#creating new column which will bin the times\n",
    "df.crash_date = df.crash_date.apply(lambda row: pd.to_datetime(row).strftime('%m/%d/%Y %H:%M'))\n",
    "# extracting date from timestamp\n",
    "\n",
    "#creating column which is ust hour, then converting the type to string, will repeat this for minutes\n",
    "df['crashhr'] = pd.to_datetime(df.crash_date).dt.hour\n",
    "df['crashhr'] = df.crashhr.astype(str)\n",
    "#######\n",
    "df['crashmin'] = pd.to_datetime(df.crash_date).dt.minute\n",
    "df['crashmin'] = df.crashmin.astype(str)\n",
    "########\n",
    "#combining \n",
    "df['crash_time_24hr'] = (df.crashhr + '.' + df.crashmin)\n",
    "\n",
    "\n",
    "#float value to bin time\n",
    "\n",
    "df['crash_time_24hr'] = df['crash_time_24hr'].astype('float64')\n",
    "\n",
    "df['crash_date'] = pd.to_datetime(df.crash_date).dt.date\n",
    "df['crash_date'] = df.crash_date.astype(str)\n",
    "\n",
    "\n",
    "#dropping several columns\n",
    "df.drop(columns = {'crashhr', 'crashmin'}, inplace = True)"
   ]
  },
  {
   "cell_type": "code",
   "execution_count": 8,
   "metadata": {},
   "outputs": [
    {
     "data": {
      "text/plain": [
       "18.00    214\n",
       "17.00    214\n",
       "19.00    192\n",
       "18.30    177\n",
       "16.30    177\n",
       "        ... \n",
       "6.19       1\n",
       "1.54       1\n",
       "5.28       1\n",
       "23.51      1\n",
       "5.59       1\n",
       "Name: crash_time_24hr, Length: 1312, dtype: int64"
      ]
     },
     "execution_count": 8,
     "metadata": {},
     "output_type": "execute_result"
    }
   ],
   "source": [
    "df.crash_time_24hr.value_counts()"
   ]
  },
  {
   "cell_type": "code",
   "execution_count": 9,
   "metadata": {},
   "outputs": [],
   "source": [
    "df['time_frames'] = pd.cut(df.crash_time_24hr, \n",
    "                    bins=[0,6,9,12,15,18,24], \n",
    "                    include_lowest=False,)"
   ]
  },
  {
   "cell_type": "code",
   "execution_count": 10,
   "metadata": {},
   "outputs": [
    {
     "data": {
      "text/plain": [
       "(18, 24]    7989\n",
       "(15, 18]    6264\n",
       "(12, 15]    4821\n",
       "(9, 12]     3115\n",
       "(0, 6]      2379\n",
       "(6, 9]      2061\n",
       "Name: time_frames, dtype: int64"
      ]
     },
     "execution_count": 10,
     "metadata": {},
     "output_type": "execute_result"
    }
   ],
   "source": [
    "df.time_frames.value_counts()"
   ]
  },
  {
   "cell_type": "markdown",
   "metadata": {},
   "source": [
    "-------"
   ]
  },
  {
   "cell_type": "code",
   "execution_count": 11,
   "metadata": {},
   "outputs": [],
   "source": [
    "train, test = train_test_split(df, test_size=0.2, random_state=19, stratify=df.injury_class)"
   ]
  },
  {
   "cell_type": "code",
   "execution_count": 12,
   "metadata": {},
   "outputs": [
    {
     "data": {
      "text/plain": [
       "((21336, 42), (5334, 42))"
      ]
     },
     "execution_count": 12,
     "metadata": {},
     "output_type": "execute_result"
    }
   ],
   "source": [
    "train.shape, test.shape"
   ]
  },
  {
   "cell_type": "markdown",
   "metadata": {},
   "source": [
    "----"
   ]
  },
  {
   "cell_type": "code",
   "execution_count": 13,
   "metadata": {},
   "outputs": [],
   "source": [
    "def split_X_y(train, test, target):\n",
    "    '''\n",
    "    Splits train, and test into a dataframe with independent variables\n",
    "    and a series with the dependent, or target variable. \n",
    "    The function returns 2 dataframes and 2 series:\n",
    "    X_train (df) & y_train (series), X_test & y_test. \n",
    "    '''\n",
    "\n",
    "        \n",
    "    # split train into X (dataframe, drop target) & y (series, keep target only)\n",
    "    X_train = train.drop(columns=[target])\n",
    "    y_train = train[target]\n",
    "    \n",
    "    # split test into X (dataframe, drop target) & y (series, keep target only)\n",
    "    X_test = test.drop(columns=[target])\n",
    "    y_test = test[target]\n",
    "    \n",
    "    return X_train, y_train, X_test, y_test"
   ]
  },
  {
   "cell_type": "markdown",
   "metadata": {},
   "source": [
    "#scale the data"
   ]
  },
  {
   "cell_type": "code",
   "execution_count": 14,
   "metadata": {},
   "outputs": [],
   "source": [
    "X_train, y_train, X_test, y_test = split_X_y(train,test,'fault_class')"
   ]
  },
  {
   "cell_type": "code",
   "execution_count": 15,
   "metadata": {},
   "outputs": [],
   "source": [
    "def scale_data(train, test, scale_type = None, to_scale = None):\n",
    "    '''\n",
    "    returns scaled data of specified type into data frame, will\n",
    "    '''\n",
    "    train_copy = train.copy()\n",
    "    test_copy = test.copy()\n",
    "    \n",
    "    if to_scale == None:\n",
    "        return train_copy, test_copy\n",
    "    \n",
    "    else:\n",
    "        X_train = train_copy[to_scale]\n",
    "        X_test = test_copy[to_scale]\n",
    "        \n",
    "        \n",
    "        min_max_scaler = MinMaxScaler()\n",
    "        robust_scaler = RobustScaler()\n",
    "        standard_scaler = StandardScaler()\n",
    "        \n",
    "        min_max_scaler.fit(X_train)\n",
    "        robust_scaler.fit(X_train)\n",
    "        standard_scaler.fit(X_train)\n",
    "    \n",
    "        mmX_train_scaled = min_max_scaler.transform(X_train)\n",
    "        rX_train_scaled = robust_scaler.transform(X_train)\n",
    "        sX_train_scaled = standard_scaler.transform(X_train)\n",
    "    \n",
    "    \n",
    "        mmX_test_scaled = min_max_scaler.transform(X_test)\n",
    "        rX_test_scaled = robust_scaler.transform(X_test)\n",
    "        sX_test_scaled = standard_scaler.transform(X_test)\n",
    "    \n",
    "    \n",
    "        mmX_train_scaled = pd.DataFrame(mmX_train_scaled, columns=X_train.columns)\n",
    "        mmX_test_scaled = pd.DataFrame(mmX_test_scaled, columns=X_test.columns)\n",
    "\n",
    "        rX_train_scaled = pd.DataFrame(rX_train_scaled, columns=X_train.columns)\n",
    "        rX_test_scaled = pd.DataFrame(rX_test_scaled, columns=X_test.columns)\n",
    "\n",
    "\n",
    "        sX_train_scaled = pd.DataFrame(sX_train_scaled, columns=X_train.columns)\n",
    "        sX_test_scaled = pd.DataFrame(sX_test_scaled, columns=X_test.columns)\n",
    "    \n",
    "    \n",
    "    if scale_type == 'MinMax':\n",
    "        for i in mmX_train_scaled:\n",
    "            train_copy[i] = mmX_train_scaled[i].values\n",
    "            test_copy[i] = mmX_test_scaled[i].values\n",
    "    elif scale_type == 'Robust':\n",
    "        for i in rX_train_scaled:\n",
    "            train_copy[i] = rX_train_scaled[i].values\n",
    "            test_copy[i] = rX_test_scaled[i].values\n",
    "    elif scale_type == 'Standard':\n",
    "          for i in sX_train_scaled:\n",
    "            train_copy[i] = sX_train_scaled[i].values\n",
    "            test_copy[i] = sX_test_scaled[i].values\n",
    "    return train_copy, test_copy"
   ]
  },
  {
   "cell_type": "code",
   "execution_count": 16,
   "metadata": {},
   "outputs": [],
   "source": [
    "train_scaled, test_scaled = scale_data(X_train, X_test, scale_type = 'Standard', to_scale = ['crash_longitude','crash_latitude'])"
   ]
  },
  {
   "cell_type": "code",
   "execution_count": 17,
   "metadata": {},
   "outputs": [],
   "source": [
    "X_train_scaled, y_train_scaled, X_test_scaled, y_test_scaled = split_X_y(train_scaled, test_scaled, 'injury_class')"
   ]
  },
  {
   "cell_type": "code",
   "execution_count": 18,
   "metadata": {},
   "outputs": [
    {
     "data": {
      "text/plain": [
       "Index(['crash_date', 'crash_id', 'crash_latitude', 'crash_longitude',\n",
       "       'crash_occupant_count', 'crash_vehicle_count', 'damage_airbag',\n",
       "       'damage_burned', 'damage_concentrated', 'damage_distributed',\n",
       "       'damage_rollover', 'damage_zone', 'dl_cdl', 'dl_class_a', 'dl_class_b',\n",
       "       'dl_class_m', 'dl_state', 'dl_unlicensed', 'driver_age', 'driver_male',\n",
       "       'driver_race', 'factors_road', 'factors_spd_lmt_mph', 'factors_weather',\n",
       "       'fault_distraction', 'fault_fatigue', 'fault_intoxication',\n",
       "       'fault_maneuver', 'fault_narrative', 'fault_speed', 'fault_yield',\n",
       "       'injury_crash_total', 'vehicle_color', 'vehicle_id', 'vehicle_make',\n",
       "       'vehicle_occupant_count', 'vehicle_type', 'vehicle_year',\n",
       "       'crash_time_24hr', 'time_frames'],\n",
       "      dtype='object')"
      ]
     },
     "execution_count": 18,
     "metadata": {},
     "output_type": "execute_result"
    }
   ],
   "source": [
    "X_train_scaled.columns"
   ]
  },
  {
   "cell_type": "code",
   "execution_count": null,
   "metadata": {},
   "outputs": [],
   "source": []
  },
  {
   "cell_type": "code",
   "execution_count": 19,
   "metadata": {},
   "outputs": [],
   "source": [
    "cat_vars = ['damage_airbag','damage_burned', 'damage_concentrated', 'damage_distributed',\n",
    "            'damage_rollover', 'damage_zone', 'dl_cdl', 'dl_class_a', 'dl_class_b',\n",
    "            'dl_class_m', 'dl_unlicensed', 'driver_male',\n",
    "            'fault_distraction', 'fault_fatigue', 'fault_intoxication',\n",
    "            'fault_maneuver','fault_speed', 'fault_yield']\n",
    "quant_vars = ['crash_time_24hr','vehicle_occupant_count','injury_crash_total','factors_spd_lmt_mph','driver_age','crash_latitude', 'crash_longitude',\n",
    "       'crash_occupant_count', 'crash_vehicle_count']"
   ]
  },
  {
   "cell_type": "markdown",
   "metadata": {},
   "source": [
    "# Univariate Exploration"
   ]
  },
  {
   "cell_type": "code",
   "execution_count": 20,
   "metadata": {},
   "outputs": [
    {
     "data": {
      "image/png": "[encoded data removed]",
      "text/plain": [
       "<Figure size 288x144 with 1 Axes>"
      ]
     },
     "metadata": {
      "needs_background": "light"
     },
     "output_type": "display_data"
    },
    {
     "data": {
      "image/png": "[encoded data removed]",
      "text/plain": [
       "<Figure size 288x144 with 1 Axes>"
      ]
     },
     "metadata": {
      "needs_background": "light"
     },
     "output_type": "display_data"
    },
    {
     "data": {
      "image/png": "[encoded data removed]",
      "text/plain": [
       "<Figure size 288x144 with 1 Axes>"
      ]
     },
     "metadata": {
      "needs_background": "light"
     },
     "output_type": "display_data"
    },
    {
     "data": {
      "image/png": "[encoded data removed]",
      "text/plain": [
       "<Figure size 288x144 with 1 Axes>"
      ]
     },
     "metadata": {
      "needs_background": "light"
     },
     "output_type": "display_data"
    },
    {
     "data": {
      "image/png": "[encoded data removed]",
      "text/plain": [
       "<Figure size 288x144 with 1 Axes>"
      ]
     },
     "metadata": {
      "needs_background": "light"
     },
     "output_type": "display_data"
    },
    {
     "data": {
      "image/png": "[encoded data removed]",
      "text/plain": [
       "<Figure size 288x144 with 1 Axes>"
      ]
     },
     "metadata": {
      "needs_background": "light"
     },
     "output_type": "display_data"
    },
    {
     "data": {
      "image/png": "[encoded data removed]",
      "text/plain": [
       "<Figure size 288x144 with 1 Axes>"
      ]
     },
     "metadata": {
      "needs_background": "light"
     },
     "output_type": "display_data"
    },
    {
     "data": {
      "image/png": "[encoded data removed]",
      "text/plain": [
       "<Figure size 288x144 with 1 Axes>"
      ]
     },
     "metadata": {
      "needs_background": "light"
     },
     "output_type": "display_data"
    },
    {
     "data": {
      "image/png": "[encoded data removed]",
      "text/plain": [
       "<Figure size 288x144 with 1 Axes>"
      ]
     },
     "metadata": {
      "needs_background": "light"
     },
     "output_type": "display_data"
    }
   ],
   "source": [
    "for col in X_train_scaled[quant_vars]:\n",
    "    plt.figure(figsize=(4,2))\n",
    "    plt.hist(X_train_scaled[col])\n",
    "    plt.title(col)\n",
    "    plt.tight_layout()\n",
    "    plt.show()"
   ]
  },
  {
   "cell_type": "markdown",
   "metadata": {},
   "source": [
    "## Main Takeaways:\n",
    "A majority of the features appear to be normally distributed. Age is skewed right but this fits the trend as an individual gets older the less likely they are to be driving. Crash occupants appears to show some higher values but there is buses within the dataset so it is possible to see a hgiher number.\n",
    "\n"
   ]
  },
  {
   "cell_type": "code",
   "execution_count": 21,
   "metadata": {},
   "outputs": [
    {
     "data": {
      "image/png": "[encoded data removed]",
      "text/plain": [
       "<Figure size 432x288 with 1 Axes>"
      ]
     },
     "metadata": {
      "needs_background": "light"
     },
     "output_type": "display_data"
    },
    {
     "data": {
      "image/png": "[encoded data removed]",
      "text/plain": [
       "<Figure size 432x288 with 1 Axes>"
      ]
     },
     "metadata": {
      "needs_background": "light"
     },
     "output_type": "display_data"
    },
    {
     "data": {
      "image/png": "[encoded data removed]",
      "text/plain": [
       "<Figure size 432x288 with 1 Axes>"
      ]
     },
     "metadata": {
      "needs_background": "light"
     },
     "output_type": "display_data"
    },
    {
     "data": {
      "image/png": "[encoded data removed]",
      "text/plain": [
       "<Figure size 432x288 with 1 Axes>"
      ]
     },
     "metadata": {
      "needs_background": "light"
     },
     "output_type": "display_data"
    },
    {
     "data": {
      "image/png": "[encoded data removed]",
      "text/plain": [
       "<Figure size 432x288 with 1 Axes>"
      ]
     },
     "metadata": {
      "needs_background": "light"
     },
     "output_type": "display_data"
    },
    {
     "data": {
      "image/png": "[encoded data removed]",
      "text/plain": [
       "<Figure size 432x288 with 1 Axes>"
      ]
     },
     "metadata": {
      "needs_background": "light"
     },
     "output_type": "display_data"
    },
    {
     "data": {
      "image/png": "[encoded data removed]",
      "text/plain": [
       "<Figure size 432x288 with 1 Axes>"
      ]
     },
     "metadata": {
      "needs_background": "light"
     },
     "output_type": "display_data"
    },
    {
     "data": {
      "image/png": "[encoded data removed]",
      "text/plain": [
       "<Figure size 432x288 with 1 Axes>"
      ]
     },
     "metadata": {
      "needs_background": "light"
     },
     "output_type": "display_data"
    },
    {
     "data": {
      "image/png": "[encoded data removed]",
      "text/plain": [
       "<Figure size 432x288 with 1 Axes>"
      ]
     },
     "metadata": {
      "needs_background": "light"
     },
     "output_type": "display_data"
    }
   ],
   "source": [
    "for col in X_train_scaled[quant_vars]:\n",
    "    plt.figure(figsize=(6,4))\n",
    "    plt.boxplot(X_train_scaled[col])\n",
    "    plt.title(col)\n",
    "    plt.tight_layout()\n",
    "    plt.show()"
   ]
  },
  {
   "cell_type": "markdown",
   "metadata": {},
   "source": [
    "## Main Takeaways:\n",
    "Briefly looking into the outliers and can see their is some based on box plots. ALot of these values can be justified.\n",
    "\n"
   ]
  },
  {
   "cell_type": "code",
   "execution_count": 22,
   "metadata": {},
   "outputs": [
    {
     "data": {
      "image/png": "[encoded data removed]",
      "text/plain": [
       "<Figure size 864x432 with 1 Axes>"
      ]
     },
     "metadata": {
      "needs_background": "light"
     },
     "output_type": "display_data"
    }
   ],
   "source": [
    "explore.discrete_var_visual('time_frames',X_train,hue = 'injury_class' )"
   ]
  },
  {
   "cell_type": "markdown",
   "metadata": {},
   "source": [
    "## Main Takeaways:\n",
    "There appears to be more injuries during later hours of the day, this makes sense as rush hour traffic and possibly people out late.\n",
    "\n"
   ]
  },
  {
   "cell_type": "code",
   "execution_count": 23,
   "metadata": {},
   "outputs": [
    {
     "data": {
      "image/png": "[encoded data removed]",
      "text/plain": [
       "<Figure size 864x432 with 1 Axes>"
      ]
     },
     "metadata": {
      "needs_background": "light"
     },
     "output_type": "display_data"
    }
   ],
   "source": [
    "explore.discrete_var_visual('factors_road',train,hue = 'injury_class')"
   ]
  },
  {
   "cell_type": "markdown",
   "metadata": {},
   "source": [
    "## Main Takeaways:\n",
    "So marked lanes I believe to be typical of highways and streets so this makes sense we would see the most injuries occuring here since this is probably the most occuring values, signal lights based on domain knowledge we can expect to see injuries due to possible mishaps at signal lights or people not focusing as much.\n"
   ]
  },
  {
   "cell_type": "code",
   "execution_count": 24,
   "metadata": {},
   "outputs": [
    {
     "data": {
      "image/png": "[encoded data removed]",
      "text/plain": [
       "<Figure size 864x432 with 1 Axes>"
      ]
     },
     "metadata": {
      "needs_background": "light"
     },
     "output_type": "display_data"
    }
   ],
   "source": [
    "explore.discrete_var_visual('factors_weather',train,hue = 'injury_class')"
   ]
  },
  {
   "cell_type": "code",
   "execution_count": 25,
   "metadata": {},
   "outputs": [
    {
     "data": {
      "image/png": "[encoded data removed]",
      "text/plain": [
       "<Figure size 864x432 with 1 Axes>"
      ]
     },
     "metadata": {
      "needs_background": "light"
     },
     "output_type": "display_data"
    }
   ],
   "source": [
    "explore.discrete_var_visual('vehicle_color',train,hue = 'injury_class')"
   ]
  },
  {
   "cell_type": "markdown",
   "metadata": {},
   "source": [
    "## Main Takeaways:\n",
    "Black, white and silver, grey, appear to have the most injuries. Black is worth looking at, the higher count could be the result of black vehicles being hit more duirn late hours.\n"
   ]
  },
  {
   "cell_type": "code",
   "execution_count": 26,
   "metadata": {},
   "outputs": [
    {
     "data": {
      "image/png": "[encoded data removed]",
      "text/plain": [
       "<Figure size 864x432 with 1 Axes>"
      ]
     },
     "metadata": {
      "needs_background": "light"
     },
     "output_type": "display_data"
    }
   ],
   "source": [
    "explore.discrete_var_visual('vehicle_make',train,hue = 'injury_class')"
   ]
  },
  {
   "cell_type": "code",
   "execution_count": 27,
   "metadata": {},
   "outputs": [
    {
     "data": {
      "image/png": "[encoded data removed]",
      "text/plain": [
       "<Figure size 864x432 with 1 Axes>"
      ]
     },
     "metadata": {
      "needs_background": "light"
     },
     "output_type": "display_data"
    }
   ],
   "source": [
    "explore.discrete_var_visual('vehicle_year',train, hue = 'injury_class')"
   ]
  },
  {
   "cell_type": "markdown",
   "metadata": {},
   "source": [
    "# Multivariate Exploration"
   ]
  },
  {
   "cell_type": "markdown",
   "metadata": {},
   "source": [
    "sns.pairplot(data=train, vars=quant_vars, hue ='injury_class')\n",
    "plt.show()"
   ]
  },
  {
   "cell_type": "markdown",
   "metadata": {},
   "source": [
    "## Main Takeaways:\n",
    "I do not see any clusters which really stand out. Obviously the injury crash total would be higher with more occupants in the vehicle.\n",
    "Higher speeds appear to have a higher number of injuries.\n"
   ]
  },
  {
   "cell_type": "markdown",
   "metadata": {
    "jupyter": {
     "outputs_hidden": true
    }
   },
   "source": [
    "sns.pairplot(data=train, vars=cat_vars, hue ='injury_class')\n",
    "plt.show()"
   ]
  },
  {
   "cell_type": "code",
   "execution_count": 28,
   "metadata": {},
   "outputs": [
    {
     "name": "stdout",
     "output_type": "stream",
     "text": [
      "<class 'pandas.core.frame.DataFrame'>\n",
      "Int64Index: 21336 entries, 33143 to 3524\n",
      "Data columns (total 42 columns):\n",
      " #   Column                  Non-Null Count  Dtype   \n",
      "---  ------                  --------------  -----   \n",
      " 0   crash_date              21336 non-null  object  \n",
      " 1   crash_id                21336 non-null  int64   \n",
      " 2   crash_latitude          21336 non-null  float64 \n",
      " 3   crash_longitude         21336 non-null  float64 \n",
      " 4   crash_occupant_count    21336 non-null  int64   \n",
      " 5   crash_vehicle_count     21336 non-null  int64   \n",
      " 6   damage_airbag           21336 non-null  int64   \n",
      " 7   damage_burned           21336 non-null  int64   \n",
      " 8   damage_concentrated     21336 non-null  int64   \n",
      " 9   damage_distributed      21336 non-null  int64   \n",
      " 10  damage_rollover         21336 non-null  int64   \n",
      " 11  damage_zone             21336 non-null  int64   \n",
      " 12  dl_cdl                  21336 non-null  int64   \n",
      " 13  dl_class_a              21336 non-null  int64   \n",
      " 14  dl_class_b              21336 non-null  int64   \n",
      " 15  dl_class_m              21336 non-null  int64   \n",
      " 16  dl_state                21336 non-null  object  \n",
      " 17  dl_unlicensed           21336 non-null  int64   \n",
      " 18  driver_age              21336 non-null  int64   \n",
      " 19  driver_male             21336 non-null  int64   \n",
      " 20  driver_race             21336 non-null  object  \n",
      " 21  factors_road            21336 non-null  object  \n",
      " 22  factors_spd_lmt_mph     21336 non-null  int64   \n",
      " 23  factors_weather         21336 non-null  object  \n",
      " 24  fault_class             21336 non-null  int64   \n",
      " 25  fault_distraction       21336 non-null  int64   \n",
      " 26  fault_fatigue           21336 non-null  int64   \n",
      " 27  fault_intoxication      21336 non-null  int64   \n",
      " 28  fault_maneuver          21336 non-null  int64   \n",
      " 29  fault_narrative         21336 non-null  object  \n",
      " 30  fault_speed             21336 non-null  int64   \n",
      " 31  fault_yield             21336 non-null  int64   \n",
      " 32  injury_class            21336 non-null  int64   \n",
      " 33  injury_crash_total      21336 non-null  int64   \n",
      " 34  vehicle_color           21336 non-null  object  \n",
      " 35  vehicle_id              21336 non-null  object  \n",
      " 36  vehicle_make            21336 non-null  object  \n",
      " 37  vehicle_occupant_count  21336 non-null  int64   \n",
      " 38  vehicle_type            21336 non-null  object  \n",
      " 39  vehicle_year            21336 non-null  int64   \n",
      " 40  crash_time_24hr         21336 non-null  float64 \n",
      " 41  time_frames             21300 non-null  category\n",
      "dtypes: category(1), float64(3), int64(28), object(10)\n",
      "memory usage: 7.5+ MB\n"
     ]
    }
   ],
   "source": [
    "train.info()"
   ]
  },
  {
   "cell_type": "markdown",
   "metadata": {},
   "source": [
    "## Cluster 1"
   ]
  },
  {
   "cell_type": "code",
   "execution_count": 20,
   "metadata": {},
   "outputs": [],
   "source": [
    "from sklearn.preprocessing import StandardScaler"
   ]
  },
  {
   "cell_type": "code",
   "execution_count": 21,
   "metadata": {},
   "outputs": [],
   "source": [
    "# will utilize two features\n",
    "X = train[['factors_spd_lmt_mph','vehicle_occupant_count','damage_zone']]\n",
    "Xt = test[['factors_spd_lmt_mph','vehicle_occupant_count','damage_zone']]"
   ]
  },
  {
   "cell_type": "code",
   "execution_count": 22,
   "metadata": {},
   "outputs": [],
   "source": [
    "#scaling the features\n",
    "scaler = StandardScaler().fit(X)\n",
    "X_scaled = pd.DataFrame(scaler.transform(X), columns= X.columns).set_index([X.index.values])\n",
    "T_scaled = pd.DataFrame(scaler.transform(Xt), columns= Xt.columns).set_index([Xt.index.values])"
   ]
  },
  {
   "cell_type": "code",
   "execution_count": 23,
   "metadata": {},
   "outputs": [
    {
     "data": {
      "image/png": "[encoded data removed]",
      "text/plain": [
       "<Figure size 648x432 with 1 Axes>"
      ]
     },
     "metadata": {},
     "output_type": "display_data"
    }
   ],
   "source": [
    "# use elbow method\n",
    "with plt.style.context('seaborn-whitegrid'):\n",
    "    plt.figure(figsize=(9, 6))\n",
    "    pd.Series({k: KMeans(k).fit(X_scaled).inertia_ for k in range(2, 12)}).plot(marker='x')\n",
    "    plt.xticks(range(2, 12))\n",
    "    plt.xlabel('k')\n",
    "    plt.ylabel('inertia')\n",
    "    plt.title('Change in inertia as k increases')\n",
    "    #drop off at 5"
   ]
  },
  {
   "cell_type": "code",
   "execution_count": 24,
   "metadata": {},
   "outputs": [
    {
     "name": "stdout",
     "output_type": "stream",
     "text": [
      "46666.70512080582\n",
      "34132.46967695604\n",
      "23750.87962634099\n",
      "19904.44120263691\n",
      "16937.52280477958\n",
      "14952.286173026174\n",
      "13531.490435084708\n",
      "12339.5704704925\n",
      "11108.870908655044\n",
      "10007.1259244501\n",
      "9425.968152847478\n",
      "8607.655815208736\n"
     ]
    }
   ],
   "source": [
    "#Prints out inertia of k\n",
    "for k in range(2, 14):\n",
    "    kmeans = KMeans(n_clusters= k)\n",
    "    kmeans.fit(X_scaled)\n",
    "    kmeans.inertia_\n",
    "    print(kmeans.inertia_)"
   ]
  },
  {
   "cell_type": "code",
   "execution_count": 26,
   "metadata": {},
   "outputs": [],
   "source": [
    "#Utilize the kmeans\n",
    "kmeans = KMeans(n_clusters = 10)\n",
    "kmeans.fit(X_scaled)\n",
    "kmeans.fit(T_scaled)\n",
    "train['speed_occup_dz'] = kmeans.predict(X_scaled)\n",
    "test['speed_occup_dz'] = kmeans.predict(T_scaled)"
   ]
  },
  {
   "cell_type": "markdown",
   "metadata": {},
   "source": [
    "## Cluster 2"
   ]
  },
  {
   "cell_type": "code",
   "execution_count": 27,
   "metadata": {},
   "outputs": [],
   "source": [
    "from sklearn.preprocessing import StandardScaler"
   ]
  },
  {
   "cell_type": "code",
   "execution_count": 28,
   "metadata": {},
   "outputs": [],
   "source": [
    "# will utilize two features\n",
    "X = train[['factors_spd_lmt_mph','fault_yield','vehicle_occupant_count']]\n",
    "Xt = test[['factors_spd_lmt_mph','fault_yield','vehicle_occupant_count']]"
   ]
  },
  {
   "cell_type": "code",
   "execution_count": 29,
   "metadata": {},
   "outputs": [],
   "source": [
    "#scaling the features\n",
    "scaler = StandardScaler().fit(X)\n",
    "X_scaled = pd.DataFrame(scaler.transform(X), columns= X.columns).set_index([X.index.values])\n",
    "T_scaled = pd.DataFrame(scaler.transform(Xt), columns= Xt.columns).set_index([Xt.index.values])"
   ]
  },
  {
   "cell_type": "code",
   "execution_count": 30,
   "metadata": {},
   "outputs": [
    {
     "data": {
      "image/png": "[encoded data removed]",
      "text/plain": [
       "<Figure size 648x432 with 1 Axes>"
      ]
     },
     "metadata": {},
     "output_type": "display_data"
    }
   ],
   "source": [
    "# use elbow method\n",
    "with plt.style.context('seaborn-whitegrid'):\n",
    "    plt.figure(figsize=(9, 6))\n",
    "    pd.Series({k: KMeans(k).fit(X_scaled).inertia_ for k in range(2, 12)}).plot(marker='x')\n",
    "    plt.xticks(range(2, 12))\n",
    "    plt.xlabel('k')\n",
    "    plt.ylabel('inertia')\n",
    "    plt.title('Change in inertia as k increases')\n",
    "    #drop off at 5"
   ]
  },
  {
   "cell_type": "code",
   "execution_count": 31,
   "metadata": {},
   "outputs": [
    {
     "name": "stdout",
     "output_type": "stream",
     "text": [
      "42652.64444605317\n",
      "29572.817366684343\n",
      "17081.36661527041\n",
      "12955.281412195132\n",
      "9577.437793262798\n",
      "7887.875576969735\n",
      "6545.795941343422\n",
      "5570.451526576646\n",
      "5036.280003037487\n",
      "4360.061742666783\n"
     ]
    }
   ],
   "source": [
    "#Prints out inertia of k\n",
    "for k in range(2, 12):\n",
    "    kmeans = KMeans(n_clusters= k)\n",
    "    kmeans.fit(X_scaled)\n",
    "    kmeans.inertia_\n",
    "    print(kmeans.inertia_)"
   ]
  },
  {
   "cell_type": "code",
   "execution_count": 32,
   "metadata": {},
   "outputs": [],
   "source": [
    "#Utilize the kmeans\n",
    "kmeans = KMeans(n_clusters = 6)\n",
    "kmeans.fit(X_scaled)\n",
    "kmeans.fit(T_scaled)\n",
    "train['speed_yield_occup'] = kmeans.predict(X_scaled)\n",
    "test['speed_yield_occup'] = kmeans.predict(T_scaled)"
   ]
  },
  {
   "cell_type": "code",
   "execution_count": 33,
   "metadata": {},
   "outputs": [
    {
     "data": {
      "text/plain": [
       "Index(['crash_date', 'crash_id', 'crash_latitude', 'crash_longitude',\n",
       "       'crash_occupant_count', 'crash_vehicle_count', 'damage_airbag',\n",
       "       'damage_burned', 'damage_concentrated', 'damage_distributed',\n",
       "       'damage_rollover', 'damage_zone', 'dl_cdl', 'dl_class_a', 'dl_class_b',\n",
       "       'dl_class_m', 'dl_state', 'dl_unlicensed', 'driver_age', 'driver_male',\n",
       "       'driver_race', 'factors_road', 'factors_spd_lmt_mph', 'factors_weather',\n",
       "       'fault_class', 'fault_distraction', 'fault_fatigue',\n",
       "       'fault_intoxication', 'fault_maneuver', 'fault_narrative',\n",
       "       'fault_speed', 'fault_yield', 'injury_class', 'injury_crash_total',\n",
       "       'vehicle_color', 'vehicle_id', 'vehicle_make', 'vehicle_occupant_count',\n",
       "       'vehicle_type', 'vehicle_year', 'crash_time_24hr', 'time_frames',\n",
       "       'speed_occup_dz', 'speed_yield_occup'],\n",
       "      dtype='object')"
      ]
     },
     "execution_count": 33,
     "metadata": {},
     "output_type": "execute_result"
    }
   ],
   "source": [
    "train.columns"
   ]
  },
  {
   "cell_type": "markdown",
   "metadata": {},
   "source": [
    "## Cluster 3"
   ]
  },
  {
   "cell_type": "code",
   "execution_count": 34,
   "metadata": {},
   "outputs": [],
   "source": [
    "from sklearn.preprocessing import StandardScaler"
   ]
  },
  {
   "cell_type": "code",
   "execution_count": 37,
   "metadata": {},
   "outputs": [],
   "source": [
    "# will utilize two features\n",
    "X = train[['factors_spd_lmt_mph','fault_yield', 'fault_speed']]\n",
    "Xt = test[['factors_spd_lmt_mph','fault_yield', 'fault_speed']]"
   ]
  },
  {
   "cell_type": "code",
   "execution_count": 38,
   "metadata": {},
   "outputs": [],
   "source": [
    "#scaling the features\n",
    "scaler = StandardScaler().fit(X)\n",
    "X_scaled = pd.DataFrame(scaler.transform(X), columns= X.columns).set_index([X.index.values])\n",
    "T_scaled = pd.DataFrame(scaler.transform(Xt), columns= Xt.columns).set_index([Xt.index.values])"
   ]
  },
  {
   "cell_type": "code",
   "execution_count": 39,
   "metadata": {},
   "outputs": [
    {
     "data": {
      "image/png": "[encoded data removed]",
      "text/plain": [
       "<Figure size 648x432 with 1 Axes>"
      ]
     },
     "metadata": {},
     "output_type": "display_data"
    }
   ],
   "source": [
    "# use elbow method\n",
    "with plt.style.context('seaborn-whitegrid'):\n",
    "    plt.figure(figsize=(9, 6))\n",
    "    pd.Series({k: KMeans(k).fit(X_scaled).inertia_ for k in range(2, 15)}).plot(marker='x')\n",
    "    plt.xticks(range(2, 15))\n",
    "    plt.xlabel('k')\n",
    "    plt.ylabel('inertia')\n",
    "    plt.title('Change in inertia as k increases')\n",
    "    #drop off at 5"
   ]
  },
  {
   "cell_type": "code",
   "execution_count": 41,
   "metadata": {},
   "outputs": [
    {
     "name": "stdout",
     "output_type": "stream",
     "text": [
      "42384.5922916208\n",
      "21540.229279025018\n",
      "11233.253148272477\n",
      "7210.694822414372\n",
      "5279.409255158157\n",
      "3175.299158851354\n",
      "2667.780050951898\n",
      "2241.2589768459584\n",
      "1751.363750906911\n",
      "1363.7157808991435\n",
      "1166.4027196382822\n",
      "919.0597245162256\n",
      "741.1839680299746\n"
     ]
    }
   ],
   "source": [
    "#Prints out inertia of k\n",
    "for k in range(2, 15):\n",
    "    kmeans = KMeans(n_clusters= k)\n",
    "    kmeans.fit(X_scaled)\n",
    "    kmeans.inertia_\n",
    "    print(kmeans.inertia_)"
   ]
  },
  {
   "cell_type": "code",
   "execution_count": 43,
   "metadata": {},
   "outputs": [],
   "source": [
    "#Utilize the kmeans\n",
    "kmeans = KMeans(n_clusters = 5)\n",
    "kmeans.fit(X_scaled)\n",
    "kmeans.fit(T_scaled)\n",
    "train['speed_yield_speeding'] = kmeans.predict(X_scaled)\n",
    "test['speed_yield_speeding'] = kmeans.predict(T_scaled)"
   ]
  },
  {
   "cell_type": "code",
   "execution_count": 44,
   "metadata": {},
   "outputs": [],
   "source": [
    "#crash_vehicle_count, speed, occupants"
   ]
  },
  {
   "cell_type": "markdown",
   "metadata": {},
   "source": [
    "## Cluster 4"
   ]
  },
  {
   "cell_type": "code",
   "execution_count": 49,
   "metadata": {},
   "outputs": [
    {
     "data": {
      "text/plain": [
       "Index(['crash_date', 'crash_id', 'crash_latitude', 'crash_longitude',\n",
       "       'crash_occupant_count', 'crash_vehicle_count', 'damage_airbag',\n",
       "       'damage_burned', 'damage_concentrated', 'damage_distributed',\n",
       "       'damage_rollover', 'damage_zone', 'dl_cdl', 'dl_class_a', 'dl_class_b',\n",
       "       'dl_class_m', 'dl_state', 'dl_unlicensed', 'driver_age', 'driver_male',\n",
       "       'driver_race', 'factors_road', 'factors_spd_lmt_mph', 'factors_weather',\n",
       "       'fault_class', 'fault_distraction', 'fault_fatigue',\n",
       "       'fault_intoxication', 'fault_maneuver', 'fault_narrative',\n",
       "       'fault_speed', 'fault_yield', 'injury_class', 'injury_crash_total',\n",
       "       'vehicle_color', 'vehicle_id', 'vehicle_make', 'vehicle_occupant_count',\n",
       "       'vehicle_type', 'vehicle_year', 'crash_time_24hr', 'time_frames',\n",
       "       'speed_occup_dz', 'speed_yield_occup', 'speed_yield_speeding'],\n",
       "      dtype='object')"
      ]
     },
     "execution_count": 49,
     "metadata": {},
     "output_type": "execute_result"
    }
   ],
   "source": [
    "train.columns"
   ]
  },
  {
   "cell_type": "code",
   "execution_count": 51,
   "metadata": {},
   "outputs": [],
   "source": [
    "from sklearn.preprocessing import StandardScaler"
   ]
  },
  {
   "cell_type": "code",
   "execution_count": 52,
   "metadata": {},
   "outputs": [],
   "source": [
    "# will utilize two features\n",
    "X = train[['fault_speed','vehicle_occupant_count', 'damage_zone']]\n",
    "Xt = test[['fault_speed','vehicle_occupant_count', 'damage_zone']]"
   ]
  },
  {
   "cell_type": "code",
   "execution_count": 53,
   "metadata": {},
   "outputs": [],
   "source": [
    "#scaling the features\n",
    "scaler = StandardScaler().fit(X)\n",
    "X_scaled = pd.DataFrame(scaler.transform(X), columns= X.columns).set_index([X.index.values])\n",
    "T_scaled = pd.DataFrame(scaler.transform(Xt), columns= Xt.columns).set_index([Xt.index.values])"
   ]
  },
  {
   "cell_type": "code",
   "execution_count": 54,
   "metadata": {},
   "outputs": [
    {
     "data": {
      "image/png": "[encoded data removed]",
      "text/plain": [
       "<Figure size 648x432 with 1 Axes>"
      ]
     },
     "metadata": {},
     "output_type": "display_data"
    }
   ],
   "source": [
    "# use elbow method\n",
    "with plt.style.context('seaborn-whitegrid'):\n",
    "    plt.figure(figsize=(9, 6))\n",
    "    pd.Series({k: KMeans(k).fit(X_scaled).inertia_ for k in range(2, 12)}).plot(marker='x')\n",
    "    plt.xticks(range(2, 12))\n",
    "    plt.xlabel('k')\n",
    "    plt.ylabel('inertia')\n",
    "    plt.title('Change in inertia as k increases')\n",
    "    #drop off at 5"
   ]
  },
  {
   "cell_type": "code",
   "execution_count": 55,
   "metadata": {},
   "outputs": [
    {
     "name": "stdout",
     "output_type": "stream",
     "text": [
      "42567.27855348986\n",
      "27253.944331736566\n",
      "15626.458958540237\n",
      "12389.057414336003\n",
      "10477.367183139626\n",
      "9263.937613728414\n",
      "7759.221671626724\n",
      "6510.28146324186\n",
      "5278.479938441656\n",
      "4831.621982903083\n",
      "4138.737072441443\n",
      "3697.951528569805\n",
      "3144.547848412159\n"
     ]
    }
   ],
   "source": [
    "#Prints out inertia of k\n",
    "for k in range(2, 15):\n",
    "    kmeans = KMeans(n_clusters= k)\n",
    "    kmeans.fit(X_scaled)\n",
    "    kmeans.inertia_\n",
    "    print(kmeans.inertia_)"
   ]
  },
  {
   "cell_type": "code",
   "execution_count": 56,
   "metadata": {},
   "outputs": [],
   "source": [
    "#Utilize the kmeans\n",
    "kmeans = KMeans(n_clusters = 7)\n",
    "kmeans.fit(X_scaled)\n",
    "kmeans.fit(T_scaled)\n",
    "train['speeding_occu_dz'] = kmeans.predict(X_scaled)\n",
    "test['speeding_occu_dz'] = kmeans.predict(T_scaled)"
   ]
  },
  {
   "cell_type": "markdown",
   "metadata": {},
   "source": [
    "## Cluster 5"
   ]
  },
  {
   "cell_type": "code",
   "execution_count": 58,
   "metadata": {},
   "outputs": [
    {
     "data": {
      "text/plain": [
       "Index(['crash_date', 'crash_id', 'crash_latitude', 'crash_longitude',\n",
       "       'crash_occupant_count', 'crash_vehicle_count', 'damage_airbag',\n",
       "       'damage_burned', 'damage_concentrated', 'damage_distributed',\n",
       "       'damage_rollover', 'damage_zone', 'dl_cdl', 'dl_class_a', 'dl_class_b',\n",
       "       'dl_class_m', 'dl_state', 'dl_unlicensed', 'driver_age', 'driver_male',\n",
       "       'driver_race', 'factors_road', 'factors_spd_lmt_mph', 'factors_weather',\n",
       "       'fault_class', 'fault_distraction', 'fault_fatigue',\n",
       "       'fault_intoxication', 'fault_maneuver', 'fault_narrative',\n",
       "       'fault_speed', 'fault_yield', 'injury_class', 'injury_crash_total',\n",
       "       'vehicle_color', 'vehicle_id', 'vehicle_make', 'vehicle_occupant_count',\n",
       "       'vehicle_type', 'vehicle_year', 'crash_time_24hr', 'time_frames',\n",
       "       'speed_occup_dz', 'speed_yield_occup', 'speed_yield_speeding',\n",
       "       'speeding_occu_dz'],\n",
       "      dtype='object')"
      ]
     },
     "execution_count": 58,
     "metadata": {},
     "output_type": "execute_result"
    }
   ],
   "source": [
    "train.columns"
   ]
  },
  {
   "cell_type": "code",
   "execution_count": 59,
   "metadata": {},
   "outputs": [],
   "source": [
    "from sklearn.preprocessing import StandardScaler"
   ]
  },
  {
   "cell_type": "code",
   "execution_count": 60,
   "metadata": {},
   "outputs": [],
   "source": [
    "# will utilize two features\n",
    "X = train[['fault_speed','fault_yield', 'damage_zone']]\n",
    "Xt = test[['fault_speed','fault_yield', 'damage_zone']]"
   ]
  },
  {
   "cell_type": "code",
   "execution_count": 61,
   "metadata": {},
   "outputs": [],
   "source": [
    "#scaling the features\n",
    "scaler = StandardScaler().fit(X)\n",
    "X_scaled = pd.DataFrame(scaler.transform(X), columns= X.columns).set_index([X.index.values])\n",
    "T_scaled = pd.DataFrame(scaler.transform(Xt), columns= Xt.columns).set_index([Xt.index.values])"
   ]
  },
  {
   "cell_type": "code",
   "execution_count": 62,
   "metadata": {},
   "outputs": [
    {
     "data": {
      "image/png": "[encoded data removed]",
      "text/plain": [
       "<Figure size 648x432 with 1 Axes>"
      ]
     },
     "metadata": {},
     "output_type": "display_data"
    }
   ],
   "source": [
    "# use elbow method\n",
    "with plt.style.context('seaborn-whitegrid'):\n",
    "    plt.figure(figsize=(9, 6))\n",
    "    pd.Series({k: KMeans(k).fit(X_scaled).inertia_ for k in range(2, 12)}).plot(marker='x')\n",
    "    plt.xticks(range(2, 12))\n",
    "    plt.xlabel('k')\n",
    "    plt.ylabel('inertia')\n",
    "    plt.title('Change in inertia as k increases')\n",
    "    #drop off at 5"
   ]
  },
  {
   "cell_type": "code",
   "execution_count": 63,
   "metadata": {},
   "outputs": [
    {
     "name": "stdout",
     "output_type": "stream",
     "text": [
      "42564.217730001306\n",
      "21732.27713129028\n",
      "6866.606036097433\n",
      "4700.376413013866\n",
      "2878.017179971296\n",
      "2301.711748892208\n",
      "1803.115819410503\n",
      "1350.8026119353806\n",
      "1085.4110467786372\n",
      "797.5374811135482\n",
      "643.8062380628836\n",
      "503.30873968672887\n",
      "380.2565140135805\n"
     ]
    }
   ],
   "source": [
    "#Prints out inertia of k\n",
    "for k in range(2, 15):\n",
    "    kmeans = KMeans(n_clusters= k)\n",
    "    kmeans.fit(X_scaled)\n",
    "    kmeans.inertia_\n",
    "    print(kmeans.inertia_)"
   ]
  },
  {
   "cell_type": "code",
   "execution_count": 64,
   "metadata": {},
   "outputs": [],
   "source": [
    "#Utilize the kmeans\n",
    "kmeans = KMeans(n_clusters = 5)\n",
    "kmeans.fit(X_scaled)\n",
    "kmeans.fit(T_scaled)\n",
    "train['speeding_yield_dz'] = kmeans.predict(X_scaled)\n",
    "test['speeding_yield_dz'] = kmeans.predict(T_scaled)"
   ]
  },
  {
   "cell_type": "code",
   "execution_count": 65,
   "metadata": {},
   "outputs": [
    {
     "data": {
      "text/plain": [
       "<AxesSubplot:title={'center':'Feautures  Correlating with injury_class'}>"
      ]
     },
     "execution_count": 65,
     "metadata": {},
     "output_type": "execute_result"
    },
    {
     "data": {
      "image/png": "[encoded data removed]",
      "text/plain": [
       "<Figure size 1008x864 with 2 Axes>"
      ]
     },
     "metadata": {
      "needs_background": "light"
     },
     "output_type": "display_data"
    }
   ],
   "source": [
    "explore.get_heatmap(train, 'injury_class')"
   ]
  },
  {
   "cell_type": "markdown",
   "metadata": {},
   "source": [
    "# Multivariate Exploration & Statistical Testing"
   ]
  },
  {
   "cell_type": "code",
   "execution_count": null,
   "metadata": {},
   "outputs": [],
   "source": [
    "#speed and weather and distraction"
   ]
  },
  {
   "cell_type": "code",
   "execution_count": null,
   "metadata": {},
   "outputs": [],
   "source": [
    "#driver age, speed and damage area."
   ]
  },
  {
   "cell_type": "code",
   "execution_count": 45,
   "metadata": {},
   "outputs": [],
   "source": [
    "alpha = 0.05"
   ]
  },
  {
   "cell_type": "code",
   "execution_count": 46,
   "metadata": {},
   "outputs": [
    {
     "data": {
      "text/plain": [
       "fault_distraction  factors_road           injury_class\n",
       "0                  center stripe/divider  0               0.828010\n",
       "                                          1               0.171990\n",
       "                   flashing light         0               0.871795\n",
       "                                          1               0.128205\n",
       "                   marked lanes           0               0.812555\n",
       "                                          1               0.187445\n",
       "                   none                   0               0.841542\n",
       "                                          1               0.158458\n",
       "                   officer                0               0.741935\n",
       "                                          1               0.258065\n",
       "                   other                  0               0.827763\n",
       "                                          1               0.172237\n",
       "                   signal light           0               0.802710\n",
       "                                          1               0.197290\n",
       "                   stop sign              0               0.805461\n",
       "                                          1               0.194539\n",
       "                   yield sign             0               0.862832\n",
       "                                          1               0.137168\n",
       "1                  center stripe/divider  0               0.805755\n",
       "                                          1               0.194245\n",
       "                   flashing light         0               0.857143\n",
       "                                          1               0.142857\n",
       "                   marked lanes           0               0.806818\n",
       "                                          1               0.193182\n",
       "                   none                   0               0.843032\n",
       "                                          1               0.156968\n",
       "                   officer                0               0.850000\n",
       "                                          1               0.150000\n",
       "                   other                  0               0.855072\n",
       "                                          1               0.144928\n",
       "                   signal light           0               0.792565\n",
       "                                          1               0.207435\n",
       "                   stop sign              0               0.814327\n",
       "                                          1               0.185673\n",
       "                   yield sign             0               0.821101\n",
       "                                          1               0.178899\n",
       "Name: injury_class, dtype: float64"
      ]
     },
     "execution_count": 46,
     "metadata": {},
     "output_type": "execute_result"
    }
   ],
   "source": [
    "train.groupby(['fault_distraction', 'factors_road']).injury_class.value_counts(normalize = True)"
   ]
  },
  {
   "cell_type": "markdown",
   "metadata": {},
   "source": [
    "#### Looking into the groupings, those who were distracted it appears that being distracted while at signal light has the highest probability of resulting in injury."
   ]
  },
  {
   "cell_type": "markdown",
   "metadata": {},
   "source": [
    "----"
   ]
  },
  {
   "cell_type": "code",
   "execution_count": 138,
   "metadata": {},
   "outputs": [
    {
     "data": {
      "text/plain": [
       "<AxesSubplot:ylabel='fault_distraction,factors_weather,injury_class'>"
      ]
     },
     "execution_count": 138,
     "metadata": {},
     "output_type": "execute_result"
    },
    {
     "data": {
      "image/png": "[encoded data removed]",
      "text/plain": [
       "<Figure size 432x288 with 1 Axes>"
      ]
     },
     "metadata": {
      "needs_background": "light"
     },
     "output_type": "display_data"
    }
   ],
   "source": [
    "train.groupby(['fault_distraction', 'factors_weather']).injury_class.value_counts(normalize = True).plot.barh()"
   ]
  },
  {
   "cell_type": "markdown",
   "metadata": {},
   "source": [
    "#### Looking into the groupings, those who were distracted it appears that being distracted during sleet hail and rain appears to result in higher percentage of injuries."
   ]
  },
  {
   "cell_type": "markdown",
   "metadata": {},
   "source": [
    "----"
   ]
  },
  {
   "cell_type": "markdown",
   "metadata": {},
   "source": [
    "# Statistical Testing"
   ]
  },
  {
   "cell_type": "markdown",
   "metadata": {},
   "source": [
    "---"
   ]
  },
  {
   "cell_type": "code",
   "execution_count": 111,
   "metadata": {},
   "outputs": [],
   "source": [
    "#define alpha\n",
    "alpha = 0.05"
   ]
  },
  {
   "cell_type": "code",
   "execution_count": 48,
   "metadata": {},
   "outputs": [],
   "source": [
    "distraction = train[train.fault_distraction == 1]"
   ]
  },
  {
   "cell_type": "code",
   "execution_count": 49,
   "metadata": {},
   "outputs": [
    {
     "name": "stdout",
     "output_type": "stream",
     "text": [
      "Observed\n",
      "factors_weather  clear  cloudy  other  rain  sleet/hail  snow\n",
      "injury_class                                                 \n",
      "0                 4102     989     25   260           5     8\n",
      "1                  904     274      9    48           3     1\n",
      "---\n",
      "Expected\n",
      "[[4.07020730e+03 1.02690208e+03 2.76442366e+01 2.50424261e+02\n",
      "  6.50452625e+00 7.31759203e+00]\n",
      " [9.35792698e+02 2.36097918e+02 6.35576343e+00 5.75757393e+01\n",
      "  1.49547375e+00 1.68240797e+00]]\n",
      "---\n",
      "\n",
      "chi^2 = 14.3259\n",
      "p     = 0.0137\n"
     ]
    }
   ],
   "source": [
    "#Statistical Testing\n",
    "\n",
    "#Chi Tests\n",
    "observed = pd.crosstab(distraction.injury_class, distraction.factors_weather)\n",
    "chi2, p, degf, expected = stats.chi2_contingency(observed)\n",
    "\n",
    "print('Observed')\n",
    "print(observed)\n",
    "print('---\\nExpected')\n",
    "print(expected)\n",
    "print('---\\n')\n",
    "print(f'chi^2 = {chi2:.4f}')\n",
    "print(f'p     = {p:.4f}')"
   ]
  },
  {
   "cell_type": "code",
   "execution_count": 93,
   "metadata": {},
   "outputs": [
    {
     "name": "stdout",
     "output_type": "stream",
     "text": [
      "we fail to reject the null\n"
     ]
    }
   ],
   "source": [
    "if p < alpha:\n",
    "    print('We reject the null')\n",
    "else:\n",
    "    print(\"we fail to reject the null\")"
   ]
  },
  {
   "cell_type": "markdown",
   "metadata": {},
   "source": [
    "The objective here was to see if the sub group of being distracted, the distracted injury classification was independent of weather factors. The results indicate it is not independent."
   ]
  },
  {
   "cell_type": "markdown",
   "metadata": {},
   "source": [
    "----"
   ]
  },
  {
   "cell_type": "code",
   "execution_count": 105,
   "metadata": {},
   "outputs": [],
   "source": [
    "airbags_deploy = train[train.damage_airbag == 1]"
   ]
  },
  {
   "cell_type": "code",
   "execution_count": 106,
   "metadata": {},
   "outputs": [
    {
     "data": {
      "text/plain": [
       "(4207, 47)"
      ]
     },
     "execution_count": 106,
     "metadata": {},
     "output_type": "execute_result"
    }
   ],
   "source": [
    "airbags_deploy.shape"
   ]
  },
  {
   "cell_type": "code",
   "execution_count": 114,
   "metadata": {},
   "outputs": [
    {
     "name": "stdout",
     "output_type": "stream",
     "text": [
      "Observed\n",
      "vehicle_occupant_count     1    2    3   4   5  6  7\n",
      "injury_class                                        \n",
      "0                       2254  352  109  44  17  4  1\n",
      "1                        956  324   96  32   9  5  4\n",
      "---\n",
      "Expected\n",
      "[[2.12194200e+03 4.46863798e+02 1.35513430e+02 5.02391253e+01\n",
      "  1.71870692e+01 5.94937010e+00 3.30520561e+00]\n",
      " [1.08805800e+03 2.29136202e+02 6.94865700e+01 2.57608747e+01\n",
      "  8.81293083e+00 3.05062990e+00 1.69479439e+00]]\n",
      "---\n",
      "\n",
      "chi^2 = 107.8826\n",
      "p     = 0.0000\n"
     ]
    }
   ],
   "source": [
    "#Statistical Testing \n",
    "#Chi Tests\n",
    "observed = pd.crosstab(airbags_deploy.injury_class, airbags_deploy.vehicle_occupant_count)\n",
    "chi2, p, degf, expected = stats.chi2_contingency(observed)\n",
    "\n",
    "print('Observed')\n",
    "print(observed)\n",
    "print('---\\nExpected')\n",
    "print(expected)\n",
    "print('---\\n')\n",
    "print(f'chi^2 = {chi2:.4f}')\n",
    "print(f'p     = {p:.4f}')"
   ]
  },
  {
   "cell_type": "code",
   "execution_count": 113,
   "metadata": {},
   "outputs": [
    {
     "name": "stdout",
     "output_type": "stream",
     "text": [
      "We reject the null\n"
     ]
    }
   ],
   "source": [
    "if p < alpha:\n",
    "    print('We reject the null')\n",
    "else:\n",
    "    print(\"we fail to reject the null\")"
   ]
  },
  {
   "cell_type": "code",
   "execution_count": null,
   "metadata": {},
   "outputs": [],
   "source": []
  },
  {
   "cell_type": "markdown",
   "metadata": {},
   "source": [
    "The objective here was to see if the sub group in which an airbag deployed, if injury_class was independent of vehicle occupant count, the results indicate its not."
   ]
  },
  {
   "cell_type": "markdown",
   "metadata": {},
   "source": [
    "----"
   ]
  },
  {
   "cell_type": "markdown",
   "metadata": {},
   "source": [
    "Form hypothesis:\n",
    "\n",
    "$H_0$:failuire to yield and damage zone, they are independent\n",
    "\n",
    "$H_a$:failuire to yield and damage zone, they are not independent"
   ]
  },
  {
   "cell_type": "code",
   "execution_count": 115,
   "metadata": {},
   "outputs": [
    {
     "data": {
      "text/plain": [
       "fault_yield  damage_zone  injury_class\n",
       "0            0            0               0.955556\n",
       "                          1               0.044444\n",
       "             1            0               0.844722\n",
       "                          1               0.155278\n",
       "             2            0               0.813455\n",
       "                          1               0.186545\n",
       "             3            0               0.870742\n",
       "                          1               0.129258\n",
       "             4            0               0.824361\n",
       "                          1               0.175639\n",
       "             5            0               0.879444\n",
       "                          1               0.120556\n",
       "             6            0               0.853256\n",
       "                          1               0.146744\n",
       "             7            0               0.846545\n",
       "                          1               0.153455\n",
       "             8            0               0.870968\n",
       "                          1               0.129032\n",
       "             9            0               0.655172\n",
       "                          1               0.344828\n",
       "             10           1               0.678571\n",
       "                          0               0.321429\n",
       "1            0            0               1.000000\n",
       "             1            0               0.763754\n",
       "                          1               0.236246\n",
       "             2            0               0.758333\n",
       "                          1               0.241667\n",
       "             3            0               0.882353\n",
       "                          1               0.117647\n",
       "             4            0               0.823529\n",
       "                          1               0.176471\n",
       "             5            0               0.750000\n",
       "                          1               0.250000\n",
       "             6            0               0.947368\n",
       "                          1               0.052632\n",
       "             7            0               0.807692\n",
       "                          1               0.192308\n",
       "             8            0               0.933333\n",
       "                          1               0.066667\n",
       "             9            1               0.550000\n",
       "                          0               0.450000\n",
       "Name: injury_class, dtype: float64"
      ]
     },
     "execution_count": 115,
     "metadata": {},
     "output_type": "execute_result"
    }
   ],
   "source": [
    "train.groupby(['fault_yield','damage_zone' ]).injury_class.value_counts(normalize = True)"
   ]
  },
  {
   "cell_type": "code",
   "execution_count": 116,
   "metadata": {},
   "outputs": [],
   "source": [
    "failed_yield = train[train.fault_yield == 1]\n",
    "failed_yield_speed_greater_30 = failed_yield[failed_yield.factors_spd_lmt_mph > 20]"
   ]
  },
  {
   "cell_type": "code",
   "execution_count": 117,
   "metadata": {},
   "outputs": [
    {
     "name": "stdout",
     "output_type": "stream",
     "text": [
      "Observed\n",
      "damage_zone   0    1   2   3   4   5   6   7   8   9\n",
      "injury_class                                        \n",
      "0             2  226  87  29  27  11  18  21  14   9\n",
      "1             0   68  27   4   5   4   1   5   1  11\n",
      "---\n",
      "Expected\n",
      "[[  1.55789474 229.01052632  88.8         25.70526316  24.92631579\n",
      "   11.68421053  14.8         20.25263158  11.68421053  15.57894737]\n",
      " [  0.44210526  64.98947368  25.2          7.29473684   7.07368421\n",
      "    3.31578947   4.2          5.74736842   3.31578947   4.42105263]]\n",
      "---\n",
      "\n",
      "chi^2 = 21.6832\n",
      "p     = 0.0099\n"
     ]
    }
   ],
   "source": [
    "#Statistical Testing \n",
    "#Chi Tests\n",
    "observed = pd.crosstab(failed_yield_speed_greater_30.injury_class, failed_yield_speed_greater_30.damage_zone)\n",
    "chi2, p, degf, expected = stats.chi2_contingency(observed)\n",
    "\n",
    "print('Observed')\n",
    "print(observed)\n",
    "print('---\\nExpected')\n",
    "print(expected)\n",
    "print('---\\n')\n",
    "print(f'chi^2 = {chi2:.4f}')\n",
    "print(f'p     = {p:.4f}')\n",
    "\n"
   ]
  },
  {
   "cell_type": "code",
   "execution_count": 118,
   "metadata": {},
   "outputs": [
    {
     "name": "stdout",
     "output_type": "stream",
     "text": [
      "We reject the null\n"
     ]
    }
   ],
   "source": [
    "if p < alpha:\n",
    "    print('We reject the null')\n",
    "else:\n",
    "    print(\"we fail to reject the null\")"
   ]
  },
  {
   "cell_type": "markdown",
   "metadata": {},
   "source": [
    "The objective here was to see if the sub group of those who failed to yield at speeds greater than 30 if the injury class for this subgroup was independent of damage zone, the results indicated it is not."
   ]
  },
  {
   "cell_type": "markdown",
   "metadata": {},
   "source": [
    "----"
   ]
  },
  {
   "cell_type": "markdown",
   "metadata": {},
   "source": [
    "Form hypothesis:\n",
    "\n",
    "$H_0$: (Occupant count greater than 1 and a speed of >= 50) and damage zone , they are independent\n",
    "\n",
    "$H_a$: (Occupant count greater than 1 and a speed of >= 50) and damage zone , they are not independent"
   ]
  },
  {
   "cell_type": "code",
   "execution_count": 122,
   "metadata": {},
   "outputs": [],
   "source": [
    "has_occupants = train[train.vehicle_occupant_count > 1]"
   ]
  },
  {
   "cell_type": "code",
   "execution_count": 123,
   "metadata": {},
   "outputs": [
    {
     "data": {
      "text/plain": [
       "factors_spd_lmt_mph  vehicle_occupant_count  damage_zone  injury_class\n",
       "-1                   1                       1            0               0.910448\n",
       "                                                          1               0.089552\n",
       "                                             2            0               0.914634\n",
       "                                                          1               0.085366\n",
       "                                             3            0               0.857143\n",
       "                                                                            ...   \n",
       " 75                  1                       4            1               0.500000\n",
       "                     2                       1            0               1.000000\n",
       "                     3                       2            0               1.000000\n",
       "                     4                       6            0               1.000000\n",
       "                     7                       1            1               1.000000\n",
       "Name: injury_class, Length: 799, dtype: float64"
      ]
     },
     "execution_count": 123,
     "metadata": {},
     "output_type": "execute_result"
    }
   ],
   "source": [
    "train.groupby(['factors_spd_lmt_mph','vehicle_occupant_count','damage_zone' ]).injury_class.value_counts(normalize = True)"
   ]
  },
  {
   "cell_type": "code",
   "execution_count": 124,
   "metadata": {},
   "outputs": [],
   "source": [
    "speed = has_occupants[has_occupants.factors_spd_lmt_mph >= 50]"
   ]
  },
  {
   "cell_type": "code",
   "execution_count": 125,
   "metadata": {},
   "outputs": [
    {
     "name": "stdout",
     "output_type": "stream",
     "text": [
      "Observed\n",
      "damage_zone   0    1    2   3   4   5   6   7   8   9\n",
      "injury_class                                         \n",
      "0             2  292  225  44  78  33  33  56  24   8\n",
      "1             0   99  124   7  20  11  17  18   8  10\n",
      "---\n",
      "Expected\n",
      "[[  1.43372408 280.29305681 250.18485122  36.55996393  70.25247971\n",
      "   31.54192967  35.84310189  53.0477908   22.93958521  12.90351668]\n",
      " [  0.56627592 110.70694319  98.81514878  14.44003607  27.74752029\n",
      "   12.45807033  14.15689811  20.9522092    9.06041479   5.09648332]]\n",
      "---\n",
      "\n",
      "chi^2 = 28.2052\n",
      "p     = 0.0009\n"
     ]
    }
   ],
   "source": [
    "#Statistical Testing \n",
    "#Chi Tests\n",
    "observed = pd.crosstab(speed.injury_class, speed.damage_zone)\n",
    "chi2, p, degf, expected = stats.chi2_contingency(observed)\n",
    "\n",
    "print('Observed')\n",
    "print(observed)\n",
    "print('---\\nExpected')\n",
    "print(expected)\n",
    "print('---\\n')\n",
    "print(f'chi^2 = {chi2:.4f}')\n",
    "print(f'p     = {p:.4f}')\n",
    "\n"
   ]
  },
  {
   "cell_type": "code",
   "execution_count": 126,
   "metadata": {},
   "outputs": [
    {
     "name": "stdout",
     "output_type": "stream",
     "text": [
      "We reject the null\n"
     ]
    }
   ],
   "source": [
    "if p < alpha:\n",
    "    print('We reject the null')\n",
    "else:\n",
    "    print(\"we fail to reject the null\")"
   ]
  },
  {
   "cell_type": "markdown",
   "metadata": {},
   "source": [
    "-----"
   ]
  },
  {
   "cell_type": "markdown",
   "metadata": {},
   "source": [
    "Form hypothesis:\n",
    "\n",
    "$H_0$: Sub-Group(Any road conditions failed to yield) and damage airbags they are independent\n",
    "\n",
    "$H_a$: Sub-Group(Any road conditions failed to yield) and damage airbags they are independent, they are not independent"
   ]
  },
  {
   "cell_type": "code",
   "execution_count": 100,
   "metadata": {},
   "outputs": [
    {
     "data": {
      "text/plain": [
       "0    20741\n",
       "1      595\n",
       "Name: fault_yield, dtype: int64"
      ]
     },
     "execution_count": 100,
     "metadata": {},
     "output_type": "execute_result"
    }
   ],
   "source": [
    "train.fault_yield.value_counts()"
   ]
  },
  {
   "cell_type": "code",
   "execution_count": 101,
   "metadata": {},
   "outputs": [
    {
     "data": {
      "text/plain": [
       "marked lanes             7695\n",
       "signal light             5072\n",
       "none                     4213\n",
       "stop sign                2173\n",
       "center stripe/divider     784\n",
       "other                     710\n",
       "yield sign                537\n",
       "flashing light             94\n",
       "officer                    58\n",
       "Name: factors_road, dtype: int64"
      ]
     },
     "execution_count": 101,
     "metadata": {},
     "output_type": "execute_result"
    }
   ],
   "source": [
    "train.factors_road.value_counts()"
   ]
  },
  {
   "cell_type": "code",
   "execution_count": 102,
   "metadata": {},
   "outputs": [],
   "source": [
    "has_road_factors = train[(train.factors_road != 'none') & (train.factors_road != 'other')]\n",
    "failed_yield = has_road_factors[has_road_factors.fault_yield == 1]"
   ]
  },
  {
   "cell_type": "code",
   "execution_count": 103,
   "metadata": {},
   "outputs": [
    {
     "name": "stdout",
     "output_type": "stream",
     "text": [
      "Observed\n",
      "damage_airbag    0   1\n",
      "injury_class          \n",
      "0              252  81\n",
      "1               50  46\n",
      "---\n",
      "Expected\n",
      "[[234.41958042  98.58041958]\n",
      " [ 67.58041958  28.41958042]]\n",
      "---\n",
      "\n",
      "chi^2 = 18.7864\n",
      "p     = 0.0000\n"
     ]
    }
   ],
   "source": [
    "#Statistical Testing \n",
    "#Chi Tests\n",
    "observed = pd.crosstab(failed_yield.injury_class, failed_yield.damage_airbag)\n",
    "chi2, p, degf, expected = stats.chi2_contingency(observed)\n",
    "\n",
    "print('Observed')\n",
    "print(observed)\n",
    "print('---\\nExpected')\n",
    "print(expected)\n",
    "print('---\\n')\n",
    "print(f'chi^2 = {chi2:.4f}')\n",
    "print(f'p     = {p:.4f}')\n"
   ]
  },
  {
   "cell_type": "code",
   "execution_count": 104,
   "metadata": {},
   "outputs": [
    {
     "ename": "NameError",
     "evalue": "name 'alpha' is not defined",
     "output_type": "error",
     "traceback": [
      "\u001b[0;31m---------------------------------------------------------------------------\u001b[0m",
      "\u001b[0;31mNameError\u001b[0m                                 Traceback (most recent call last)",
      "\u001b[0;32m<ipython-input-104-b935695aca07>\u001b[0m in \u001b[0;36m<module>\u001b[0;34m\u001b[0m\n\u001b[0;32m----> 1\u001b[0;31m \u001b[0;32mif\u001b[0m \u001b[0mp\u001b[0m \u001b[0;34m<\u001b[0m \u001b[0malpha\u001b[0m\u001b[0;34m:\u001b[0m\u001b[0;34m\u001b[0m\u001b[0;34m\u001b[0m\u001b[0m\n\u001b[0m\u001b[1;32m      2\u001b[0m     \u001b[0mprint\u001b[0m\u001b[0;34m(\u001b[0m\u001b[0;34m'We reject the null'\u001b[0m\u001b[0;34m)\u001b[0m\u001b[0;34m\u001b[0m\u001b[0;34m\u001b[0m\u001b[0m\n\u001b[1;32m      3\u001b[0m \u001b[0;32melse\u001b[0m\u001b[0;34m:\u001b[0m\u001b[0;34m\u001b[0m\u001b[0;34m\u001b[0m\u001b[0m\n\u001b[1;32m      4\u001b[0m     \u001b[0mprint\u001b[0m\u001b[0;34m(\u001b[0m\u001b[0;34m\"we fail to reject the null\"\u001b[0m\u001b[0;34m)\u001b[0m\u001b[0;34m\u001b[0m\u001b[0;34m\u001b[0m\u001b[0m\n",
      "\u001b[0;31mNameError\u001b[0m: name 'alpha' is not defined"
     ]
    }
   ],
   "source": [
    "if p < alpha:\n",
    "    print('We reject the null')\n",
    "else:\n",
    "    print(\"we fail to reject the null\")"
   ]
  },
  {
   "cell_type": "markdown",
   "metadata": {},
   "source": [
    "The objective here was to see if the sub group of those who failed to yield on any actual road conditions if the injury class for this subgroup was independent of damage_airbag, results indicate it is not"
   ]
  },
  {
   "cell_type": "markdown",
   "metadata": {},
   "source": [
    "-----"
   ]
  },
  {
   "cell_type": "markdown",
   "metadata": {},
   "source": [
    "# Main Takeaways Statistical Testing"
   ]
  },
  {
   "cell_type": "markdown",
   "metadata": {},
   "source": [
    "My main objective was to look at subgroup. The reason behind this is because each variable on its own had a weak correlation to the target so by creating these subgroup through a combination of features\n",
    "I wanted to see if there was indeed a relationship between the target and certain factors. This was mainly to use for supporting my decision to creature features utilizing clustering."
   ]
  },
  {
   "cell_type": "code",
   "execution_count": null,
   "metadata": {},
   "outputs": [],
   "source": [
    "#speed and weather and distraction"
   ]
  },
  {
   "cell_type": "code",
   "execution_count": null,
   "metadata": {},
   "outputs": [],
   "source": [
    "#driver age, speed and damage area."
   ]
  },
  {
   "cell_type": "code",
   "execution_count": 66,
   "metadata": {},
   "outputs": [
    {
     "data": {
      "text/plain": [
       "<AxesSubplot:title={'center':'Feautures  Correlating with injury_class'}>"
      ]
     },
     "execution_count": 66,
     "metadata": {},
     "output_type": "execute_result"
    },
    {
     "data": {
      "image/png": "[encoded data removed]",
      "text/plain": [
       "<Figure size 1008x864 with 2 Axes>"
      ]
     },
     "metadata": {
      "needs_background": "light"
     },
     "output_type": "display_data"
    }
   ],
   "source": [
    "explore.get_heatmap(train, 'injury_class')"
   ]
  },
  {
   "cell_type": "markdown",
   "metadata": {},
   "source": [
    "# Ask anna to do traffic conditions failed yield and was speeding!\n",
    "# or instead of speeding do dz or number of occupants\n",
    "# think of situation failure to yield at a signal light!"
   ]
  },
  {
   "cell_type": "markdown",
   "metadata": {},
   "source": [
    "# Modeling: "
   ]
  },
  {
   "cell_type": "code",
   "execution_count": 67,
   "metadata": {},
   "outputs": [
    {
     "data": {
      "text/plain": [
       "0    14938\n",
       "1     3370\n",
       "Name: injury_class, dtype: int64"
      ]
     },
     "execution_count": 67,
     "metadata": {},
     "output_type": "execute_result"
    }
   ],
   "source": [
    "train.injury_class.value_counts() "
   ]
  },
  {
   "cell_type": "code",
   "execution_count": null,
   "metadata": {},
   "outputs": [],
   "source": [
    "train['baseline_prediction'] = 0\n",
    "baseline =(train.baseline_prediction == train.).mean()\n",
    "baseline \n",
    "#baseline accuracy is 73.43%"
   ]
  }
 ],
 "metadata": {
  "kernelspec": {
   "display_name": "Python 3",
   "language": "python",
   "name": "python3"
  },
  "language_info": {
   "codemirror_mode": {
    "name": "ipython",
    "version": 3
   },
   "file_extension": ".py",
   "mimetype": "text/x-python",
   "name": "python",
   "nbconvert_exporter": "python",
   "pygments_lexer": "ipython3",
   "version": "3.8.5"
  }
 },
 "nbformat": 4,
 "nbformat_minor": 4
}
