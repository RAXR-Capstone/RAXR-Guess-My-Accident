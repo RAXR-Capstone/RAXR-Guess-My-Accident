{
 "cells": [
  {
   "cell_type": "code",
   "execution_count": 1,
   "metadata": {},
   "outputs": [],
   "source": [
    "import pandas as pd\n",
    "import numpy as np\n",
    "import matplotlib as plt\n",
    "import seaborn as sns\n",
    "import re\n",
    "from datetime import timedelta, datetime\n",
    "import datetime"
   ]
  },
  {
   "cell_type": "code",
   "execution_count": 2,
   "metadata": {},
   "outputs": [],
   "source": [
    "df = pd.read_csv('all_accident_data.csv')"
   ]
  },
  {
   "cell_type": "code",
   "execution_count": 3,
   "metadata": {},
   "outputs": [
    {
     "name": "stdout",
     "output_type": "stream",
     "text": [
      "<class 'pandas.core.frame.DataFrame'>\n",
      "RangeIndex: 15120 entries, 0 to 15119\n",
      "Data columns (total 32 columns):\n",
      " #   Column                Non-Null Count  Dtype  \n",
      "---  ------                --------------  -----  \n",
      " 0   Unnamed: 0            15120 non-null  int64  \n",
      " 1   index                 15120 non-null  int64  \n",
      " 2   crash_url             15120 non-null  object \n",
      " 3   case_id               15099 non-null  object \n",
      " 4   crash_id              15120 non-null  int64  \n",
      " 5   crash_city            15120 non-null  object \n",
      " 6   crash_date            15120 non-null  object \n",
      " 7   crash_latitude        15120 non-null  float64\n",
      " 8   crash_longitude       15120 non-null  float64\n",
      " 9   police_dept           15120 non-null  object \n",
      " 10  accident_factor       13220 non-null  object \n",
      " 11  speed_limit           15120 non-null  object \n",
      " 12  crash_location        15120 non-null  object \n",
      " 13  num_of_injuries       15120 non-null  int64  \n",
      " 14  num_of_vehicles       15120 non-null  int64  \n",
      " 15  num_of_occupants      15120 non-null  int64  \n",
      " 16  at_fault              15120 non-null  int64  \n",
      " 17  car_contained_injury  15120 non-null  int64  \n",
      " 18  car_make              14138 non-null  object \n",
      " 19  car_year              12954 non-null  object \n",
      " 20  car_color             14260 non-null  object \n",
      " 21  car_vin               15120 non-null  object \n",
      " 22  driver_age            10746 non-null  float64\n",
      " 23  driver_gender         12642 non-null  object \n",
      " 24  driver_ethnicity      12642 non-null  object \n",
      " 25  driver_residence      0 non-null      float64\n",
      " 26  driver_car_damage     15120 non-null  object \n",
      " 27  driver_license_type   12642 non-null  object \n",
      " 28  driver_license_state  13369 non-null  object \n",
      " 29  driver_insured        15120 non-null  object \n",
      " 30  traffic_conditions    14764 non-null  object \n",
      " 31  weather_conditions    14597 non-null  object \n",
      "dtypes: float64(4), int64(8), object(20)\n",
      "memory usage: 3.7+ MB\n"
     ]
    }
   ],
   "source": [
    "df.info()"
   ]
  },
  {
   "cell_type": "code",
   "execution_count": 4,
   "metadata": {},
   "outputs": [],
   "source": [
    "from prepare import prep_driver_data, prep_vehicle_data, prep_damage_data, initial_prep,create_fault_factor_cols\n",
    "df = initial_prep(df)\n",
    "df = prep_driver_data(df)\n",
    "df = prep_vehicle_data(df)\n",
    "df = prep_damage_data(df)\n",
    "df = create_fault_factor_cols(df)"
   ]
  },
  {
   "cell_type": "code",
   "execution_count": 5,
   "metadata": {},
   "outputs": [
    {
     "name": "stdout",
     "output_type": "stream",
     "text": [
      "<class 'pandas.core.frame.DataFrame'>\n",
      "Int64Index: 15120 entries, 0 to 15119\n",
      "Data columns (total 38 columns):\n",
      " #   Column                Non-Null Count  Dtype  \n",
      "---  ------                --------------  -----  \n",
      " 0   crash_url             15120 non-null  object \n",
      " 1   crash_id              15120 non-null  int64  \n",
      " 2   crash_date            15120 non-null  object \n",
      " 3   crash_latitude        15120 non-null  float64\n",
      " 4   crash_longitude       15120 non-null  float64\n",
      " 5   accident_factor       15120 non-null  object \n",
      " 6   speed_limit_mph       15120 non-null  int64  \n",
      " 7   num_of_injuries       15120 non-null  int64  \n",
      " 8   num_of_vehicles       15120 non-null  int64  \n",
      " 9   num_of_occupants      15120 non-null  int64  \n",
      " 10  at_fault              15120 non-null  int64  \n",
      " 11  car_contained_injury  15120 non-null  int64  \n",
      " 12  vehicle_make          13383 non-null  object \n",
      " 13  vehicle_year          15120 non-null  int64  \n",
      " 14  vehicle_color         14260 non-null  object \n",
      " 15  vin                   13252 non-null  object \n",
      " 16  driver_age            15120 non-null  int64  \n",
      " 17  driver_gender         10864 non-null  object \n",
      " 18  driver_ethnicity      10676 non-null  object \n",
      " 19  dl_state              13005 non-null  object \n",
      " 20  traffic_conditions    14764 non-null  object \n",
      " 21  weather_conditions    14597 non-null  object \n",
      " 22  cdl                   15120 non-null  int64  \n",
      " 23  unlicensed            15120 non-null  int64  \n",
      " 24  dl_class_a            15120 non-null  int64  \n",
      " 25  dl_class_b            15120 non-null  int64  \n",
      " 26  dl_class_m            15120 non-null  int64  \n",
      " 27  vehicle_dmg_zone      15120 non-null  int64  \n",
      " 28  concentrated_damage   15120 non-null  int64  \n",
      " 29  distributed_damage    15120 non-null  int64  \n",
      " 30  rollover_damage       15120 non-null  int64  \n",
      " 31  vehicle_burned        15120 non-null  int64  \n",
      " 32  distraction           15120 non-null  int64  \n",
      " 33  maneuver              15120 non-null  int64  \n",
      " 34  speed                 15120 non-null  int64  \n",
      " 35  intoxication          15120 non-null  int64  \n",
      " 36  fatigue               15120 non-null  int64  \n",
      " 37  yield                 15120 non-null  int64  \n",
      "dtypes: float64(2), int64(25), object(11)\n",
      "memory usage: 4.5+ MB\n"
     ]
    }
   ],
   "source": [
    "df.info()"
   ]
  },
  {
   "cell_type": "code",
   "execution_count": 6,
   "metadata": {},
   "outputs": [],
   "source": [
    "row = df.crash_date[0]"
   ]
  },
  {
   "cell_type": "code",
   "execution_count": 5,
   "metadata": {},
   "outputs": [],
   "source": [
    "df.crash_date = df.crash_date.apply(lambda row: pd.to_datetime(row).strftime('%m/%d/%Y %H:%M'))\n",
    "# extracting date from timestamp\n",
    "#df['crash_time'] = df.crash_date.apply(lambda row: pd.to_datetime(row).strftime('%H:%M'))\n",
    "\n",
    "df['crashhr'] = pd.to_datetime(df.crash_date).dt.hour\n",
    "df['crashhr'] = df.crashhr.astype(str)\n",
    "#######\n",
    "df['crashmin'] = pd.to_datetime(df.crash_date).dt.minute\n",
    "df['crashmin'] = df.crashmin.astype(str)\n",
    "########\n",
    "#combining \n",
    "df['crash_time_24hr'] = (df.crashhr + '.' + df.crashmin)\n",
    "\n",
    "\n",
    "#float value to bin time\n",
    "\n",
    "df['crash_time_24hr'] = df['crash_time_24hr'].astype('float64')\n",
    "\n",
    "df['crash_date'] = pd.to_datetime(df.crash_date).dt.date\n",
    "df['crash_date'] = df.crash_date.astype(str)\n",
    "\n",
    "\n",
    "#dropping several columns\n",
    "df.drop(columns = {'crashhr', 'crashmin'}, inplace = True)\n",
    "\n",
    "\n",
    "\n",
    "\n",
    "\n",
    "\n",
    "\n"
   ]
  },
  {
   "cell_type": "code",
   "execution_count": 6,
   "metadata": {},
   "outputs": [
    {
     "data": {
      "text/plain": [
       "18.00    119\n",
       "16.00    114\n",
       "19.00    113\n",
       "17.00    108\n",
       "16.30    105\n",
       "        ... \n",
       "5.29       1\n",
       "23.29      1\n",
       "3.14       1\n",
       "6.28       1\n",
       "5.28       1\n",
       "Name: crash_time_24hr, Length: 1243, dtype: int64"
      ]
     },
     "execution_count": 6,
     "metadata": {},
     "output_type": "execute_result"
    }
   ],
   "source": [
    "df.crash_time_24hr.value_counts()"
   ]
  },
  {
   "cell_type": "code",
   "execution_count": 12,
   "metadata": {},
   "outputs": [
    {
     "name": "stdout",
     "output_type": "stream",
     "text": [
      "<class 'pandas.core.frame.DataFrame'>\n",
      "Int64Index: 15120 entries, 0 to 15119\n",
      "Data columns (total 39 columns):\n",
      " #   Column                Non-Null Count  Dtype  \n",
      "---  ------                --------------  -----  \n",
      " 0   crash_url             15120 non-null  object \n",
      " 1   crash_id              15120 non-null  int64  \n",
      " 2   crash_date            15120 non-null  object \n",
      " 3   crash_latitude        15120 non-null  float64\n",
      " 4   crash_longitude       15120 non-null  float64\n",
      " 5   accident_factor       15120 non-null  object \n",
      " 6   speed_limit_mph       15120 non-null  int64  \n",
      " 7   num_of_injuries       15120 non-null  int64  \n",
      " 8   num_of_vehicles       15120 non-null  int64  \n",
      " 9   num_of_occupants      15120 non-null  int64  \n",
      " 10  at_fault              15120 non-null  int64  \n",
      " 11  car_contained_injury  15120 non-null  int64  \n",
      " 12  vehicle_make          13383 non-null  object \n",
      " 13  vehicle_year          15120 non-null  int64  \n",
      " 14  vehicle_color         14260 non-null  object \n",
      " 15  vin                   13252 non-null  object \n",
      " 16  driver_age            15120 non-null  int64  \n",
      " 17  driver_gender         10864 non-null  object \n",
      " 18  driver_ethnicity      10676 non-null  object \n",
      " 19  dl_state              13005 non-null  object \n",
      " 20  traffic_conditions    14764 non-null  object \n",
      " 21  weather_conditions    14597 non-null  object \n",
      " 22  cdl                   15120 non-null  int64  \n",
      " 23  unlicensed            15120 non-null  int64  \n",
      " 24  dl_class_a            15120 non-null  int64  \n",
      " 25  dl_class_b            15120 non-null  int64  \n",
      " 26  dl_class_m            15120 non-null  int64  \n",
      " 27  vehicle_dmg_zone      15120 non-null  int64  \n",
      " 28  concentrated_damage   15120 non-null  int64  \n",
      " 29  distributed_damage    15120 non-null  int64  \n",
      " 30  rollover_damage       15120 non-null  int64  \n",
      " 31  vehicle_burned        15120 non-null  int64  \n",
      " 32  distraction           15120 non-null  int64  \n",
      " 33  maneuver              15120 non-null  int64  \n",
      " 34  speed                 15120 non-null  int64  \n",
      " 35  intoxication          15120 non-null  int64  \n",
      " 36  fatigue               15120 non-null  int64  \n",
      " 37  yield                 15120 non-null  int64  \n",
      " 38  crash_time_24hr       15120 non-null  float64\n",
      "dtypes: float64(3), int64(25), object(11)\n",
      "memory usage: 5.2+ MB\n"
     ]
    }
   ],
   "source": [
    "df.info()"
   ]
  },
  {
   "cell_type": "code",
   "execution_count": 7,
   "metadata": {},
   "outputs": [],
   "source": [
    "# set DL state as Texas, Other, or NaN\n",
    "#df.driver_license_state = np.where(df.driver_license_state.isin(['UNKNOWN', 'Unknown']), np.nan, df.driver_license_state)\n",
    "#df.driver_license_state = np.where(df.driver_license_state.isin(['Texas', np.nan]), df.driver_license_state, 'Other')\n",
    "\n",
    "# drop columns\n",
    "#df = df.drop(columns=['Unnamed: 0', 'crash_city', 'police_dept', 'driver_residence', 'index','crash_url'])"
   ]
  },
  {
   "cell_type": "code",
   "execution_count": 8,
   "metadata": {},
   "outputs": [],
   "source": [
    "# Altering speed limit coliumn to just cotain numerical value"
   ]
  },
  {
   "cell_type": "code",
   "execution_count": 15,
   "metadata": {},
   "outputs": [],
   "source": [
    "#df.weather_conditions.value_counts()"
   ]
  },
  {
   "cell_type": "code",
   "execution_count": 16,
   "metadata": {},
   "outputs": [
    {
     "name": "stdout",
     "output_type": "stream",
     "text": [
      "<class 'pandas.core.frame.DataFrame'>\n",
      "RangeIndex: 15120 entries, 0 to 15119\n",
      "Data columns (total 33 columns):\n",
      " #   Column                Non-Null Count  Dtype  \n",
      "---  ------                --------------  -----  \n",
      " 0   crash_url             15120 non-null  object \n",
      " 1   crash_date            15120 non-null  object \n",
      " 2   crash_latitude        15120 non-null  float64\n",
      " 3   crash_longitude       15120 non-null  float64\n",
      " 4   accident_factor       13220 non-null  object \n",
      " 5   speed_limit           15120 non-null  object \n",
      " 6   crash_location        15120 non-null  object \n",
      " 7   num_of_injuries       15120 non-null  int64  \n",
      " 8   num_of_vehicles       15120 non-null  int64  \n",
      " 9   num_of_occupants      15120 non-null  int64  \n",
      " 10  at_fault              15120 non-null  int64  \n",
      " 11  car_contained_injury  15120 non-null  int64  \n",
      " 12  vehicle_make          13383 non-null  object \n",
      " 13  vehicle_year          15120 non-null  int64  \n",
      " 14  vehicle_color         13573 non-null  object \n",
      " 15  vin                   13252 non-null  object \n",
      " 16  driver_age            15120 non-null  int64  \n",
      " 17  driver_gender         10864 non-null  object \n",
      " 18  driver_ethnicity      10676 non-null  object \n",
      " 19  dl_state              13005 non-null  object \n",
      " 20  traffic_conditions    14764 non-null  object \n",
      " 21  weather_conditions    14597 non-null  object \n",
      " 22  cdl                   15120 non-null  int64  \n",
      " 23  unlicensed            15120 non-null  int64  \n",
      " 24  dl_class_a            15120 non-null  int64  \n",
      " 25  dl_class_b            15120 non-null  int64  \n",
      " 26  dl_class_m            15120 non-null  int64  \n",
      " 27  vehicle_dmg_zone      15120 non-null  int64  \n",
      " 28  concentrated_damage   15120 non-null  int64  \n",
      " 29  distributed_damage    15120 non-null  int64  \n",
      " 30  rollover_damage       15120 non-null  int64  \n",
      " 31  vehicle_burned        15120 non-null  int64  \n",
      " 32  crash_time            15120 non-null  object \n",
      "dtypes: float64(2), int64(17), object(14)\n",
      "memory usage: 3.8+ MB\n"
     ]
    }
   ],
   "source": [
    "df.info()"
   ]
  },
  {
   "cell_type": "code",
   "execution_count": 17,
   "metadata": {},
   "outputs": [],
   "source": [
    "#df2 = df[(df.crash_date.astype(str) == '2021-02-25') & (df.crash_date.astype(str) >= '2021-02-24')]\n"
   ]
  },
  {
   "cell_type": "code",
   "execution_count": 33,
   "metadata": {},
   "outputs": [],
   "source": [
    "#df2[['crash_location', 'crash_date', 'weather_conditions', 'crash_time']]"
   ]
  },
  {
   "cell_type": "code",
   "execution_count": 19,
   "metadata": {},
   "outputs": [],
   "source": [
    "#df.weather_conditions = np.where(((df.crash_date.astype(str) == '2021-0.aggregate-14') & (df.weather_conditions == 'OTHER (EXPLAIN IN NARRATIVE)')), 'SNOW', df.weather_conditions) "
   ]
  },
  {
   "cell_type": "code",
   "execution_count": 23,
   "metadata": {},
   "outputs": [],
   "source": [
    "#date_list1 = ['2021-02-13','2021-02-17','2021-07-21','2021-02-19','2021-02-14','2021-02-25','2021-02-15','2021-02-16', '2021-02-20']     \n",
    "#for date in date_list1:\n",
    " #   df.weather_conditions = np.where(((df.crash_date.astype(str) == str(date)) & ((df.weather_conditions == 'OTHER (EXPLAIN IN NARRATIVE)') | (df.weather_conditions == 'UNKNOWN')) ), 'SNOW', df.weather_conditions) \n",
    "    \n",
    "#date_list2 = ['2021-02-25','2021-07-14']     \n",
    "#for date in date_list2:\n",
    " #   df.weather_conditions = np.where(((df.crash_date.astype(str) == str(date)) & (df.weather_conditions == 'OTHER (EXPLAIN IN NARRATIVE)')), 'CLOUDY', df.weather_conditions) \n",
    "    "
   ]
  },
  {
   "cell_type": "code",
   "execution_count": 36,
   "metadata": {},
   "outputs": [],
   "source": [
    "#df.weather_conditions.value_counts()"
   ]
  },
  {
   "cell_type": "code",
   "execution_count": 34,
   "metadata": {},
   "outputs": [],
   "source": [
    "\n",
    "#d3 = df[df.crash_date.astype(str) == '2021-06-14']\n",
    "#d3[['crash_date', 'weather_conditions']].weather_conditions.value_counts()"
   ]
  },
  {
   "cell_type": "code",
   "execution_count": 35,
   "metadata": {},
   "outputs": [],
   "source": [
    "#dates = [str(x) for x in df[df.weather_conditions == 'UNKNOWN'].crash_date.value_counts().sort_index().index.tolist()]"
   ]
  },
  {
   "cell_type": "markdown",
   "metadata": {},
   "source": [
    "for date in dates:\n",
    "    d3 = df[df.crash_date.astype(str) == date]\n",
    "    print(len(dates))\n",
    "    print(date)\n",
    "    print(d3[['crash_date', 'weather_conditions']].weather_conditions.value_counts(dropna = False))\n",
    "    print('----------------------')"
   ]
  },
  {
   "cell_type": "code",
   "execution_count": 7,
   "metadata": {},
   "outputs": [],
   "source": [
    "def clean_weather_cats(df):\n",
    "    '''\n",
    "    fucntion takes in a df and lower cases, and removes whitespaces from all weather conditions.\n",
    "    changing unknown, other (explain in Narrative), fog, blowing sand/snow and combining it into\n",
    "    value defined as other.\n",
    "    '''\n",
    "    \n",
    "    # turn object into string and lowercase, strip terminal whitespace\n",
    "    df.weather_conditions = df.weather_conditions.apply(lambda row: str(row).lower().strip())\n",
    "    # convert categories no in weather list into \"other\"\n",
    "    weather = ['clear', 'cloudy', 'rain', 'sleet', 'hail', 'snow', 'nan']\n",
    "    df.weather_conditions = df.weather_conditions.apply(lambda row: row\n",
    "                                                        if any(x in row for x in weather)\n",
    "                                                        and 'sand' not in row\n",
    "                                                        else 'other')\n",
    "    # fill string \"nan\" values with np.nan for later handling\n",
    "    df.weather_conditions = df.weather_conditions.apply(lambda row: np.nan\n",
    "                                                        if row == 'nan'\n",
    "                                                        else row)\n",
    "    \n",
    "    return df\n"
   ]
  },
  {
   "cell_type": "code",
   "execution_count": 8,
   "metadata": {},
   "outputs": [],
   "source": [
    "df = clean_weather_cats(df)"
   ]
  },
  {
   "cell_type": "code",
   "execution_count": 12,
   "metadata": {},
   "outputs": [
    {
     "data": {
      "text/plain": [
       "clear         9590\n",
       "cloudy        2896\n",
       "rain          1247\n",
       "NaN            523\n",
       "sleet/hail     384\n",
       "snow           296\n",
       "other          184\n",
       "Name: weather_conditions, dtype: int64"
      ]
     },
     "execution_count": 12,
     "metadata": {},
     "output_type": "execute_result"
    }
   ],
   "source": [
    "df.weather_conditions.value_counts(dropna =False)"
   ]
  },
  {
   "cell_type": "code",
   "execution_count": null,
   "metadata": {},
   "outputs": [],
   "source": [
    "dates = [str(x) for x in df[df.weather_conditions == 'UNKNOWN'].crash_date.value_counts().sort_index().index.tolist()]\n",
    "def weather_condtion_prep(df, dates):\n",
    "    '''\n",
    "    dates variable needs to be definded with example below:\n",
    "    dates = [str(x) for x in df[df.weather_conditions == 'UNKNOWN'].crash_date.value_counts().sort_index().index.tolist()]\n",
    "    '''\n",
    "for date in dates:\n",
    "    d3 = df[df.crash_date.astype(str) == date]\n",
    "    d3[['crash_date', 'weather_conditions']].weather_conditions.value_counts()\n",
    "    df.weather_conditions = np.where(((df.crash_date.astype(str) == str(date)) & (df.weather_conditions == 'UNKNOWN'))) "
   ]
  },
  {
   "cell_type": "code",
   "execution_count": 23,
   "metadata": {},
   "outputs": [],
   "source": [
    "#df[df.weather_conditions == 'OTHER (EXPLAIN IN NARRATIVE)'].loc[df['crash_date'] == '2021-02-14'] \n",
    "#df[(df.crash_date.astype(str) == '2021-07-14') & (df.weather_condistions == 'OTHER (EXPLAIN IN NARRATIVE)')]"
   ]
  },
  {
   "cell_type": "code",
   "execution_count": 37,
   "metadata": {},
   "outputs": [],
   "source": [
    "#df[(df.crash_date.astype(str) == '2021-06-14')].groupby(['crash_date']).weather_conditions.value_counts()"
   ]
  },
  {
   "cell_type": "code",
   "execution_count": 38,
   "metadata": {},
   "outputs": [],
   "source": [
    "#df[(df.crash_date.astype(str) >= '2021-02-14') & (df.crash_date.astype(str) <= '2021-02-15')].set_index('crash_date').sort_index().head(10)"
   ]
  },
  {
   "cell_type": "code",
   "execution_count": 11,
   "metadata": {},
   "outputs": [
    {
     "data": {
      "text/plain": [
       "False    14597\n",
       "True       523\n",
       "Name: weather_conditions, dtype: int64"
      ]
     },
     "execution_count": 11,
     "metadata": {},
     "output_type": "execute_result"
    }
   ],
   "source": [
    "df.weather_conditions.isna().value_counts()"
   ]
  },
  {
   "cell_type": "code",
   "execution_count": 39,
   "metadata": {},
   "outputs": [],
   "source": [
    "#df[df.crash_date.astype(str) == '2021-02-25'].head(1)"
   ]
  },
  {
   "cell_type": "code",
   "execution_count": 16,
   "metadata": {},
   "outputs": [],
   "source": [
    "#df.weather_conditions = np.where(df.weather_conditions.isin(['OTHER (EXPLAIN IN NARRATIVE)']), np.nan, df.weather_conditions)"
   ]
  },
  {
   "cell_type": "code",
   "execution_count": 40,
   "metadata": {},
   "outputs": [],
   "source": [
    "#df[(df.crash_date.astype(str) >= '2020-12-27') & (df.crash_date.astype(str) <= '2021-01-09')].set_index('crash_date').sort_index().head(5)"
   ]
  },
  {
   "cell_type": "code",
   "execution_count": 41,
   "metadata": {},
   "outputs": [],
   "source": [
    "#df[df.weather_conditions.isna() == True].crash_date.sort_values().head(50)"
   ]
  },
  {
   "cell_type": "code",
   "execution_count": 42,
   "metadata": {},
   "outputs": [],
   "source": [
    "#df[df.weather_conditions.isna() == True].crash_date.value_counts().sort_index().head(50)"
   ]
  },
  {
   "cell_type": "code",
   "execution_count": 43,
   "metadata": {},
   "outputs": [],
   "source": [
    "#df.traffic_conditions.value_counts(dropna = False)"
   ]
  },
  {
   "cell_type": "code",
   "execution_count": 44,
   "metadata": {},
   "outputs": [],
   "source": [
    "#df.traffic_conditions = df.traffic_conditions.apply(lambda row: str(row).lower().strip())\n",
    "#df.traffic_conditions.value_counts(dropna = False).index.tolist()"
   ]
  },
  {
   "cell_type": "code",
   "execution_count": 8,
   "metadata": {},
   "outputs": [],
   "source": [
    "df.replace({'marked lanes': 'marked_lanes','signal_light':'signal_light','stop sign':'stop_sign',\\\n",
    "                         'center stripe/divider':'center_stripe/divider','signal light with red light running camera':'signal_light',\\\n",
    "                         'yield_sign':'yield_sign','flashing yellow light':'flashing_light','flashing red light':'flashing_light'}, inplace = True)"
   ]
  },
  {
   "cell_type": "code",
   "execution_count": 9,
   "metadata": {},
   "outputs": [],
   "source": [
    "#cleaning traffic conditions"
   ]
  },
  {
   "cell_type": "code",
   "execution_count": 10,
   "metadata": {},
   "outputs": [],
   "source": [
    "def clean_road_cats(df):\n",
    "    '''\n",
    "    fucntion takes in a df and lower cases, and removes whitespaces from all traffic conditions.\n",
    "    combines several fetaures into other, updates the value names\n",
    "    '''\n",
    "    \n",
    "    # turn object into string and lowercase, strip terminal whitespace\n",
    "    df.traffic_conditions = df.traffic_conditions.apply(lambda row: str(row).lower().strip())\n",
    "    # convert categories not in traffic conditions list into \"other\"\n",
    "    traffic = ['marked lanes','signal light','stop sign','center stripe/divider','nan','yield sign','signal light with red light running camera','officer','flashing yellow light','flashing red light']\n",
    "    df.traffic_conditions = df.traffic_conditions.apply(lambda row: row\n",
    "                                                        if any(x in row for x in traffic)\n",
    "                                                        else 'other')\n",
    "    # fill string \"nan\" values with np.nan for later handling\n",
    "    df.traffic_conditions = df.traffic_conditions.apply(lambda row: np.nan\n",
    "                                                        if row == 'nan'\n",
    "                                                        else row)\n",
    "    df.replace({'marked lanes': 'marked_lanes','signal light':'signal_light','stop sign':'stop_sign',\\\n",
    "                         'center stripe/divider':'center_stripe/divider','signal light with red light running camera':'signal_light',\\\n",
    "                         'yield_sign':'yield_sign','flashing yellow light':'flashing_light','flashing red light':'flashing_light'}, inplace = True)\n",
    "    \n",
    "    return df"
   ]
  },
  {
   "cell_type": "code",
   "execution_count": 10,
   "metadata": {},
   "outputs": [],
   "source": [
    "df = clean_road_cats(df)"
   ]
  },
  {
   "cell_type": "code",
   "execution_count": 12,
   "metadata": {},
   "outputs": [
    {
     "name": "stdout",
     "output_type": "stream",
     "text": [
      "<class 'pandas.core.frame.DataFrame'>\n",
      "Int64Index: 15120 entries, 0 to 15119\n",
      "Data columns (total 39 columns):\n",
      " #   Column                Non-Null Count  Dtype  \n",
      "---  ------                --------------  -----  \n",
      " 0   crash_url             15120 non-null  object \n",
      " 1   crash_id              15120 non-null  int64  \n",
      " 2   crash_date            15120 non-null  object \n",
      " 3   crash_latitude        15120 non-null  float64\n",
      " 4   crash_longitude       15120 non-null  float64\n",
      " 5   accident_factor       15120 non-null  object \n",
      " 6   speed_limit_mph       15120 non-null  int64  \n",
      " 7   num_of_injuries       15120 non-null  int64  \n",
      " 8   num_of_vehicles       15120 non-null  int64  \n",
      " 9   num_of_occupants      15120 non-null  int64  \n",
      " 10  at_fault              15120 non-null  int64  \n",
      " 11  car_contained_injury  15120 non-null  int64  \n",
      " 12  vehicle_make          13383 non-null  object \n",
      " 13  vehicle_year          15120 non-null  int64  \n",
      " 14  vehicle_color         14260 non-null  object \n",
      " 15  vin                   13252 non-null  object \n",
      " 16  driver_age            15120 non-null  int64  \n",
      " 17  driver_gender         10864 non-null  object \n",
      " 18  driver_ethnicity      10676 non-null  object \n",
      " 19  dl_state              13005 non-null  object \n",
      " 20  traffic_conditions    14764 non-null  object \n",
      " 21  weather_conditions    14597 non-null  object \n",
      " 22  cdl                   15120 non-null  int64  \n",
      " 23  unlicensed            15120 non-null  int64  \n",
      " 24  dl_class_a            15120 non-null  int64  \n",
      " 25  dl_class_b            15120 non-null  int64  \n",
      " 26  dl_class_m            15120 non-null  int64  \n",
      " 27  vehicle_dmg_zone      15120 non-null  int64  \n",
      " 28  concentrated_damage   15120 non-null  int64  \n",
      " 29  distributed_damage    15120 non-null  int64  \n",
      " 30  rollover_damage       15120 non-null  int64  \n",
      " 31  vehicle_burned        15120 non-null  int64  \n",
      " 32  distraction           15120 non-null  int64  \n",
      " 33  maneuver              15120 non-null  int64  \n",
      " 34  speed                 15120 non-null  int64  \n",
      " 35  intoxication          15120 non-null  int64  \n",
      " 36  fatigue               15120 non-null  int64  \n",
      " 37  yield                 15120 non-null  int64  \n",
      " 38  crash_time            15120 non-null  object \n",
      "dtypes: float64(2), int64(25), object(12)\n",
      "memory usage: 4.6+ MB\n"
     ]
    }
   ],
   "source": [
    "df.info()"
   ]
  },
  {
   "cell_type": "code",
   "execution_count": 24,
   "metadata": {},
   "outputs": [],
   "source": [
    "df['time_frames'] = pd.cut(df.crash_time_24hr, \n",
    "                    bins=[0,6,9,12,15,18,24], \n",
    "                    include_lowest=False,)"
   ]
  },
  {
   "cell_type": "code",
   "execution_count": 25,
   "metadata": {},
   "outputs": [
    {
     "data": {
      "text/html": [
       "<div>\n",
       "<style scoped>\n",
       "    .dataframe tbody tr th:only-of-type {\n",
       "        vertical-align: middle;\n",
       "    }\n",
       "\n",
       "    .dataframe tbody tr th {\n",
       "        vertical-align: top;\n",
       "    }\n",
       "\n",
       "    .dataframe thead th {\n",
       "        text-align: right;\n",
       "    }\n",
       "</style>\n",
       "<table border=\"1\" class=\"dataframe\">\n",
       "  <thead>\n",
       "    <tr style=\"text-align: right;\">\n",
       "      <th></th>\n",
       "      <th>crash_url</th>\n",
       "      <th>crash_id</th>\n",
       "      <th>crash_date</th>\n",
       "      <th>crash_latitude</th>\n",
       "      <th>crash_longitude</th>\n",
       "      <th>accident_factor</th>\n",
       "      <th>speed_limit_mph</th>\n",
       "      <th>num_of_injuries</th>\n",
       "      <th>num_of_vehicles</th>\n",
       "      <th>num_of_occupants</th>\n",
       "      <th>...</th>\n",
       "      <th>rollover_damage</th>\n",
       "      <th>vehicle_burned</th>\n",
       "      <th>distraction</th>\n",
       "      <th>maneuver</th>\n",
       "      <th>speed</th>\n",
       "      <th>intoxication</th>\n",
       "      <th>fatigue</th>\n",
       "      <th>yield</th>\n",
       "      <th>crash_time_24hr</th>\n",
       "      <th>time_frames</th>\n",
       "    </tr>\n",
       "  </thead>\n",
       "  <tbody>\n",
       "    <tr>\n",
       "      <th>0</th>\n",
       "      <td>https://app.myaccident.org/accident/0000281836...</td>\n",
       "      <td>18365140</td>\n",
       "      <td>2021-07-12</td>\n",
       "      <td>29.416846</td>\n",
       "      <td>-98.409521</td>\n",
       "      <td>new flyer turned unsafe</td>\n",
       "      <td>30</td>\n",
       "      <td>0</td>\n",
       "      <td>2</td>\n",
       "      <td>2</td>\n",
       "      <td>...</td>\n",
       "      <td>0</td>\n",
       "      <td>0</td>\n",
       "      <td>0</td>\n",
       "      <td>1</td>\n",
       "      <td>0</td>\n",
       "      <td>0</td>\n",
       "      <td>0</td>\n",
       "      <td>0</td>\n",
       "      <td>19.0</td>\n",
       "      <td>(18, 24]</td>\n",
       "    </tr>\n",
       "  </tbody>\n",
       "</table>\n",
       "<p>1 rows × 40 columns</p>\n",
       "</div>"
      ],
      "text/plain": [
       "                                           crash_url  crash_id  crash_date  \\\n",
       "0  https://app.myaccident.org/accident/0000281836...  18365140  2021-07-12   \n",
       "\n",
       "   crash_latitude  crash_longitude          accident_factor  speed_limit_mph  \\\n",
       "0       29.416846       -98.409521  new flyer turned unsafe               30   \n",
       "\n",
       "   num_of_injuries  num_of_vehicles  num_of_occupants  ...  rollover_damage  \\\n",
       "0                0                2                 2  ...                0   \n",
       "\n",
       "   vehicle_burned distraction  maneuver speed intoxication  fatigue yield  \\\n",
       "0               0           0         1     0            0        0     0   \n",
       "\n",
       "  crash_time_24hr time_frames  \n",
       "0            19.0    (18, 24]  \n",
       "\n",
       "[1 rows x 40 columns]"
      ]
     },
     "execution_count": 25,
     "metadata": {},
     "output_type": "execute_result"
    }
   ],
   "source": [
    "df.head(1)"
   ]
  },
  {
   "cell_type": "code",
   "execution_count": 26,
   "metadata": {},
   "outputs": [
    {
     "data": {
      "text/plain": [
       "(18, 24]    4534\n",
       "(15, 18]    3196\n",
       "(12, 15]    2623\n",
       "(9, 12]     1851\n",
       "(0, 6]      1756\n",
       "(6, 9]      1124\n",
       "Name: time_frames, dtype: int64"
      ]
     },
     "execution_count": 26,
     "metadata": {},
     "output_type": "execute_result"
    }
   ],
   "source": [
    "df.time_frames.value_counts()"
   ]
  },
  {
   "cell_type": "code",
   "execution_count": 20,
   "metadata": {},
   "outputs": [
    {
     "data": {
      "text/plain": [
       "18.00    119\n",
       "16.00    114\n",
       "19.00    113\n",
       "17.00    108\n",
       "16.30    105\n",
       "15.00    104\n",
       "18.30     97\n",
       "13.00     96\n",
       "17.30     93\n",
       "19.30     93\n",
       "18.40     91\n",
       "14.00     88\n",
       "12.00     83\n",
       "18.20     77\n",
       "10.00     76\n",
       "14.30     75\n",
       "17.50     72\n",
       "22.00     72\n",
       "20.00     71\n",
       "16.50     69\n",
       "15.50     69\n",
       "9.00      68\n",
       "13.30     66\n",
       "21.00     65\n",
       "15.30     64\n",
       "17.45     62\n",
       "22.30     61\n",
       "12.30     60\n",
       "9.30      58\n",
       "11.00     57\n",
       "17.40     56\n",
       "10.50     55\n",
       "17.20     54\n",
       "14.50     53\n",
       "23.30     53\n",
       "21.30     52\n",
       "20.30     52\n",
       "18.10     52\n",
       "13.50     51\n",
       "14.15     51\n",
       "19.50     51\n",
       "14.20     50\n",
       "13.20     49\n",
       "11.30     48\n",
       "15.20     48\n",
       "19.40     46\n",
       "12.50     46\n",
       "23.00     46\n",
       "19.20     45\n",
       "13.10     44\n",
       "Name: crash_time_24hr, dtype: int64"
      ]
     },
     "execution_count": 20,
     "metadata": {},
     "output_type": "execute_result"
    }
   ],
   "source": [
    "df.crash_time_24hr.value_counts().head(50)"
   ]
  },
  {
   "cell_type": "code",
   "execution_count": 41,
   "metadata": {},
   "outputs": [
    {
     "name": "stdout",
     "output_type": "stream",
     "text": [
      "<class 'pandas.core.frame.DataFrame'>\n",
      "Int64Index: 15120 entries, 0 to 15119\n",
      "Data columns (total 39 columns):\n",
      " #   Column                Non-Null Count  Dtype  \n",
      "---  ------                --------------  -----  \n",
      " 0   crash_url             15120 non-null  object \n",
      " 1   crash_id              15120 non-null  int64  \n",
      " 2   crash_date            15120 non-null  object \n",
      " 3   crash_latitude        15120 non-null  float64\n",
      " 4   crash_longitude       15120 non-null  float64\n",
      " 5   accident_factor       15120 non-null  object \n",
      " 6   speed_limit_mph       15120 non-null  int64  \n",
      " 7   num_of_injuries       15120 non-null  int64  \n",
      " 8   num_of_vehicles       15120 non-null  int64  \n",
      " 9   num_of_occupants      15120 non-null  int64  \n",
      " 10  at_fault              15120 non-null  int64  \n",
      " 11  car_contained_injury  15120 non-null  int64  \n",
      " 12  vehicle_make          13383 non-null  object \n",
      " 13  vehicle_year          15120 non-null  int64  \n",
      " 14  vehicle_color         14260 non-null  object \n",
      " 15  vin                   13252 non-null  object \n",
      " 16  driver_age            15120 non-null  int64  \n",
      " 17  driver_gender         10864 non-null  object \n",
      " 18  driver_ethnicity      10676 non-null  object \n",
      " 19  dl_state              13005 non-null  object \n",
      " 20  traffic_conditions    14764 non-null  object \n",
      " 21  weather_conditions    14597 non-null  object \n",
      " 22  cdl                   15120 non-null  int64  \n",
      " 23  unlicensed            15120 non-null  int64  \n",
      " 24  dl_class_a            15120 non-null  int64  \n",
      " 25  dl_class_b            15120 non-null  int64  \n",
      " 26  dl_class_m            15120 non-null  int64  \n",
      " 27  vehicle_dmg_zone      15120 non-null  int64  \n",
      " 28  concentrated_damage   15120 non-null  int64  \n",
      " 29  distributed_damage    15120 non-null  int64  \n",
      " 30  rollover_damage       15120 non-null  int64  \n",
      " 31  vehicle_burned        15120 non-null  int64  \n",
      " 32  distraction           15120 non-null  int64  \n",
      " 33  maneuver              15120 non-null  int64  \n",
      " 34  speed                 15120 non-null  int64  \n",
      " 35  intoxication          15120 non-null  int64  \n",
      " 36  fatigue               15120 non-null  int64  \n",
      " 37  yield                 15120 non-null  int64  \n",
      " 38  crash_time            15120 non-null  object \n",
      "dtypes: float64(2), int64(25), object(12)\n",
      "memory usage: 4.6+ MB\n"
     ]
    }
   ],
   "source": [
    "df.info()"
   ]
  },
  {
   "cell_type": "code",
   "execution_count": 17,
   "metadata": {},
   "outputs": [
    {
     "ename": "AttributeError",
     "evalue": "'function' object has no attribute 'dt'",
     "output_type": "error",
     "traceback": [
      "\u001b[0;31m---------------------------------------------------------------------------\u001b[0m",
      "\u001b[0;31mAttributeError\u001b[0m                            Traceback (most recent call last)",
      "\u001b[0;32m<ipython-input-17-faef94596457>\u001b[0m in \u001b[0;36m<module>\u001b[0;34m\u001b[0m\n\u001b[0;32m----> 1\u001b[0;31m \u001b[0mdf\u001b[0m\u001b[0;34m[\u001b[0m\u001b[0;34m\"binned_hours\"\u001b[0m\u001b[0;34m]\u001b[0m \u001b[0;34m=\u001b[0m \u001b[0mpd\u001b[0m\u001b[0;34m.\u001b[0m\u001b[0mcut\u001b[0m\u001b[0;34m(\u001b[0m\u001b[0mdf\u001b[0m\u001b[0;34m.\u001b[0m\u001b[0mcrash_time\u001b[0m\u001b[0;34m.\u001b[0m\u001b[0mto_timestamp\u001b[0m\u001b[0;34m.\u001b[0m\u001b[0mdt\u001b[0m\u001b[0;34m.\u001b[0m\u001b[0mhour\u001b[0m\u001b[0;34m,\u001b[0m \u001b[0mbins\u001b[0m\u001b[0;34m=\u001b[0m\u001b[0;36m24\u001b[0m\u001b[0;34m)\u001b[0m\u001b[0;34m\u001b[0m\u001b[0;34m\u001b[0m\u001b[0m\n\u001b[0m",
      "\u001b[0;31mAttributeError\u001b[0m: 'function' object has no attribute 'dt'"
     ]
    }
   ],
   "source": [
    "df[\"binned_hours\"] = pd.cut(df.crash_time.to_timestamp.dt.hour, bins=24)"
   ]
  },
  {
   "cell_type": "code",
   "execution_count": null,
   "metadata": {},
   "outputs": [],
   "source": []
  },
  {
   "cell_type": "code",
   "execution_count": null,
   "metadata": {},
   "outputs": [],
   "source": []
  }
 ],
 "metadata": {
  "kernelspec": {
   "display_name": "Python 3",
   "language": "python",
   "name": "python3"
  },
  "language_info": {
   "codemirror_mode": {
    "name": "ipython",
    "version": 3
   },
   "file_extension": ".py",
   "mimetype": "text/x-python",
   "name": "python",
   "nbconvert_exporter": "python",
   "pygments_lexer": "ipython3",
   "version": "3.8.5"
  }
 },
 "nbformat": 4,
 "nbformat_minor": 4
}
