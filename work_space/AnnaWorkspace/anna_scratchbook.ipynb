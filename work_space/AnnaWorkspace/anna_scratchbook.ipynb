{
 "cells": [
  {
   "cell_type": "code",
   "execution_count": 1,
   "id": "faef80dd-ec57-4d28-b92f-90375317fb9f",
   "metadata": {},
   "outputs": [],
   "source": [
    "import pandas as pd\n",
    "import numpy as np\n",
    "import matplotlib.pyplot as plt\n",
    "import seaborn as sns\n",
    "import regex as re"
   ]
  },
  {
   "cell_type": "code",
   "execution_count": 2,
   "id": "4c91ad92-c6ca-414a-9f7e-ca39fa0b32d1",
   "metadata": {},
   "outputs": [],
   "source": [
    "df = pd.read_csv('all_accident_data.csv', index_col=None)"
   ]
  },
  {
   "cell_type": "code",
   "execution_count": 3,
   "id": "cdbf12cc-71a7-47e2-bc67-6a903b0373bd",
   "metadata": {},
   "outputs": [],
   "source": [
    "df = df.drop(columns=['index', 'Unnamed: 0'])"
   ]
  },
  {
   "cell_type": "code",
   "execution_count": 4,
   "id": "16630ae7-d289-40ff-8c61-cb5460c8bb22",
   "metadata": {},
   "outputs": [
    {
     "data": {
      "text/html": [
       "<div>\n",
       "<style scoped>\n",
       "    .dataframe tbody tr th:only-of-type {\n",
       "        vertical-align: middle;\n",
       "    }\n",
       "\n",
       "    .dataframe tbody tr th {\n",
       "        vertical-align: top;\n",
       "    }\n",
       "\n",
       "    .dataframe thead th {\n",
       "        text-align: right;\n",
       "    }\n",
       "</style>\n",
       "<table border=\"1\" class=\"dataframe\">\n",
       "  <thead>\n",
       "    <tr style=\"text-align: right;\">\n",
       "      <th></th>\n",
       "      <th>crash_url</th>\n",
       "      <th>case_id</th>\n",
       "      <th>crash_id</th>\n",
       "      <th>crash_city</th>\n",
       "      <th>crash_date</th>\n",
       "      <th>crash_latitude</th>\n",
       "      <th>crash_longitude</th>\n",
       "      <th>police_dept</th>\n",
       "      <th>accident_factor</th>\n",
       "      <th>speed_limit</th>\n",
       "      <th>...</th>\n",
       "      <th>driver_age</th>\n",
       "      <th>driver_gender</th>\n",
       "      <th>driver_ethnicity</th>\n",
       "      <th>driver_residence</th>\n",
       "      <th>driver_car_damage</th>\n",
       "      <th>driver_license_type</th>\n",
       "      <th>driver_license_state</th>\n",
       "      <th>driver_insured</th>\n",
       "      <th>traffic_conditions</th>\n",
       "      <th>weather_conditions</th>\n",
       "    </tr>\n",
       "  </thead>\n",
       "  <tbody>\n",
       "    <tr>\n",
       "      <th>0</th>\n",
       "      <td>https://app.myaccident.org/accident/0000281836...</td>\n",
       "      <td>SAPD21133935</td>\n",
       "      <td>18365140</td>\n",
       "      <td>SAN ANTONIO, TX</td>\n",
       "      <td>07/12/21 07:00 PM</td>\n",
       "      <td>29.416846</td>\n",
       "      <td>-98.409521</td>\n",
       "      <td>SAN ANTONIO POLICE DEPARTMENT</td>\n",
       "      <td>The driver of 2006 NEW FLYER TURNED WHEN UNSAFE</td>\n",
       "      <td>30 MPH</td>\n",
       "      <td>...</td>\n",
       "      <td>63.0</td>\n",
       "      <td>Male</td>\n",
       "      <td>Black</td>\n",
       "      <td>NaN</td>\n",
       "      <td>LBQ - LEFT BACK QUARTER DAMAGE ANGULAR IMPACT</td>\n",
       "      <td>Commercial driver lic., class b</td>\n",
       "      <td>Texas</td>\n",
       "      <td>Yes</td>\n",
       "      <td>STOP SIGN</td>\n",
       "      <td>CLEAR</td>\n",
       "    </tr>\n",
       "    <tr>\n",
       "      <th>1</th>\n",
       "      <td>https://app.myaccident.org/accident/0000281836...</td>\n",
       "      <td>SAPD21133935</td>\n",
       "      <td>18365140</td>\n",
       "      <td>SAN ANTONIO, TX</td>\n",
       "      <td>07/12/21 07:00 PM</td>\n",
       "      <td>29.416846</td>\n",
       "      <td>-98.409521</td>\n",
       "      <td>SAN ANTONIO POLICE DEPARTMENT</td>\n",
       "      <td>The driver of 2006 NEW FLYER TURNED WHEN UNSAFE</td>\n",
       "      <td>30 MPH</td>\n",
       "      <td>...</td>\n",
       "      <td>33.0</td>\n",
       "      <td>Female</td>\n",
       "      <td>Black</td>\n",
       "      <td>NaN</td>\n",
       "      <td>FL - FRONT END (LEFT) DAMAGE PARTIAL CONTACT</td>\n",
       "      <td>Driver license, class c</td>\n",
       "      <td>Texas</td>\n",
       "      <td>Yes</td>\n",
       "      <td>STOP SIGN</td>\n",
       "      <td>CLEAR</td>\n",
       "    </tr>\n",
       "    <tr>\n",
       "      <th>2</th>\n",
       "      <td>https://app.myaccident.org/accident/0000281836...</td>\n",
       "      <td>SAPD21133954</td>\n",
       "      <td>18362861</td>\n",
       "      <td>SAN ANTONIO, TX</td>\n",
       "      <td>07/12/21 06:55 PM</td>\n",
       "      <td>29.608839</td>\n",
       "      <td>-98.492803</td>\n",
       "      <td>SAN ANTONIO POLICE DEPARTMENT</td>\n",
       "      <td>NaN</td>\n",
       "      <td>45 MPH</td>\n",
       "      <td>...</td>\n",
       "      <td>NaN</td>\n",
       "      <td>Unknown</td>\n",
       "      <td>Unknown</td>\n",
       "      <td>NaN</td>\n",
       "      <td>UNKNOWN</td>\n",
       "      <td>Unknown, unknown</td>\n",
       "      <td>NaN</td>\n",
       "      <td>Unknown</td>\n",
       "      <td>MARKED LANES</td>\n",
       "      <td>CLOUDY</td>\n",
       "    </tr>\n",
       "    <tr>\n",
       "      <th>3</th>\n",
       "      <td>https://app.myaccident.org/accident/0000281836...</td>\n",
       "      <td>SAPD21133954</td>\n",
       "      <td>18362861</td>\n",
       "      <td>SAN ANTONIO, TX</td>\n",
       "      <td>07/12/21 06:55 PM</td>\n",
       "      <td>29.608839</td>\n",
       "      <td>-98.492803</td>\n",
       "      <td>SAN ANTONIO POLICE DEPARTMENT</td>\n",
       "      <td>NaN</td>\n",
       "      <td>45 MPH</td>\n",
       "      <td>...</td>\n",
       "      <td>54.0</td>\n",
       "      <td>Male</td>\n",
       "      <td>White</td>\n",
       "      <td>NaN</td>\n",
       "      <td>BD - BACK END DAMAGE DISTRIBUTED IMPACT</td>\n",
       "      <td>Driver license, class c</td>\n",
       "      <td>Texas</td>\n",
       "      <td>Yes</td>\n",
       "      <td>MARKED LANES</td>\n",
       "      <td>CLOUDY</td>\n",
       "    </tr>\n",
       "    <tr>\n",
       "      <th>4</th>\n",
       "      <td>https://app.myaccident.org/accident/0000281837...</td>\n",
       "      <td>21-1037</td>\n",
       "      <td>18378488</td>\n",
       "      <td>SHAVANO PARK, TX</td>\n",
       "      <td>07/12/21 06:45 PM</td>\n",
       "      <td>29.597752</td>\n",
       "      <td>-98.562687</td>\n",
       "      <td>SHAVANO PARK POLICE DEPARTMENT</td>\n",
       "      <td>The driver of 2011 JEEP DRIVER INATTENTION The...</td>\n",
       "      <td>45 MPH</td>\n",
       "      <td>...</td>\n",
       "      <td>29.0</td>\n",
       "      <td>Female</td>\n",
       "      <td>Hispanic</td>\n",
       "      <td>NaN</td>\n",
       "      <td>FD - FRONT END DAMAGE DISTRIBUTED IMPACT</td>\n",
       "      <td>Id card, unlicensed</td>\n",
       "      <td>Texas</td>\n",
       "      <td>Unknown</td>\n",
       "      <td>SIGNAL LIGHT</td>\n",
       "      <td>CLEAR</td>\n",
       "    </tr>\n",
       "    <tr>\n",
       "      <th>...</th>\n",
       "      <td>...</td>\n",
       "      <td>...</td>\n",
       "      <td>...</td>\n",
       "      <td>...</td>\n",
       "      <td>...</td>\n",
       "      <td>...</td>\n",
       "      <td>...</td>\n",
       "      <td>...</td>\n",
       "      <td>...</td>\n",
       "      <td>...</td>\n",
       "      <td>...</td>\n",
       "      <td>...</td>\n",
       "      <td>...</td>\n",
       "      <td>...</td>\n",
       "      <td>...</td>\n",
       "      <td>...</td>\n",
       "      <td>...</td>\n",
       "      <td>...</td>\n",
       "      <td>...</td>\n",
       "      <td>...</td>\n",
       "      <td>...</td>\n",
       "    </tr>\n",
       "    <tr>\n",
       "      <th>15115</th>\n",
       "      <td>https://app.myaccident.org/accident/0000281810...</td>\n",
       "      <td>SAPD21028089</td>\n",
       "      <td>18108730</td>\n",
       "      <td>SAN ANTONIO, TX</td>\n",
       "      <td>02/12/21 06:15 PM</td>\n",
       "      <td>29.381912</td>\n",
       "      <td>-98.700943</td>\n",
       "      <td>SAN ANTONIO POLICE DEPARTMENT</td>\n",
       "      <td>The driver of 2011 NISSAN DISREGARD STOP SIGN ...</td>\n",
       "      <td>65 MPH</td>\n",
       "      <td>...</td>\n",
       "      <td>22.0</td>\n",
       "      <td>Male</td>\n",
       "      <td>Hispanic</td>\n",
       "      <td>NaN</td>\n",
       "      <td>FD - FRONT END DAMAGE DISTRIBUTED IMPACT</td>\n",
       "      <td>Id card, unlicensed</td>\n",
       "      <td>Texas</td>\n",
       "      <td>Yes</td>\n",
       "      <td>MARKED LANES</td>\n",
       "      <td>CLEAR</td>\n",
       "    </tr>\n",
       "    <tr>\n",
       "      <th>15116</th>\n",
       "      <td>https://app.myaccident.org/accident/0000281810...</td>\n",
       "      <td>SAPD21028089</td>\n",
       "      <td>18108730</td>\n",
       "      <td>SAN ANTONIO, TX</td>\n",
       "      <td>02/12/21 06:15 PM</td>\n",
       "      <td>29.381912</td>\n",
       "      <td>-98.700943</td>\n",
       "      <td>SAN ANTONIO POLICE DEPARTMENT</td>\n",
       "      <td>The driver of 2011 NISSAN DISREGARD STOP SIGN ...</td>\n",
       "      <td>65 MPH</td>\n",
       "      <td>...</td>\n",
       "      <td>22.0</td>\n",
       "      <td>Male</td>\n",
       "      <td>Hispanic</td>\n",
       "      <td>NaN</td>\n",
       "      <td>RFQ - RIGHT FRONT QUARTER DAMAGE ANGULAR IMPACT</td>\n",
       "      <td>Unlicensed, unlicensed</td>\n",
       "      <td>Texas</td>\n",
       "      <td>Yes</td>\n",
       "      <td>MARKED LANES</td>\n",
       "      <td>CLEAR</td>\n",
       "    </tr>\n",
       "    <tr>\n",
       "      <th>15117</th>\n",
       "      <td>https://app.myaccident.org/accident/0000281810...</td>\n",
       "      <td>SAPD21028089</td>\n",
       "      <td>18108730</td>\n",
       "      <td>SAN ANTONIO, TX</td>\n",
       "      <td>02/12/21 06:15 PM</td>\n",
       "      <td>29.381912</td>\n",
       "      <td>-98.700943</td>\n",
       "      <td>SAN ANTONIO POLICE DEPARTMENT</td>\n",
       "      <td>The driver of 2011 NISSAN DISREGARD STOP SIGN ...</td>\n",
       "      <td>65 MPH</td>\n",
       "      <td>...</td>\n",
       "      <td>44.0</td>\n",
       "      <td>Male</td>\n",
       "      <td>Hispanic</td>\n",
       "      <td>NaN</td>\n",
       "      <td>RFQ - RIGHT FRONT QUARTER DAMAGE ANGULAR IMPACT</td>\n",
       "      <td>Driver license, class c</td>\n",
       "      <td>Texas</td>\n",
       "      <td>Yes</td>\n",
       "      <td>MARKED LANES</td>\n",
       "      <td>CLEAR</td>\n",
       "    </tr>\n",
       "    <tr>\n",
       "      <th>15118</th>\n",
       "      <td>https://app.myaccident.org/accident/0000281810...</td>\n",
       "      <td>SAPD21028081</td>\n",
       "      <td>18106090</td>\n",
       "      <td>SAN ANTONIO, TX</td>\n",
       "      <td>02/12/21 06:04 PM</td>\n",
       "      <td>29.445502</td>\n",
       "      <td>-98.540641</td>\n",
       "      <td>SAN ANTONIO POLICE DEPARTMENT</td>\n",
       "      <td>The driver of 2017 MITSUBISHI DRIVER INATTENTION</td>\n",
       "      <td>30 MPH</td>\n",
       "      <td>...</td>\n",
       "      <td>23.0</td>\n",
       "      <td>Male</td>\n",
       "      <td>Hispanic</td>\n",
       "      <td>NaN</td>\n",
       "      <td>FD - FRONT END DAMAGE DISTRIBUTED IMPACT</td>\n",
       "      <td>Driver license, class c</td>\n",
       "      <td>Texas</td>\n",
       "      <td>Yes</td>\n",
       "      <td>STOP SIGN</td>\n",
       "      <td>CLOUDY</td>\n",
       "    </tr>\n",
       "    <tr>\n",
       "      <th>15119</th>\n",
       "      <td>https://app.myaccident.org/accident/0000281810...</td>\n",
       "      <td>SAPD21028081</td>\n",
       "      <td>18106090</td>\n",
       "      <td>SAN ANTONIO, TX</td>\n",
       "      <td>02/12/21 06:04 PM</td>\n",
       "      <td>29.445502</td>\n",
       "      <td>-98.540641</td>\n",
       "      <td>SAN ANTONIO POLICE DEPARTMENT</td>\n",
       "      <td>The driver of 2017 MITSUBISHI DRIVER INATTENTION</td>\n",
       "      <td>30 MPH</td>\n",
       "      <td>...</td>\n",
       "      <td>43.0</td>\n",
       "      <td>Female</td>\n",
       "      <td>Hispanic</td>\n",
       "      <td>NaN</td>\n",
       "      <td>BD - BACK END DAMAGE DISTRIBUTED IMPACT</td>\n",
       "      <td>Driver license, class c</td>\n",
       "      <td>Texas</td>\n",
       "      <td>Yes</td>\n",
       "      <td>STOP SIGN</td>\n",
       "      <td>CLOUDY</td>\n",
       "    </tr>\n",
       "  </tbody>\n",
       "</table>\n",
       "<p>15120 rows × 30 columns</p>\n",
       "</div>"
      ],
      "text/plain": [
       "                                               crash_url        case_id  \\\n",
       "0      https://app.myaccident.org/accident/0000281836...   SAPD21133935   \n",
       "1      https://app.myaccident.org/accident/0000281836...   SAPD21133935   \n",
       "2      https://app.myaccident.org/accident/0000281836...   SAPD21133954   \n",
       "3      https://app.myaccident.org/accident/0000281836...   SAPD21133954   \n",
       "4      https://app.myaccident.org/accident/0000281837...        21-1037   \n",
       "...                                                  ...            ...   \n",
       "15115  https://app.myaccident.org/accident/0000281810...   SAPD21028089   \n",
       "15116  https://app.myaccident.org/accident/0000281810...   SAPD21028089   \n",
       "15117  https://app.myaccident.org/accident/0000281810...   SAPD21028089   \n",
       "15118  https://app.myaccident.org/accident/0000281810...   SAPD21028081   \n",
       "15119  https://app.myaccident.org/accident/0000281810...   SAPD21028081   \n",
       "\n",
       "       crash_id        crash_city         crash_date  crash_latitude  \\\n",
       "0      18365140   SAN ANTONIO, TX  07/12/21 07:00 PM       29.416846   \n",
       "1      18365140   SAN ANTONIO, TX  07/12/21 07:00 PM       29.416846   \n",
       "2      18362861   SAN ANTONIO, TX  07/12/21 06:55 PM       29.608839   \n",
       "3      18362861   SAN ANTONIO, TX  07/12/21 06:55 PM       29.608839   \n",
       "4      18378488  SHAVANO PARK, TX  07/12/21 06:45 PM       29.597752   \n",
       "...         ...               ...                ...             ...   \n",
       "15115  18108730   SAN ANTONIO, TX  02/12/21 06:15 PM       29.381912   \n",
       "15116  18108730   SAN ANTONIO, TX  02/12/21 06:15 PM       29.381912   \n",
       "15117  18108730   SAN ANTONIO, TX  02/12/21 06:15 PM       29.381912   \n",
       "15118  18106090   SAN ANTONIO, TX  02/12/21 06:04 PM       29.445502   \n",
       "15119  18106090   SAN ANTONIO, TX  02/12/21 06:04 PM       29.445502   \n",
       "\n",
       "       crash_longitude                     police_dept  \\\n",
       "0           -98.409521   SAN ANTONIO POLICE DEPARTMENT   \n",
       "1           -98.409521   SAN ANTONIO POLICE DEPARTMENT   \n",
       "2           -98.492803   SAN ANTONIO POLICE DEPARTMENT   \n",
       "3           -98.492803   SAN ANTONIO POLICE DEPARTMENT   \n",
       "4           -98.562687  SHAVANO PARK POLICE DEPARTMENT   \n",
       "...                ...                             ...   \n",
       "15115       -98.700943   SAN ANTONIO POLICE DEPARTMENT   \n",
       "15116       -98.700943   SAN ANTONIO POLICE DEPARTMENT   \n",
       "15117       -98.700943   SAN ANTONIO POLICE DEPARTMENT   \n",
       "15118       -98.540641   SAN ANTONIO POLICE DEPARTMENT   \n",
       "15119       -98.540641   SAN ANTONIO POLICE DEPARTMENT   \n",
       "\n",
       "                                         accident_factor speed_limit  ...  \\\n",
       "0       The driver of 2006 NEW FLYER TURNED WHEN UNSAFE       30 MPH  ...   \n",
       "1       The driver of 2006 NEW FLYER TURNED WHEN UNSAFE       30 MPH  ...   \n",
       "2                                                    NaN      45 MPH  ...   \n",
       "3                                                    NaN      45 MPH  ...   \n",
       "4      The driver of 2011 JEEP DRIVER INATTENTION The...      45 MPH  ...   \n",
       "...                                                  ...         ...  ...   \n",
       "15115  The driver of 2011 NISSAN DISREGARD STOP SIGN ...      65 MPH  ...   \n",
       "15116  The driver of 2011 NISSAN DISREGARD STOP SIGN ...      65 MPH  ...   \n",
       "15117  The driver of 2011 NISSAN DISREGARD STOP SIGN ...      65 MPH  ...   \n",
       "15118  The driver of 2017 MITSUBISHI DRIVER INATTENTION       30 MPH  ...   \n",
       "15119  The driver of 2017 MITSUBISHI DRIVER INATTENTION       30 MPH  ...   \n",
       "\n",
       "      driver_age  driver_gender  driver_ethnicity  driver_residence  \\\n",
       "0           63.0           Male             Black               NaN   \n",
       "1           33.0         Female             Black               NaN   \n",
       "2            NaN        Unknown           Unknown               NaN   \n",
       "3           54.0           Male             White               NaN   \n",
       "4           29.0         Female          Hispanic               NaN   \n",
       "...          ...            ...               ...               ...   \n",
       "15115       22.0           Male          Hispanic               NaN   \n",
       "15116       22.0           Male          Hispanic               NaN   \n",
       "15117       44.0           Male          Hispanic               NaN   \n",
       "15118       23.0           Male          Hispanic               NaN   \n",
       "15119       43.0         Female          Hispanic               NaN   \n",
       "\n",
       "                                     driver_car_damage  \\\n",
       "0        LBQ - LEFT BACK QUARTER DAMAGE ANGULAR IMPACT   \n",
       "1         FL - FRONT END (LEFT) DAMAGE PARTIAL CONTACT   \n",
       "2                                              UNKNOWN   \n",
       "3              BD - BACK END DAMAGE DISTRIBUTED IMPACT   \n",
       "4             FD - FRONT END DAMAGE DISTRIBUTED IMPACT   \n",
       "...                                                ...   \n",
       "15115         FD - FRONT END DAMAGE DISTRIBUTED IMPACT   \n",
       "15116  RFQ - RIGHT FRONT QUARTER DAMAGE ANGULAR IMPACT   \n",
       "15117  RFQ - RIGHT FRONT QUARTER DAMAGE ANGULAR IMPACT   \n",
       "15118         FD - FRONT END DAMAGE DISTRIBUTED IMPACT   \n",
       "15119          BD - BACK END DAMAGE DISTRIBUTED IMPACT   \n",
       "\n",
       "                   driver_license_type driver_license_state driver_insured  \\\n",
       "0      Commercial driver lic., class b                Texas            Yes   \n",
       "1              Driver license, class c                Texas            Yes   \n",
       "2                     Unknown, unknown                  NaN        Unknown   \n",
       "3              Driver license, class c                Texas            Yes   \n",
       "4                  Id card, unlicensed                Texas        Unknown   \n",
       "...                                ...                  ...            ...   \n",
       "15115              Id card, unlicensed                Texas            Yes   \n",
       "15116           Unlicensed, unlicensed                Texas            Yes   \n",
       "15117          Driver license, class c                Texas            Yes   \n",
       "15118          Driver license, class c                Texas            Yes   \n",
       "15119          Driver license, class c                Texas            Yes   \n",
       "\n",
       "      traffic_conditions weather_conditions  \n",
       "0              STOP SIGN              CLEAR  \n",
       "1              STOP SIGN              CLEAR  \n",
       "2           MARKED LANES             CLOUDY  \n",
       "3           MARKED LANES             CLOUDY  \n",
       "4           SIGNAL LIGHT              CLEAR  \n",
       "...                  ...                ...  \n",
       "15115       MARKED LANES              CLEAR  \n",
       "15116       MARKED LANES              CLEAR  \n",
       "15117       MARKED LANES              CLEAR  \n",
       "15118          STOP SIGN             CLOUDY  \n",
       "15119          STOP SIGN             CLOUDY  \n",
       "\n",
       "[15120 rows x 30 columns]"
      ]
     },
     "execution_count": 4,
     "metadata": {},
     "output_type": "execute_result"
    }
   ],
   "source": [
    "df"
   ]
  },
  {
   "cell_type": "code",
   "execution_count": 5,
   "id": "f7d263b7-d48d-417e-9f65-3970d1d8b102",
   "metadata": {},
   "outputs": [
    {
     "data": {
      "text/plain": [
       "24"
      ]
     },
     "execution_count": 5,
     "metadata": {},
     "output_type": "execute_result"
    }
   ],
   "source": [
    "df.driver_car_damage.apply(lambda row: re.search(r'^(\\S+){1,4}.+', row).group(1)).nunique()"
   ]
  },
  {
   "cell_type": "code",
   "execution_count": 6,
   "id": "876b625e-9346-42b1-95f9-8f8fc9081840",
   "metadata": {},
   "outputs": [
    {
     "data": {
      "text/plain": [
       "0        5FYD*********0945\n",
       "1        2HGF*********4336\n",
       "2                  Unknown\n",
       "3        3GCP*********9684\n",
       "4        1J4P*********8270\n",
       "               ...        \n",
       "15115    3N1B*********8881\n",
       "15116    1FMP*********2763\n",
       "15117    5FNY*********0074\n",
       "15118    JA32*********2616\n",
       "15119    JM3E*********7919\n",
       "Name: car_vin, Length: 15120, dtype: object"
      ]
     },
     "execution_count": 6,
     "metadata": {},
     "output_type": "execute_result"
    }
   ],
   "source": [
    "df.car_vin.apply(lambda row: re.sub(r'(\\w{4})X+(\\d{4})', '\\\\1*********\\\\2', row))"
   ]
  },
  {
   "cell_type": "code",
   "execution_count": 7,
   "id": "3d922a34-03d3-4156-8daa-a4df5b0a3a62",
   "metadata": {},
   "outputs": [
    {
     "data": {
      "text/plain": [
       "crash_url                object\n",
       "case_id                  object\n",
       "crash_id                  int64\n",
       "crash_city               object\n",
       "crash_date               object\n",
       "crash_latitude          float64\n",
       "crash_longitude         float64\n",
       "police_dept              object\n",
       "accident_factor          object\n",
       "speed_limit              object\n",
       "crash_location           object\n",
       "num_of_injuries           int64\n",
       "num_of_vehicles           int64\n",
       "num_of_occupants          int64\n",
       "at_fault                  int64\n",
       "car_contained_injury      int64\n",
       "car_make                 object\n",
       "car_year                 object\n",
       "car_color                object\n",
       "car_vin                  object\n",
       "driver_age              float64\n",
       "driver_gender            object\n",
       "driver_ethnicity         object\n",
       "driver_residence        float64\n",
       "driver_car_damage        object\n",
       "driver_license_type      object\n",
       "driver_license_state     object\n",
       "driver_insured           object\n",
       "traffic_conditions       object\n",
       "weather_conditions       object\n",
       "dtype: object"
      ]
     },
     "execution_count": 7,
     "metadata": {},
     "output_type": "execute_result"
    }
   ],
   "source": [
    "df.dtypes"
   ]
  },
  {
   "cell_type": "code",
   "execution_count": 8,
   "id": "3cfc56de-03c0-4606-9988-981f2697ac82",
   "metadata": {},
   "outputs": [],
   "source": [
    "#car year needs to be int\n",
    "#crash_date needs to be datetime\n",
    "#drop driver ethnicity\n",
    "#drop crash city"
   ]
  },
  {
   "cell_type": "raw",
   "id": "7d5c2821-16ca-450e-8e53-bb6cfd699b41",
   "metadata": {},
   "source": [
    "nan                    2166\n",
    "Benz                    165\n",
    "Davidson                 28\n",
    "Benz                      5\n",
    "Haul International        1\n",
    "Name: car_year, dtype: int64"
   ]
  },
  {
   "cell_type": "code",
   "execution_count": 9,
   "id": "e2dcc970-03e4-4182-90b5-04496195dc37",
   "metadata": {},
   "outputs": [
    {
     "data": {
      "text/plain": [
       "982"
      ]
     },
     "execution_count": 9,
     "metadata": {},
     "output_type": "execute_result"
    }
   ],
   "source": [
    "df.car_make.isna().sum()"
   ]
  },
  {
   "cell_type": "code",
   "execution_count": 10,
   "id": "316db740-39cc-4a4e-8f60-63b42f4a7853",
   "metadata": {},
   "outputs": [],
   "source": [
    "df.car_make = df.car_make.str.strip().str.lower()"
   ]
  },
  {
   "cell_type": "code",
   "execution_count": 11,
   "id": "d3f0267a-5493-4fb8-b61b-be3899303075",
   "metadata": {},
   "outputs": [],
   "source": [
    "df.car_year = pd.to_numeric(df.car_year, errors='coerce')"
   ]
  },
  {
   "cell_type": "code",
   "execution_count": 12,
   "id": "9b095e76-1d70-4b4a-b480-199a72119218",
   "metadata": {},
   "outputs": [],
   "source": [
    "df.car_make = df.car_make.fillna('unknown')"
   ]
  },
  {
   "cell_type": "code",
   "execution_count": 27,
   "id": "d68a212c-6317-45b1-8722-485ec626b154",
   "metadata": {},
   "outputs": [
    {
     "data": {
      "text/plain": [
       "15120"
      ]
     },
     "execution_count": 27,
     "metadata": {},
     "output_type": "execute_result"
    }
   ],
   "source": [
    "len(df.car_make)"
   ]
  },
  {
   "cell_type": "code",
   "execution_count": 28,
   "id": "7f1de0cb-60ad-4c69-875d-12d232399f58",
   "metadata": {},
   "outputs": [
    {
     "data": {
      "text/plain": [
       "15120"
      ]
     },
     "execution_count": 28,
     "metadata": {},
     "output_type": "execute_result"
    }
   ],
   "source": [
    "len(df.car_year)"
   ]
  },
  {
   "cell_type": "code",
   "execution_count": 15,
   "id": "322ec0ff-55e8-461e-916c-7c43db50076d",
   "metadata": {},
   "outputs": [],
   "source": [
    "df['car_year'] = df.groupby(['car_make']).car_year.transform(lambda x: x.fillna(x.mode()))"
   ]
  },
  {
   "cell_type": "code",
   "execution_count": null,
   "id": "29f5ea96-66cc-4060-aa4d-cf1efab8e8ae",
   "metadata": {},
   "outputs": [],
   "source": []
  },
  {
   "cell_type": "code",
   "execution_count": 17,
   "id": "ffd60baf-7d6c-4788-8aa3-08a48e7c7e3a",
   "metadata": {},
   "outputs": [
    {
     "name": "stdout",
     "output_type": "stream",
     "text": [
      "done\n"
     ]
    }
   ],
   "source": [
    "print('done')"
   ]
  },
  {
   "cell_type": "code",
   "execution_count": 18,
   "id": "e7067dce-5595-47dc-88e7-831ceb4f2201",
   "metadata": {},
   "outputs": [],
   "source": [
    "#df.shape"
   ]
  },
  {
   "cell_type": "code",
   "execution_count": 19,
   "id": "cf5e10c8-3948-49c2-bc2a-fc1e760a2909",
   "metadata": {},
   "outputs": [],
   "source": [
    "#2166/15120"
   ]
  },
  {
   "cell_type": "code",
   "execution_count": 20,
   "id": "1c6488fe-93b4-46f2-8f53-8dc6d7a9dc1e",
   "metadata": {},
   "outputs": [],
   "source": [
    "#df[df.car_year > 0].car_year.describe().transpose()"
   ]
  },
  {
   "cell_type": "code",
   "execution_count": 21,
   "id": "491da887-7342-40b8-a95c-675c9eccf9d7",
   "metadata": {},
   "outputs": [
    {
     "data": {
      "text/plain": [
       "count    12756.000000\n",
       "mean      2011.974757\n",
       "std          6.510636\n",
       "min       1901.000000\n",
       "25%       2007.000000\n",
       "50%       2013.000000\n",
       "75%       2017.000000\n",
       "max       2022.000000\n",
       "Name: car_year, dtype: float64"
      ]
     },
     "execution_count": 21,
     "metadata": {},
     "output_type": "execute_result"
    }
   ],
   "source": [
    "df[df.car_year >0].car_year.describe().transpose()"
   ]
  },
  {
   "cell_type": "code",
   "execution_count": 22,
   "id": "97f30f49-fe69-4b33-b4b6-4b1a5acbc44b",
   "metadata": {},
   "outputs": [],
   "source": [
    "#acura = 2008\n",
    "#ford = "
   ]
  },
  {
   "cell_type": "code",
   "execution_count": 23,
   "id": "6f889065-87f0-4557-bf81-0f0049f974bb",
   "metadata": {},
   "outputs": [],
   "source": [
    "# df.car_year = df.car_year.apply(lambda row: re.sub(r'\\s?(\\d{4})(.0)?', r'\\1', str(row)))\n",
    "# df.car_year = df.car_year.apply(lambda row: re.sub(r'\\s*[A-Za-z]+\\s*', '', str(row)))"
   ]
  },
  {
   "cell_type": "code",
   "execution_count": 31,
   "id": "b3c597de-197a-4f6a-92e0-0a863bbdc73f",
   "metadata": {},
   "outputs": [
    {
     "data": {
      "text/plain": [
       "12756"
      ]
     },
     "execution_count": 31,
     "metadata": {},
     "output_type": "execute_result"
    }
   ],
   "source": [
    "df.car_year."
   ]
  },
  {
   "cell_type": "code",
   "execution_count": 25,
   "id": "04604286-7dbe-47a7-b419-761f223ddb2f",
   "metadata": {},
   "outputs": [],
   "source": [
    "df.car_make = df.car_make.str.strip().str.lower()"
   ]
  },
  {
   "cell_type": "code",
   "execution_count": 26,
   "id": "fee752c1-ee3d-4958-a8b3-d2219a8ccc42",
   "metadata": {},
   "outputs": [
    {
     "data": {
      "text/plain": [
       "12756"
      ]
     },
     "execution_count": 26,
     "metadata": {},
     "output_type": "execute_result"
    }
   ],
   "source": [
    "df.car_year.count()"
   ]
  },
  {
   "cell_type": "code",
   "execution_count": null,
   "id": "2b7817fa-16d6-4050-9c1d-461aabca7f2f",
   "metadata": {},
   "outputs": [],
   "source": []
  }
 ],
 "metadata": {
  "kernelspec": {
   "display_name": "Python 3",
   "language": "python",
   "name": "python3"
  },
  "language_info": {
   "codemirror_mode": {
    "name": "ipython",
    "version": 3
   },
   "file_extension": ".py",
   "mimetype": "text/x-python",
   "name": "python",
   "nbconvert_exporter": "python",
   "pygments_lexer": "ipython3",
   "version": "3.8.5"
  }
 },
 "nbformat": 4,
 "nbformat_minor": 5
}
