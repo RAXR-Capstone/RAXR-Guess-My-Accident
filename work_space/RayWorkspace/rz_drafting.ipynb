{
 "cells": [
  {
   "cell_type": "code",
   "execution_count": 1,
   "id": "0aae6329-344a-4c99-a3b0-a01d0d8b4a5b",
   "metadata": {},
   "outputs": [],
   "source": [
    "import pandas as pd\n",
    "import numpy as np\n",
    "import re\n",
    "import matplotlib.pyplot as plt\n",
    "from matplotlib.style import use; use('/Users/stray/.matplotlib/gruvbox.mplstyle')\n",
    "\n",
    "from prepare import initial_prep, prep_driver_data, prep_vehicle_data, prep_damage_data, create_fault_factor_cols"
   ]
  },
  {
   "cell_type": "code",
   "execution_count": 2,
   "id": "76753510-d485-4141-b684-9b36451ef7c5",
   "metadata": {},
   "outputs": [],
   "source": [
    "# read in CSV to DataFrame\n",
    "df = pd.read_csv('~/codeup-data-science/project_danger_zone/all_accident_data.csv')\n",
    "df = initial_prep(df)\n",
    "df = prep_driver_data(df)\n",
    "df = prep_vehicle_data(df)\n",
    "df = prep_damage_data(df)\n",
    "df = create_fault_factor_cols(df)"
   ]
  },
  {
   "cell_type": "code",
   "execution_count": 80,
   "id": "5aee9b81-0bd6-43cd-af98-64f98c401dd2",
   "metadata": {},
   "outputs": [],
   "source": [
    "df = df[[\n",
    "    'num_of_injuries',\n",
    "    'num_of_vehicles',\n",
    "    'num_of_occupants',\n",
    "    'car_contained_injury',\n",
    "    'traffic_conditions',\n",
    "    'weather_conditions'\n",
    "]]"
   ]
  },
  {
   "cell_type": "code",
   "execution_count": null,
   "id": "2731319c-faa6-480a-9484-6550a6d0a6b3",
   "metadata": {},
   "outputs": [],
   "source": []
  },
  {
   "cell_type": "code",
   "execution_count": null,
   "id": "0c7d151d-7b7a-45be-86cb-48fcad5463e3",
   "metadata": {},
   "outputs": [],
   "source": []
  },
  {
   "cell_type": "code",
   "execution_count": 24,
   "id": "01c80339-6250-4f40-9e5d-40a1a409ac7e",
   "metadata": {},
   "outputs": [],
   "source": []
  },
  {
   "cell_type": "code",
   "execution_count": null,
   "id": "21bcb897-bf34-4579-ab6f-57bca9650da7",
   "metadata": {},
   "outputs": [],
   "source": []
  },
  {
   "cell_type": "code",
   "execution_count": null,
   "id": "19d88539-79f3-4160-a5a9-379fd9fa6661",
   "metadata": {},
   "outputs": [],
   "source": []
  },
  {
   "cell_type": "code",
   "execution_count": null,
   "id": "c9729ed4-b972-438b-87c5-e536791de508",
   "metadata": {},
   "outputs": [],
   "source": []
  },
  {
   "cell_type": "code",
   "execution_count": null,
   "id": "d9253020-dbcc-40d6-aed3-55c62ff52dd9",
   "metadata": {},
   "outputs": [],
   "source": []
  },
  {
   "cell_type": "code",
   "execution_count": null,
   "id": "bfea3ef8-6364-4dac-a936-ae224025a08c",
   "metadata": {},
   "outputs": [],
   "source": []
  },
  {
   "cell_type": "code",
   "execution_count": null,
   "id": "d3a84650-3937-4794-b7e9-a0dc11a7f60f",
   "metadata": {},
   "outputs": [],
   "source": []
  },
  {
   "cell_type": "code",
   "execution_count": null,
   "id": "df4e1ed6-2abf-4b55-9680-d62f3790a6c3",
   "metadata": {},
   "outputs": [],
   "source": []
  },
  {
   "cell_type": "code",
   "execution_count": null,
   "id": "e58e7400-04c3-474a-b7a2-54dba291cbdc",
   "metadata": {},
   "outputs": [],
   "source": []
  },
  {
   "cell_type": "code",
   "execution_count": null,
   "id": "e2937528-3862-4d13-8c1e-6810e3ac936f",
   "metadata": {},
   "outputs": [],
   "source": []
  },
  {
   "cell_type": "code",
   "execution_count": null,
   "id": "8b2a4926-8ba8-40da-add5-e123ae60210b",
   "metadata": {},
   "outputs": [],
   "source": []
  },
  {
   "cell_type": "code",
   "execution_count": null,
   "id": "295433d9-f97f-4864-a5db-914a3c8dd1f1",
   "metadata": {},
   "outputs": [],
   "source": []
  },
  {
   "cell_type": "code",
   "execution_count": null,
   "id": "1be6e302-2cde-4443-b4c0-d716a0bed3db",
   "metadata": {},
   "outputs": [],
   "source": []
  },
  {
   "cell_type": "code",
   "execution_count": null,
   "id": "8250a5bf-245f-46df-9661-624674e63537",
   "metadata": {},
   "outputs": [],
   "source": []
  },
  {
   "cell_type": "code",
   "execution_count": null,
   "id": "077f0edb-0062-4095-af91-ce6a35cb161d",
   "metadata": {},
   "outputs": [],
   "source": []
  },
  {
   "cell_type": "code",
   "execution_count": null,
   "id": "44911f1c-4af1-46b9-a47f-3dd74eb2d052",
   "metadata": {},
   "outputs": [],
   "source": []
  },
  {
   "cell_type": "code",
   "execution_count": null,
   "id": "9aaab5c5-6276-497a-b72b-9b0549a10e52",
   "metadata": {},
   "outputs": [],
   "source": []
  },
  {
   "cell_type": "code",
   "execution_count": null,
   "id": "e66be630-4165-499b-8578-00b02a51900f",
   "metadata": {},
   "outputs": [],
   "source": []
  },
  {
   "cell_type": "code",
   "execution_count": null,
   "id": "4e2d9e20-f2bd-462b-961c-2f56cf60ea2c",
   "metadata": {},
   "outputs": [],
   "source": []
  },
  {
   "cell_type": "code",
   "execution_count": null,
   "id": "445af009-dda6-4912-9f13-36b01e6f27de",
   "metadata": {},
   "outputs": [],
   "source": []
  },
  {
   "cell_type": "code",
   "execution_count": null,
   "id": "000f31d6-e24e-491f-a7e3-2ffb587f9dfb",
   "metadata": {},
   "outputs": [],
   "source": []
  },
  {
   "cell_type": "code",
   "execution_count": null,
   "id": "cf803074-17a0-44c2-bba6-b56ea011bf4e",
   "metadata": {},
   "outputs": [],
   "source": []
  },
  {
   "cell_type": "code",
   "execution_count": null,
   "id": "77cb8786-1e42-4c9c-9717-38d28f0db839",
   "metadata": {},
   "outputs": [],
   "source": []
  },
  {
   "cell_type": "code",
   "execution_count": null,
   "id": "e9857685-5483-4995-b2e9-88bd55003985",
   "metadata": {},
   "outputs": [],
   "source": []
  },
  {
   "cell_type": "code",
   "execution_count": null,
   "id": "61569ad2-6e8a-437d-9cdf-8262cbdc8320",
   "metadata": {},
   "outputs": [],
   "source": []
  },
  {
   "cell_type": "code",
   "execution_count": 4,
   "id": "5ab35171-0289-4fdd-83d1-392e05a1964a",
   "metadata": {},
   "outputs": [],
   "source": []
  },
  {
   "cell_type": "code",
   "execution_count": null,
   "id": "546c9490-54e3-4f34-bb35-1069e0d383c0",
   "metadata": {},
   "outputs": [],
   "source": []
  },
  {
   "cell_type": "code",
   "execution_count": null,
   "id": "83a5d1fb-6af9-4123-8153-f26696b208df",
   "metadata": {},
   "outputs": [],
   "source": []
  },
  {
   "cell_type": "code",
   "execution_count": null,
   "id": "26dea88f-09b7-4cb1-ac81-e48cccf8b8f3",
   "metadata": {},
   "outputs": [],
   "source": []
  },
  {
   "cell_type": "code",
   "execution_count": null,
   "id": "6f3ad7ec-8ab5-40a4-9e23-08016e68b38a",
   "metadata": {},
   "outputs": [],
   "source": []
  },
  {
   "cell_type": "code",
   "execution_count": null,
   "id": "14ddffc0-7303-4e67-b83a-96fbb4cbe75c",
   "metadata": {},
   "outputs": [],
   "source": []
  },
  {
   "cell_type": "code",
   "execution_count": null,
   "id": "436b1097-6550-4c84-ab55-6bb3d0f007bb",
   "metadata": {},
   "outputs": [],
   "source": []
  },
  {
   "cell_type": "code",
   "execution_count": null,
   "id": "ec175134-7072-421a-9878-784a18cff877",
   "metadata": {},
   "outputs": [],
   "source": []
  },
  {
   "cell_type": "code",
   "execution_count": null,
   "id": "ab0452b9-77b8-46bf-9730-2aa6fef8d132",
   "metadata": {},
   "outputs": [],
   "source": []
  },
  {
   "cell_type": "code",
   "execution_count": null,
   "id": "96289d7e-a1df-4289-9c24-fa93646e64e5",
   "metadata": {},
   "outputs": [],
   "source": []
  }
 ],
 "metadata": {
  "kernelspec": {
   "display_name": "Python 3",
   "language": "python",
   "name": "python3"
  },
  "language_info": {
   "codemirror_mode": {
    "name": "ipython",
    "version": 3
   },
   "file_extension": ".py",
   "mimetype": "text/x-python",
   "name": "python",
   "nbconvert_exporter": "python",
   "pygments_lexer": "ipython3",
   "version": "3.8.10"
  },
  "widgets": {
   "application/vnd.jupyter.widget-state+json": {
    "state": {},
    "version_major": 2,
    "version_minor": 0
   }
  }
 },
 "nbformat": 4,
 "nbformat_minor": 5
}
