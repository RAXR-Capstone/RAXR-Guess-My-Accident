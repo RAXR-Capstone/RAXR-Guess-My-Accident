{
 "cells": [
  {
   "cell_type": "code",
   "execution_count": 1,
   "id": "0aae6329-344a-4c99-a3b0-a01d0d8b4a5b",
   "metadata": {},
   "outputs": [],
   "source": [
    "import pandas as pd\n",
    "import numpy as np\n",
    "import re\n",
    "import matplotlib.pyplot as plt\n",
    "from matplotlib.style import use; use('/Users/stray/.matplotlib/gruvbox.mplstyle')\n",
    "\n",
    "from prepare import prep_driver_data, prep_vehicle_data, prep_damage_data"
   ]
  },
  {
   "cell_type": "code",
   "execution_count": 2,
   "id": "76753510-d485-4141-b684-9b36451ef7c5",
   "metadata": {},
   "outputs": [],
   "source": [
    "# read in CSV to DataFrame\n",
    "df = pd.read_csv('~/codeup-data-science/project_danger_zone/all_accident_data.csv')\n",
    "df = prep_damage_data(df)\n",
    "df = prep_driver_data(df)\n",
    "df = prep_vehicle_data(df)"
   ]
  },
  {
   "cell_type": "code",
   "execution_count": 80,
   "id": "5aee9b81-0bd6-43cd-af98-64f98c401dd2",
   "metadata": {},
   "outputs": [],
   "source": [
    "df = df[['accident_factor',\n",
    " 'speed_limit',\n",
    " 'num_of_injuries',\n",
    " 'num_of_vehicles',\n",
    " 'num_of_occupants',\n",
    " 'at_fault',\n",
    " 'car_contained_injury',\n",
    " 'traffic_conditions',\n",
    " 'weather_conditions']]"
   ]
  },
  {
   "cell_type": "code",
   "execution_count": 3,
   "id": "b32118a9-5d23-4cf9-9fbe-2f28fdf79d2f",
   "metadata": {},
   "outputs": [],
   "source": [
    "# convert crash_date to datetime dtype and 24-hour clock\n",
    "df.crash_date =  df.crash_date.apply(lambda row: pd.to_datetime(row).strftime('%m/%d/%Y %H:%M'))\n",
    "\n",
    "# remove mph and convert speed_limit column to integer data type\n",
    "df.speed_limit = df.speed_limit.apply(lambda row: re.search(r'(\\D?\\d{1,2}\\s)', row).group(1)).astype('int')\n",
    "# rename speed_limit_mpg for clarity on units\n",
    "df = df.rename(columns={'speed_limit':'speed_limit_mph'})\n",
    "\n",
    "# drop columns\n",
    "df = df.drop(columns=['Unnamed: 0', 'index', 'case_id', 'crash_id', 'crash_city', 'police_dept', 'crash_location', 'driver_residence', 'driver_insured'])"
   ]
  },
  {
   "cell_type": "code",
   "execution_count": null,
   "id": "5b840fce-bdc6-4ebe-9786-e88e2879419c",
   "metadata": {},
   "outputs": [],
   "source": []
  },
  {
   "cell_type": "code",
   "execution_count": null,
   "id": "e2937528-3862-4d13-8c1e-6810e3ac936f",
   "metadata": {},
   "outputs": [],
   "source": []
  },
  {
   "cell_type": "code",
   "execution_count": null,
   "id": "8b2a4926-8ba8-40da-add5-e123ae60210b",
   "metadata": {},
   "outputs": [],
   "source": []
  },
  {
   "cell_type": "code",
   "execution_count": null,
   "id": "295433d9-f97f-4864-a5db-914a3c8dd1f1",
   "metadata": {},
   "outputs": [],
   "source": []
  },
  {
   "cell_type": "code",
   "execution_count": null,
   "id": "44911f1c-4af1-46b9-a47f-3dd74eb2d052",
   "metadata": {},
   "outputs": [],
   "source": []
  },
  {
   "cell_type": "code",
   "execution_count": null,
   "id": "4e2d9e20-f2bd-462b-961c-2f56cf60ea2c",
   "metadata": {},
   "outputs": [],
   "source": []
  },
  {
   "cell_type": "code",
   "execution_count": null,
   "id": "445af009-dda6-4912-9f13-36b01e6f27de",
   "metadata": {},
   "outputs": [],
   "source": []
  },
  {
   "cell_type": "code",
   "execution_count": null,
   "id": "546c9490-54e3-4f34-bb35-1069e0d383c0",
   "metadata": {},
   "outputs": [],
   "source": []
  },
  {
   "cell_type": "code",
   "execution_count": null,
   "id": "83a5d1fb-6af9-4123-8153-f26696b208df",
   "metadata": {},
   "outputs": [],
   "source": []
  },
  {
   "cell_type": "code",
   "execution_count": null,
   "id": "26dea88f-09b7-4cb1-ac81-e48cccf8b8f3",
   "metadata": {},
   "outputs": [],
   "source": []
  },
  {
   "cell_type": "code",
   "execution_count": null,
   "id": "6f3ad7ec-8ab5-40a4-9e23-08016e68b38a",
   "metadata": {},
   "outputs": [],
   "source": []
  },
  {
   "cell_type": "code",
   "execution_count": null,
   "id": "14ddffc0-7303-4e67-b83a-96fbb4cbe75c",
   "metadata": {},
   "outputs": [],
   "source": []
  },
  {
   "cell_type": "code",
   "execution_count": null,
   "id": "436b1097-6550-4c84-ab55-6bb3d0f007bb",
   "metadata": {},
   "outputs": [],
   "source": []
  },
  {
   "cell_type": "code",
   "execution_count": null,
   "id": "ec175134-7072-421a-9878-784a18cff877",
   "metadata": {},
   "outputs": [],
   "source": []
  },
  {
   "cell_type": "code",
   "execution_count": null,
   "id": "ab0452b9-77b8-46bf-9730-2aa6fef8d132",
   "metadata": {},
   "outputs": [],
   "source": []
  },
  {
   "cell_type": "code",
   "execution_count": null,
   "id": "96289d7e-a1df-4289-9c24-fa93646e64e5",
   "metadata": {},
   "outputs": [],
   "source": []
  }
 ],
 "metadata": {
  "kernelspec": {
   "display_name": "Python 3",
   "language": "python",
   "name": "python3"
  },
  "language_info": {
   "codemirror_mode": {
    "name": "ipython",
    "version": 3
   },
   "file_extension": ".py",
   "mimetype": "text/x-python",
   "name": "python",
   "nbconvert_exporter": "python",
   "pygments_lexer": "ipython3",
   "version": "3.8.10"
  },
  "widgets": {
   "application/vnd.jupyter.widget-state+json": {
    "state": {},
    "version_major": 2,
    "version_minor": 0
   }
  }
 },
 "nbformat": 4,
 "nbformat_minor": 5
}
