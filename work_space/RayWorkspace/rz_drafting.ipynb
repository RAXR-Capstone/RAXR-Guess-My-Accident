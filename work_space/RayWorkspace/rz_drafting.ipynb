{
 "cells": [
  {
   "cell_type": "code",
   "execution_count": 1,
   "id": "0aae6329-344a-4c99-a3b0-a01d0d8b4a5b",
   "metadata": {},
   "outputs": [],
   "source": [
    "import pandas as pd\n",
    "import numpy as np\n",
    "import re\n",
    "import matplotlib.pyplot as plt\n",
    "import seaborn as sns\n",
    "from matplotlib.style import use; use('/Users/stray/.matplotlib/gruvbox.mplstyle')\n",
    "\n",
    "from prepare import prep_collision_data"
   ]
  },
  {
   "cell_type": "code",
   "execution_count": 2,
   "id": "76753510-d485-4141-b684-9b36451ef7c5",
   "metadata": {},
   "outputs": [],
   "source": [
    "df = prep_collision_data()"
   ]
  },
  {
   "cell_type": "code",
   "execution_count": 3,
   "id": "c4a3d28e-a569-4a4f-87f4-a6beb6abae28",
   "metadata": {},
   "outputs": [
    {
     "name": "stdout",
     "output_type": "stream",
     "text": [
      "                                                                      0\n",
      "Unnamed: 0                                                            0\n",
      "index                                                                 0\n",
      "crash_url             https://app.myaccident.org/accident/0000281836...\n",
      "crash_id                                                       18365140\n",
      "crash_date                                             07/12/2021 19:00\n",
      "crash_latitude                                                29.416846\n",
      "crash_longitude                                              -98.409521\n",
      "fault_narrative                                 new flyer turned unsafe\n",
      "speed_limit_mph                                                      30\n",
      "injury_count_total                                                    0\n",
      "num_of_vehicles                                                       2\n",
      "num_of_occupants                                                      2\n",
      "fault_reported                                                        1\n",
      "car_contained_injury                                                  0\n",
      "vehicle_make                                                      other\n",
      "vehicle_year                                                       2006\n",
      "vehicle_color                                                      blue\n",
      "vehicle_id                                            5FYD*********0945\n",
      "driver_age                                                           63\n",
      "driver_male                                                           1\n",
      "driver_race                                                       black\n",
      "dl_state                                                          other\n",
      "conditions_road                                               stop sign\n",
      "conditions_weather                                                clear\n",
      "dl_cdl                                                                1\n",
      "dl_unlicensed                                                         0\n",
      "dl_class_a                                                            0\n",
      "dl_class_b                                                            1\n",
      "dl_class_m                                                            0\n",
      "vehicle_dmg_zone                                                      5\n",
      "concentrated_damage                                                   0\n",
      "distributed_damage                                                    0\n",
      "rollover_damage                                                       0\n",
      "vehicle_burned                                                        0\n",
      "fault_distraction                                                     0\n",
      "fault_maneuver                                                        1\n",
      "fault_speed                                                           0\n",
      "fault_intoxication                                                    0\n",
      "fault_fatigue                                                         0\n",
      "fault_yield                                                           0\n"
     ]
    }
   ],
   "source": [
    "print(df.head(1).T)"
   ]
  },
  {
   "cell_type": "code",
   "execution_count": null,
   "id": "59d331f2-8d1c-437e-bb4e-d54085c3376e",
   "metadata": {},
   "outputs": [],
   "source": []
  }
 ],
 "metadata": {
  "kernelspec": {
   "display_name": "Python 3",
   "language": "python",
   "name": "python3"
  },
  "language_info": {
   "codemirror_mode": {
    "name": "ipython",
    "version": 3
   },
   "file_extension": ".py",
   "mimetype": "text/x-python",
   "name": "python",
   "nbconvert_exporter": "python",
   "pygments_lexer": "ipython3",
   "version": "3.8.10"
  },
  "widgets": {
   "application/vnd.jupyter.widget-state+json": {
    "state": {},
    "version_major": 2,
    "version_minor": 0
   }
  }
 },
 "nbformat": 4,
 "nbformat_minor": 5
}
