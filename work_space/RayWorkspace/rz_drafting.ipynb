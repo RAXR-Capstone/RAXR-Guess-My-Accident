{
 "cells": [
  {
   "cell_type": "code",
   "execution_count": 63,
   "id": "0aae6329-344a-4c99-a3b0-a01d0d8b4a5b",
   "metadata": {},
   "outputs": [],
   "source": [
    "import pandas as pd\n",
    "import re\n",
    "import matplotlib.pyplot as plt\n",
    "from matplotlib.style import use; use('/Users/stray/.matplotlib/gruvbox.mplstyle')"
   ]
  },
  {
   "cell_type": "code",
   "execution_count": 600,
   "id": "b32118a9-5d23-4cf9-9fbe-2f28fdf79d2f",
   "metadata": {},
   "outputs": [],
   "source": [
    "# read in CSV to DataFrame\n",
    "df = pd.read_csv('all_accident_data.csv')\n",
    "\n",
    "\n",
    "# # replaces non numerical values and transforms dtype to int\n",
    "# df.car_year = df.car_year.apply(lambda row: re.sub(r'\\s?(\\d{4})(.0)?', r'\\1', str(row)))\n",
    "# df.car_year = df.car_year.apply(lambda row: re.sub(r'(\\s*[A-Z\\sa-z]+\\s*)', r'-1', str(row)))\n",
    "# df.car_year = df.car_year.astype('int')\n",
    "\n",
    "\n",
    "\n",
    "\n",
    "\n",
    "\n",
    "# drop columns\n",
    "df = df.drop(columns=['Unnamed: 0', 'crash_city', 'police_dept', 'driver_residence', 'index', 'case_id', 'crash_id', 'driver_insured'])"
   ]
  },
  {
   "cell_type": "code",
   "execution_count": 446,
   "id": "5b840fce-bdc6-4ebe-9786-e88e2879419c",
   "metadata": {},
   "outputs": [],
   "source": [
    "# replaces Xs with *s in VIN for improved use with NTHSA cross reference\n",
    "df.car_vin = df.car_vin.apply(lambda row: re.sub(r'(\\w{4})X{9}(\\d{4})', r'\\1*********\\2', row))\n",
    "# set mask for appropriate VIN values\n",
    "mask = df.car_vin.apply(lambda row: bool(re.search(r'(\\w{4})\\*{9}(\\d{4})', row)))\n",
    "# replace inappropriate VIN values with \"Unknown\"\n",
    "df.car_vin = np.where(df.car_vin.isin(df[mask].car_vin), df.car_vin, np.nan)"
   ]
  },
  {
   "cell_type": "code",
   "execution_count": 460,
   "id": "e2937528-3862-4d13-8c1e-6810e3ac936f",
   "metadata": {},
   "outputs": [],
   "source": [
    "# convert crash_date to datetime dtype and 24-hour clock\n",
    "df.crash_date =  df.crash_date.apply(lambda row: pd.to_datetime(row).strftime('%m/%d/%Y %H:%M'))"
   ]
  },
  {
   "cell_type": "code",
   "execution_count": 542,
   "id": "66682964-47cf-4969-8487-7a9a06f30a72",
   "metadata": {},
   "outputs": [
    {
     "data": {
      "text/plain": [
       "Index(['crash_url', 'crash_date', 'crash_latitude', 'crash_longitude',\n",
       "       'accident_factor', 'speed_limit', 'crash_location', 'num_of_injuries',\n",
       "       'num_of_vehicles', 'num_of_occupants', 'at_fault',\n",
       "       'car_contained_injury', 'car_make', 'car_year', 'car_color', 'car_vin',\n",
       "       'driver_age', 'driver_gender', 'driver_ethnicity', 'driver_car_damage',\n",
       "       'driver_license_type', 'driver_license_state', 'traffic_conditions',\n",
       "       'weather_conditions'],\n",
       "      dtype='object')"
      ]
     },
     "execution_count": 542,
     "metadata": {},
     "output_type": "execute_result"
    }
   ],
   "source": [
    "df.columns"
   ]
  },
  {
   "cell_type": "code",
   "execution_count": 597,
   "id": "5aee9b81-0bd6-43cd-af98-64f98c401dd2",
   "metadata": {},
   "outputs": [
    {
     "data": {
      "text/plain": [
       "Driver license, class c                       7704\n",
       "NaN                                           2478\n",
       "Unknown, unknown                              1845\n",
       "Id card, unlicensed                            670\n",
       "Driver license, other/out of state             552\n",
       "Unlicensed, unlicensed                         469\n",
       "Undefined, undefined                           339\n",
       "Driver license, class c and m                  217\n",
       "Unknown                                        199\n",
       "Commercial driver lic., class a                183\n",
       "Driver license, class a                        138\n",
       "Driver license, class b                         59\n",
       "Commercial driver lic., class b                 56\n",
       "Commercial driver lic., other/out of state      45\n",
       "Other, other/out of state                       42\n",
       "Commercial driver lic., class a and m           28\n",
       "Driver license, class a and m                   23\n",
       "Driver license, class b and m                   16\n",
       "Commercial driver lic., class c                 16\n",
       "Driver license, unlicensed                      12\n",
       "Commercial driver lic., class b and m            7\n",
       "Occupational, class c                            6\n",
       "Other, class c                                   6\n",
       "Commercial driver lic., class c and m            4\n",
       "Driver license, class m                          2\n",
       "Driver license, unknown                          2\n",
       "Other, unlicensed                                1\n",
       "Commercial driver lic., unknown                  1\n",
       "Name: driver_license_type, dtype: int64"
      ]
     },
     "execution_count": 597,
     "metadata": {},
     "output_type": "execute_result"
    }
   ],
   "source": []
  },
  {
   "cell_type": "code",
   "execution_count": null,
   "id": "8b2a4926-8ba8-40da-add5-e123ae60210b",
   "metadata": {},
   "outputs": [],
   "source": []
  },
  {
   "cell_type": "code",
   "execution_count": null,
   "id": "295433d9-f97f-4864-a5db-914a3c8dd1f1",
   "metadata": {},
   "outputs": [],
   "source": []
  },
  {
   "cell_type": "code",
   "execution_count": null,
   "id": "44911f1c-4af1-46b9-a47f-3dd74eb2d052",
   "metadata": {},
   "outputs": [],
   "source": []
  },
  {
   "cell_type": "code",
   "execution_count": null,
   "id": "4e2d9e20-f2bd-462b-961c-2f56cf60ea2c",
   "metadata": {},
   "outputs": [],
   "source": []
  },
  {
   "cell_type": "code",
   "execution_count": null,
   "id": "445af009-dda6-4912-9f13-36b01e6f27de",
   "metadata": {},
   "outputs": [],
   "source": []
  },
  {
   "cell_type": "code",
   "execution_count": null,
   "id": "546c9490-54e3-4f34-bb35-1069e0d383c0",
   "metadata": {},
   "outputs": [],
   "source": []
  },
  {
   "cell_type": "code",
   "execution_count": null,
   "id": "83a5d1fb-6af9-4123-8153-f26696b208df",
   "metadata": {},
   "outputs": [],
   "source": []
  },
  {
   "cell_type": "code",
   "execution_count": null,
   "id": "26dea88f-09b7-4cb1-ac81-e48cccf8b8f3",
   "metadata": {},
   "outputs": [],
   "source": []
  },
  {
   "cell_type": "code",
   "execution_count": null,
   "id": "6f3ad7ec-8ab5-40a4-9e23-08016e68b38a",
   "metadata": {},
   "outputs": [],
   "source": []
  },
  {
   "cell_type": "code",
   "execution_count": null,
   "id": "14ddffc0-7303-4e67-b83a-96fbb4cbe75c",
   "metadata": {},
   "outputs": [],
   "source": []
  },
  {
   "cell_type": "code",
   "execution_count": null,
   "id": "436b1097-6550-4c84-ab55-6bb3d0f007bb",
   "metadata": {},
   "outputs": [],
   "source": []
  },
  {
   "cell_type": "code",
   "execution_count": null,
   "id": "ec175134-7072-421a-9878-784a18cff877",
   "metadata": {},
   "outputs": [],
   "source": []
  }
 ],
 "metadata": {
  "kernelspec": {
   "display_name": "Python 3",
   "language": "python",
   "name": "python3"
  },
  "language_info": {
   "codemirror_mode": {
    "name": "ipython",
    "version": 3
   },
   "file_extension": ".py",
   "mimetype": "text/x-python",
   "name": "python",
   "nbconvert_exporter": "python",
   "pygments_lexer": "ipython3",
   "version": "3.8.10"
  },
  "widgets": {
   "application/vnd.jupyter.widget-state+json": {
    "state": {},
    "version_major": 2,
    "version_minor": 0
   }
  }
 },
 "nbformat": 4,
 "nbformat_minor": 5
}
